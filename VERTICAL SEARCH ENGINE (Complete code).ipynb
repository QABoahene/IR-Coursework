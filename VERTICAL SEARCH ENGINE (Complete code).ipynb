{
 "cells": [
  {
   "cell_type": "markdown",
   "metadata": {},
   "source": [
    "# RSS NEWS FEED VERTICAL SEARCH ENGINE"
   ]
  },
  {
   "cell_type": "markdown",
   "metadata": {},
   "source": [
    "The goal here is to build a vertical search engine from an RSS feed. The vertical search engine would be built using three process which are: Crawling, Indexing and Query Processing. There are some other processes involved in building a vertical search engine like link analysis, ranking, tokenizing, etc. But we will be focusing on the three mentioned to build a simple vertical search engine.  \n",
    "\n",
    "Before we get into building it, here are some technical terms and theor definitions.\n",
    "- Vertical Search Engine: This is basically a search engine which focuses in a certain area specifically.\n",
    "- RSS feed: it is a type of web feed which allows users and applications to access updates to websites in a standardized, computer-readable format.(Wikipedia)\n",
    "- Crawling (Web crawling): a software robot that crawls, traverses, parses and downloads pages on the web.\n",
    "- Indexing: It is defined as a data structure technique which allows you to quickly retrieve records from a database file. It is based on the same attributes on which the Indices has been done. An index. Takes a search key as input. Efficiently returns a collection of matching records.\n",
    "- Query processing: It is a translation of high-level queries into low-level expression. It is a step wise process that can be used at the physical level of the file system, query optimization and actual execution of the query to get the result. It requires the basic concepts of relational algebra and file structure.\n"
   ]
  },
  {
   "cell_type": "markdown",
   "metadata": {},
   "source": [
    "We are dealing with RSS feeds which are updated whenever there is a news update, considering this; it means we are dealing with huge sums of documents or data. Due to the ever changing or updating nature of our dataset, automation of the crawler is important. \n",
    "First, we crawl for one rss feed then we automate the crawler for more RSS feeds\n",
    "- Yahoo: https://www.yahoo.com/news/world/rss\n",
    "- Google: https://news.google.com/rss?hl=en-US&gl=US&ceid=US:en&x=1571747254.2933\n",
    "- BBC: http://feeds.bbci.co.uk/news/world/rss.xml\n",
    "- The Guardian: https://www.theguardian.com/world/rss\n",
    "- Al Jazeeera: http://www.aljazeera.com/xml/rss/all.xml\n",
    "- Buzzfeed: https://www.buzzfeed.com/world.xml\n",
    "- Washington Post: http://feeds.washingtonpost.com/rss/world\n",
    "- New York Times:https://www.nytimes.com/svc/collections/v1/publish/https://www.nytimes.com/section/world/rss.xml"
   ]
  },
  {
   "cell_type": "markdown",
   "metadata": {},
   "source": [
    "## A. Crawler"
   ]
  },
  {
   "cell_type": "markdown",
   "metadata": {},
   "source": [
    "Before we crawl from websites, it is important to check the websites you're crawling from to see what you're allowed to crawl and what you're not allowed to crawl from the website. \n",
    "You can see this information by adding '/robots.txt'to the website links you're crawling from."
   ]
  },
  {
   "cell_type": "code",
   "execution_count": 237,
   "metadata": {},
   "outputs": [
    {
     "data": {
      "text/plain": [
       "\"The 'Feedparser' package is a python module for \\ndownloading and parsing syndicated feeds. It can handle various RSS, Atom \\nand CDF feeds\""
      ]
     },
     "execution_count": 237,
     "metadata": {},
     "output_type": "execute_result"
    }
   ],
   "source": [
    "import feedparser\n",
    "import pandas as pd\n",
    "'''The 'Feedparser' package is a python module for \n",
    "downloading and parsing syndicated feeds. It can handle various RSS, Atom \n",
    "and CDF feeds''' "
   ]
  },
  {
   "cell_type": "code",
   "execution_count": 238,
   "metadata": {},
   "outputs": [
    {
     "name": "stdout",
     "output_type": "stream",
     "text": [
      "There are 10 news in the RSS feed.\n"
     ]
    }
   ],
   "source": [
    "LINK = \"https://www.nytimes.com/svc/collections/v1/publish/https://www.nytimes.com/section/world/rss.xml\"\n",
    "feed = feedparser.parse(LINK)\n",
    "\n",
    "feed_len = len(feed.entries) #This extracts the number of news in feed\n",
    "old_news = 0  # This shows the count of news in the RSS feed that is already scraped\n",
    "\n",
    "print(\"There are {} news in the RSS feed.\" .format(feed_len))"
   ]
  },
  {
   "cell_type": "markdown",
   "metadata": {},
   "source": [
    "We find the number of news articles currently on the RSS feed as we are crawling and also the number of news articles that has been previously scraped due to a previous iteration of the crawler. This will help us to automatically adjust the frequency with which crawling would be carried out to scrape the link(s) for new information or news article updates."
   ]
  },
  {
   "cell_type": "code",
   "execution_count": 239,
   "metadata": {},
   "outputs": [
    {
     "data": {
      "text/html": [
       "<div>\n",
       "<style scoped>\n",
       "    .dataframe tbody tr th:only-of-type {\n",
       "        vertical-align: middle;\n",
       "    }\n",
       "\n",
       "    .dataframe tbody tr th {\n",
       "        vertical-align: top;\n",
       "    }\n",
       "\n",
       "    .dataframe thead th {\n",
       "        text-align: right;\n",
       "    }\n",
       "</style>\n",
       "<table border=\"1\" class=\"dataframe\">\n",
       "  <thead>\n",
       "    <tr style=\"text-align: right;\">\n",
       "      <th></th>\n",
       "      <th>ID</th>\n",
       "      <th>Title</th>\n",
       "      <th>Summary</th>\n",
       "      <th>Link</th>\n",
       "      <th>Published</th>\n",
       "    </tr>\n",
       "  </thead>\n",
       "  <tbody>\n",
       "    <tr>\n",
       "      <th>0</th>\n",
       "      <td>1</td>\n",
       "      <td>New Strawberry-Flavored H.I.V. Drugs for Babie...</td>\n",
       "      <td>Thousands of infants are doomed to early death...</td>\n",
       "      <td>https://www.nytimes.com/2019/11/29/health/AIDS...</td>\n",
       "      <td>29/11/2019</td>\n",
       "    </tr>\n",
       "    <tr>\n",
       "      <th>1</th>\n",
       "      <td>2</td>\n",
       "      <td>Iraq Prime Minister Says He Will Resign Amid P...</td>\n",
       "      <td>The announcement comes after demonstrators set...</td>\n",
       "      <td>https://www.nytimes.com/2019/11/29/world/middl...</td>\n",
       "      <td>29/11/2019</td>\n",
       "    </tr>\n",
       "    <tr>\n",
       "      <th>2</th>\n",
       "      <td>3</td>\n",
       "      <td>Brad Gobright, Renowned Rock Climber, Is Dead ...</td>\n",
       "      <td>The American free solo climber, one of the wor...</td>\n",
       "      <td>https://www.nytimes.com/2019/11/29/world/ameri...</td>\n",
       "      <td>29/11/2019</td>\n",
       "    </tr>\n",
       "    <tr>\n",
       "      <th>3</th>\n",
       "      <td>4</td>\n",
       "      <td>Afghanistan, Black Friday, Pete Buttigieg: You...</td>\n",
       "      <td>Here's what you need to know.</td>\n",
       "      <td>https://www.nytimes.com/2019/11/29/briefing/af...</td>\n",
       "      <td>29/11/2019</td>\n",
       "    </tr>\n",
       "    <tr>\n",
       "      <th>4</th>\n",
       "      <td>5</td>\n",
       "      <td>Warming Waters, Moving Fish: How Climate Chang...</td>\n",
       "      <td>Ocean temperatures are on the rise and warming...</td>\n",
       "      <td>https://www.nytimes.com/2019/11/29/climate/cli...</td>\n",
       "      <td>29/11/2019</td>\n",
       "    </tr>\n",
       "  </tbody>\n",
       "</table>\n",
       "</div>"
      ],
      "text/plain": [
       "   ID                                              Title  \\\n",
       "0   1  New Strawberry-Flavored H.I.V. Drugs for Babie...   \n",
       "1   2  Iraq Prime Minister Says He Will Resign Amid P...   \n",
       "2   3  Brad Gobright, Renowned Rock Climber, Is Dead ...   \n",
       "3   4  Afghanistan, Black Friday, Pete Buttigieg: You...   \n",
       "4   5  Warming Waters, Moving Fish: How Climate Chang...   \n",
       "\n",
       "                                             Summary  \\\n",
       "0  Thousands of infants are doomed to early death...   \n",
       "1  The announcement comes after demonstrators set...   \n",
       "2  The American free solo climber, one of the wor...   \n",
       "3                      Here's what you need to know.   \n",
       "4  Ocean temperatures are on the rise and warming...   \n",
       "\n",
       "                                                Link   Published  \n",
       "0  https://www.nytimes.com/2019/11/29/health/AIDS...  29/11/2019  \n",
       "1  https://www.nytimes.com/2019/11/29/world/middl...  29/11/2019  \n",
       "2  https://www.nytimes.com/2019/11/29/world/ameri...  29/11/2019  \n",
       "3  https://www.nytimes.com/2019/11/29/briefing/af...  29/11/2019  \n",
       "4  https://www.nytimes.com/2019/11/29/climate/cli...  29/11/2019  "
      ]
     },
     "execution_count": 239,
     "metadata": {},
     "output_type": "execute_result"
    }
   ],
   "source": [
    "final_data = pd.read_csv(\"articles.csv\", index_col = 'Unnamed: 0')\n",
    "#final_data = pd.DataFrame(columns=['ID', 'Title', 'Summary', 'Link', 'Published'])\n",
    "final_data.head()"
   ]
  },
  {
   "cell_type": "markdown",
   "metadata": {},
   "source": [
    "After crawling from the RSS feed, we see that we have 36 news articles. With this, the information from this RSS feed is in a semi-structured format, we can save the 36 entries in a dataframe under titles which we will later use. We create a dataframe which saves the information crawled under the titles 'ID', 'Title', 'Link', 'Summary' and 'Published'(Date article was published).\n",
    "We then store the document as a .csv file \n",
    "*NB: Comment out the data saving part."
   ]
  },
  {
   "cell_type": "code",
   "execution_count": 240,
   "metadata": {},
   "outputs": [],
   "source": [
    "def article_entry(entry, ID):\n",
    "  ID = ID\n",
    "  Title = entry.title\n",
    "  Summary = entry.summary\n",
    "  Link = entry.link\n",
    "  Published = str(entry.published_parsed.tm_mday) + '/' + \\\n",
    "              str(entry.published_parsed.tm_mon) + '/' + \\\n",
    "              str(entry.published_parsed.tm_year)\n",
    "  return [ID, Title, Summary, Link, Published]"
   ]
  },
  {
   "cell_type": "markdown",
   "metadata": {},
   "source": [
    "Now we create a function that will accept entries from the feed and then parse it to the list with title, link and date published. A unique ID is then assigned to the entry which also denotes when the entry was scraped and entered to our vertical search engine.\n",
    "We then test it on one entry from the feed."
   ]
  },
  {
   "cell_type": "code",
   "execution_count": 241,
   "metadata": {},
   "outputs": [
    {
     "data": {
      "text/plain": [
       "[1,\n",
       " 'The Best Movies and TV Shows New on Netflix Canada in December',\n",
       " 'New additions include “Marriage Story,” “All the Money in the World\" and “The Witcher.”',\n",
       " 'https://www.nytimes.com/2019/11/29/world/canada/Netflix-Canada-December.html',\n",
       " '29/11/2019']"
      ]
     },
     "execution_count": 241,
     "metadata": {},
     "output_type": "execute_result"
    }
   ],
   "source": [
    "test_entry = feed.entries[0]\n",
    "article_entry(test_entry, 1)"
   ]
  },
  {
   "cell_type": "markdown",
   "metadata": {},
   "source": [
    "With the output above, we see that the title for the article in the RSS feed is given along with a summary, link and the date it was published."
   ]
  },
  {
   "cell_type": "code",
   "execution_count": 242,
   "metadata": {},
   "outputs": [],
   "source": [
    "data = [] #This creates a dataframe for saving the entries\n",
    "n = len(final_data)+1 #This shows the ID value based on the highest ID value in database\n",
    "for i in range(len(feed.entries)):\n",
    "  entry = feed.entries[i]\n",
    "  \n",
    "  #check that link isn't in the database yet\n",
    "  if entry.link not in final_data['Link'].values:\n",
    "    processed = article_entry(entry = entry, ID=n)\n",
    "    data.append(processed)\n",
    "    n += 1 #increase the ID value\n",
    "  else: old_news += 1 #count already scraped entries"
   ]
  },
  {
   "cell_type": "markdown",
   "metadata": {},
   "source": [
    "After it works for one article, we apply it to the whole dataset with the documents."
   ]
  },
  {
   "cell_type": "code",
   "execution_count": 243,
   "metadata": {},
   "outputs": [],
   "source": [
    "if len(data) > 0:\n",
    "  #transform data to pandas DataFrame\n",
    "  news_extracted = pd.DataFrame(data, columns=['ID', 'Title', 'Summary', 'Link', 'Published'])\n",
    "\n",
    "  #add new news to the database\n",
    "  final_data = pd.concat([final_data, news_extracted], axis = 0)\n",
    "\n",
    "  #write database to a csv file\n",
    "  final_data.to_csv(\"articles.csv\")"
   ]
  },
  {
   "cell_type": "markdown",
   "metadata": {},
   "source": [
    "Wrap this in function for use in the URL for loop. Database is path to articles.csv file"
   ]
  },
  {
   "cell_type": "code",
   "execution_count": 244,
   "metadata": {},
   "outputs": [],
   "source": [
    "def crawl(Link, articles):\n",
    "  feed = feedparser.parse(Link)\n",
    "  final_data = pd.read_csv('articles.csv', index_col=\"Unnamed: 0\")\n",
    "  data = [] #This creates a dataframe for saving the entries\n",
    "  n = len(final_data)+1 #This shows the ID value based on the highest ID value in database\n",
    "  for i in range(len(feed.entries)):\n",
    "    entry = feed.entries[i]\n",
    "    \n",
    "    #check that link isn't in the database yet\n",
    "    if entry.link not in final_data['Link'].values:\n",
    "      processed = article_entry(entry = entry, ID=n)\n",
    "      data.append(processed)\n",
    "      n += 1 #increase the ID value\n",
    "  if len(data) > 0:\n",
    "    #transform data to pandas DataFrame\n",
    "    news_extracted = pd.DataFrame(data, columns=['ID', 'Title', 'Summary', 'Link', 'Published'])\n",
    "\n",
    "    #add new news to the database\n",
    "    final_data = pd.concat([final_data, news_extracted], axis = 0)\n",
    "\n",
    "    #write database to a csv file\n",
    "    final_data.to_csv(\"articles.csv\")\n",
    "\n",
    "    return news_extracted\n",
    "  else: \n",
    "    return []"
   ]
  },
  {
   "cell_type": "code",
   "execution_count": 245,
   "metadata": {},
   "outputs": [
    {
     "data": {
      "text/html": [
       "<div>\n",
       "<style scoped>\n",
       "    .dataframe tbody tr th:only-of-type {\n",
       "        vertical-align: middle;\n",
       "    }\n",
       "\n",
       "    .dataframe tbody tr th {\n",
       "        vertical-align: top;\n",
       "    }\n",
       "\n",
       "    .dataframe thead th {\n",
       "        text-align: right;\n",
       "    }\n",
       "</style>\n",
       "<table border=\"1\" class=\"dataframe\">\n",
       "  <thead>\n",
       "    <tr style=\"text-align: right;\">\n",
       "      <th></th>\n",
       "      <th>ID</th>\n",
       "      <th>Title</th>\n",
       "      <th>Summary</th>\n",
       "      <th>Link</th>\n",
       "      <th>Published</th>\n",
       "    </tr>\n",
       "  </thead>\n",
       "  <tbody>\n",
       "    <tr>\n",
       "      <th>0</th>\n",
       "      <td>1</td>\n",
       "      <td>New Strawberry-Flavored H.I.V. Drugs for Babie...</td>\n",
       "      <td>Thousands of infants are doomed to early death...</td>\n",
       "      <td>https://www.nytimes.com/2019/11/29/health/AIDS...</td>\n",
       "      <td>29/11/2019</td>\n",
       "    </tr>\n",
       "    <tr>\n",
       "      <th>1</th>\n",
       "      <td>2</td>\n",
       "      <td>Iraq Prime Minister Says He Will Resign Amid P...</td>\n",
       "      <td>The announcement comes after demonstrators set...</td>\n",
       "      <td>https://www.nytimes.com/2019/11/29/world/middl...</td>\n",
       "      <td>29/11/2019</td>\n",
       "    </tr>\n",
       "    <tr>\n",
       "      <th>2</th>\n",
       "      <td>3</td>\n",
       "      <td>Brad Gobright, Renowned Rock Climber, Is Dead ...</td>\n",
       "      <td>The American free solo climber, one of the wor...</td>\n",
       "      <td>https://www.nytimes.com/2019/11/29/world/ameri...</td>\n",
       "      <td>29/11/2019</td>\n",
       "    </tr>\n",
       "    <tr>\n",
       "      <th>3</th>\n",
       "      <td>4</td>\n",
       "      <td>Afghanistan, Black Friday, Pete Buttigieg: You...</td>\n",
       "      <td>Here's what you need to know.</td>\n",
       "      <td>https://www.nytimes.com/2019/11/29/briefing/af...</td>\n",
       "      <td>29/11/2019</td>\n",
       "    </tr>\n",
       "    <tr>\n",
       "      <th>4</th>\n",
       "      <td>5</td>\n",
       "      <td>Warming Waters, Moving Fish: How Climate Chang...</td>\n",
       "      <td>Ocean temperatures are on the rise and warming...</td>\n",
       "      <td>https://www.nytimes.com/2019/11/29/climate/cli...</td>\n",
       "      <td>29/11/2019</td>\n",
       "    </tr>\n",
       "  </tbody>\n",
       "</table>\n",
       "</div>"
      ],
      "text/plain": [
       "   ID                                              Title  \\\n",
       "0   1  New Strawberry-Flavored H.I.V. Drugs for Babie...   \n",
       "1   2  Iraq Prime Minister Says He Will Resign Amid P...   \n",
       "2   3  Brad Gobright, Renowned Rock Climber, Is Dead ...   \n",
       "3   4  Afghanistan, Black Friday, Pete Buttigieg: You...   \n",
       "4   5  Warming Waters, Moving Fish: How Climate Chang...   \n",
       "\n",
       "                                             Summary  \\\n",
       "0  Thousands of infants are doomed to early death...   \n",
       "1  The announcement comes after demonstrators set...   \n",
       "2  The American free solo climber, one of the wor...   \n",
       "3                      Here's what you need to know.   \n",
       "4  Ocean temperatures are on the rise and warming...   \n",
       "\n",
       "                                                Link   Published  \n",
       "0  https://www.nytimes.com/2019/11/29/health/AIDS...  29/11/2019  \n",
       "1  https://www.nytimes.com/2019/11/29/world/middl...  29/11/2019  \n",
       "2  https://www.nytimes.com/2019/11/29/world/ameri...  29/11/2019  \n",
       "3  https://www.nytimes.com/2019/11/29/briefing/af...  29/11/2019  \n",
       "4  https://www.nytimes.com/2019/11/29/climate/cli...  29/11/2019  "
      ]
     },
     "execution_count": 245,
     "metadata": {},
     "output_type": "execute_result"
    }
   ],
   "source": [
    "final_data.head(5)"
   ]
  },
  {
   "cell_type": "code",
   "execution_count": 246,
   "metadata": {},
   "outputs": [
    {
     "data": {
      "text/html": [
       "<div>\n",
       "<style scoped>\n",
       "    .dataframe tbody tr th:only-of-type {\n",
       "        vertical-align: middle;\n",
       "    }\n",
       "\n",
       "    .dataframe tbody tr th {\n",
       "        vertical-align: top;\n",
       "    }\n",
       "\n",
       "    .dataframe thead th {\n",
       "        text-align: right;\n",
       "    }\n",
       "</style>\n",
       "<table border=\"1\" class=\"dataframe\">\n",
       "  <thead>\n",
       "    <tr style=\"text-align: right;\">\n",
       "      <th></th>\n",
       "      <th>ID</th>\n",
       "      <th>Title</th>\n",
       "      <th>Summary</th>\n",
       "      <th>Link</th>\n",
       "      <th>Published</th>\n",
       "    </tr>\n",
       "  </thead>\n",
       "  <tbody>\n",
       "    <tr>\n",
       "      <th>4</th>\n",
       "      <td>282</td>\n",
       "      <td>Thanksgiving mall hours 2019: When do N.J. mal...</td>\n",
       "      <td>&lt;ol&gt;&lt;li&gt;&lt;a href=\"https://news.google.com/__i/r...</td>\n",
       "      <td>https://news.google.com/__i/rss/rd/articles/CB...</td>\n",
       "      <td>28/11/2019</td>\n",
       "    </tr>\n",
       "    <tr>\n",
       "      <th>5</th>\n",
       "      <td>283</td>\n",
       "      <td>This $1349 HP laptop is now just $499 on Black...</td>\n",
       "      <td>&lt;ol&gt;&lt;li&gt;&lt;a href=\"https://news.google.com/__i/r...</td>\n",
       "      <td>https://news.google.com/__i/rss/rd/articles/CB...</td>\n",
       "      <td>29/11/2019</td>\n",
       "    </tr>\n",
       "    <tr>\n",
       "      <th>6</th>\n",
       "      <td>284</td>\n",
       "      <td>CDC to send experts to Samoa as death toll fro...</td>\n",
       "      <td>&lt;ol&gt;&lt;li&gt;&lt;a href=\"https://news.google.com/__i/r...</td>\n",
       "      <td>https://news.google.com/__i/rss/rd/articles/CB...</td>\n",
       "      <td>27/11/2019</td>\n",
       "    </tr>\n",
       "    <tr>\n",
       "      <th>0</th>\n",
       "      <td>285</td>\n",
       "      <td>The Best Movies and TV Shows New on Netflix Ca...</td>\n",
       "      <td>New additions include “Marriage Story,” “All t...</td>\n",
       "      <td>https://www.nytimes.com/2019/11/29/world/canad...</td>\n",
       "      <td>29/11/2019</td>\n",
       "    </tr>\n",
       "    <tr>\n",
       "      <th>1</th>\n",
       "      <td>286</td>\n",
       "      <td>Sudan Overturns Moral Policing Law and Disband...</td>\n",
       "      <td>The announcements by the country’s transitiona...</td>\n",
       "      <td>https://www.nytimes.com/2019/11/29/world/afric...</td>\n",
       "      <td>29/11/2019</td>\n",
       "    </tr>\n",
       "  </tbody>\n",
       "</table>\n",
       "</div>"
      ],
      "text/plain": [
       "    ID                                              Title  \\\n",
       "4  282  Thanksgiving mall hours 2019: When do N.J. mal...   \n",
       "5  283  This $1349 HP laptop is now just $499 on Black...   \n",
       "6  284  CDC to send experts to Samoa as death toll fro...   \n",
       "0  285  The Best Movies and TV Shows New on Netflix Ca...   \n",
       "1  286  Sudan Overturns Moral Policing Law and Disband...   \n",
       "\n",
       "                                             Summary  \\\n",
       "4  <ol><li><a href=\"https://news.google.com/__i/r...   \n",
       "5  <ol><li><a href=\"https://news.google.com/__i/r...   \n",
       "6  <ol><li><a href=\"https://news.google.com/__i/r...   \n",
       "0  New additions include “Marriage Story,” “All t...   \n",
       "1  The announcements by the country’s transitiona...   \n",
       "\n",
       "                                                Link   Published  \n",
       "4  https://news.google.com/__i/rss/rd/articles/CB...  28/11/2019  \n",
       "5  https://news.google.com/__i/rss/rd/articles/CB...  29/11/2019  \n",
       "6  https://news.google.com/__i/rss/rd/articles/CB...  27/11/2019  \n",
       "0  https://www.nytimes.com/2019/11/29/world/canad...  29/11/2019  \n",
       "1  https://www.nytimes.com/2019/11/29/world/afric...  29/11/2019  "
      ]
     },
     "execution_count": 246,
     "metadata": {},
     "output_type": "execute_result"
    }
   ],
   "source": [
    "final_data.tail(5)"
   ]
  },
  {
   "cell_type": "code",
   "execution_count": 247,
   "metadata": {},
   "outputs": [
    {
     "name": "stdout",
     "output_type": "stream",
     "text": [
      "100.0 % of article entries have already scraped.\n"
     ]
    }
   ],
   "source": [
    "print(\"{} % of article entries have already scraped.\" .format((old_news/feed_len)*100))"
   ]
  },
  {
   "cell_type": "markdown",
   "metadata": {},
   "source": [
    "## B. Indexing"
   ]
  },
  {
   "cell_type": "markdown",
   "metadata": {},
   "source": [
    "Indexing is what happens after crawling, large sums of text data is presented after crawling and an indexer acts as a storage for the data, however because we retrieve large sums of data, there is a catch. \n",
    "We use the index to create an inverted index for our data. Indexing of this nature requires us to build a system that only loads a portion of the raw corpus in memory at one time. \n",
    "This also means when running the queries on our indexed files, we want to ensure that the search engine can return the necessary term statistics fast enough for a usable vertical search engine.\n",
    "An inverted index is the main data structure used in search engines because it allows for quick looking of documents that contain any given term in the query.\n",
    "The relevant data structure include the lexicon or dictionary which is a lookup table of term specific information such as document frequency and where in the posting file to access the per-document term frequency (TF). \n",
    "The data structure also include the mapping from any integer ID to a list of document ID and frequency information of the term in those documents.\n",
    "For the dictionary or lexicon our indexer is supposed to create, we need to prepare the data in a way where we only save the texts that carries some informational weigh for our articles. This requires us to perform some text preprocessing methods which include, removing punctuations, removing apostrophes, removing stopwords, transforming all texts to lower cases and lemmatisation. Reason for using lemmatisation instead of stemming is discussed later."
   ]
  },
  {
   "attachments": {
    "Screenshot%202019-11-26%20at%203.53.10%20pm.png": {
     "image/png": "[encoded data removed]"
    }
   },
   "cell_type": "markdown",
   "metadata": {},
   "source": [
    "![Screenshot%202019-11-26%20at%203.53.10%20pm.png](attachment:Screenshot%202019-11-26%20at%203.53.10%20pm.png)"
   ]
  },
  {
   "cell_type": "code",
   "execution_count": 255,
   "metadata": {},
   "outputs": [
    {
     "name": "stderr",
     "output_type": "stream",
     "text": [
      "[nltk_data] Downloading package averaged_perceptron_tagger to\n",
      "[nltk_data]     /Users/qab/nltk_data...\n",
      "[nltk_data]   Package averaged_perceptron_tagger is already up-to-\n",
      "[nltk_data]       date!\n",
      "[nltk_data] Downloading package wordnet to /Users/qab/nltk_data...\n",
      "[nltk_data]   Package wordnet is already up-to-date!\n",
      "[nltk_data] Downloading package stopwords to /Users/qab/nltk_data...\n",
      "[nltk_data]   Package stopwords is already up-to-date!\n",
      "[nltk_data] Downloading package punkt to /Users/qab/nltk_data...\n",
      "[nltk_data]   Package punkt is already up-to-date!\n"
     ]
    }
   ],
   "source": [
    "#Importing ntlk packages\n",
    "import nltk\n",
    "nltk.download('averaged_perceptron_tagger')\n",
    "nltk.download('wordnet')\n",
    "nltk.download('stopwords')\n",
    "nltk.download('punkt')\n",
    "from nltk.corpus import stopwords\n",
    "from nltk.corpus import wordnet\n",
    "from nltk import pos_tag\n",
    "from nltk.stem import WordNetLemmatizer \n",
    "import string"
   ]
  },
  {
   "cell_type": "code",
   "execution_count": 260,
   "metadata": {},
   "outputs": [],
   "source": [
    "final_data = final_data.reset_index(drop = True)"
   ]
  },
  {
   "cell_type": "code",
   "execution_count": 261,
   "metadata": {},
   "outputs": [],
   "source": [
    "entry = final_data.loc[0,:].copy()"
   ]
  },
  {
   "cell_type": "code",
   "execution_count": 262,
   "metadata": {},
   "outputs": [
    {
     "data": {
      "text/plain": [
       "ID                                                           1\n",
       "Title        New Strawberry-Flavored H.I.V. Drugs for Babie...\n",
       "Summary      Thousands of infants are doomed to early death...\n",
       "Link         https://www.nytimes.com/2019/11/29/health/AIDS...\n",
       "Published                                           29/11/2019\n",
       "Name: 0, dtype: object"
      ]
     },
     "execution_count": 262,
     "metadata": {},
     "output_type": "execute_result"
    }
   ],
   "source": [
    "entry"
   ]
  },
  {
   "cell_type": "markdown",
   "metadata": {},
   "source": [
    "Again, we will implement the following processes for one entry and then iterate later for all our data. "
   ]
  },
  {
   "cell_type": "markdown",
   "metadata": {},
   "source": [
    "## Text Preprocessing"
   ]
  },
  {
   "cell_type": "markdown",
   "metadata": {},
   "source": [
    "TRANFORMING TEXTS TO LOWERCASES AND REMOVING APOSTROPHES\n",
    "- During this stage the sentences in the article is parsed into tokens. As human beings, we can always learn or adapt to knowing that 'They' and 'they' belong to the same token, but due to programming languages and computers being sensitive to text data because of character encoding, 'They' and 'they' will be highlighted as different. This means with our text data, we have to convert every text to lowercase to help with our indexing accuracy. We remove apostrophes too so when removing stopwords later on, words like 'dont' can be removed since \"dont\" is a stopword but the program won't recognise \"don't\" as a stopword"
   ]
  },
  {
   "cell_type": "code",
   "execution_count": 263,
   "metadata": {},
   "outputs": [],
   "source": [
    "def article_string(text):\n",
    "    text = text.lower()\n",
    "    text = text.translate(str.maketrans('', '', string.punctuation))\n",
    "    return text"
   ]
  },
  {
   "cell_type": "markdown",
   "metadata": {},
   "source": [
    "PUNCTUATION:\n",
    "- Care is taken when dealing with removing punctuation from our texts. There are times periods(.) would be used to separate abbreviations and when removed, the abbreviations spell a word and here, we wouldn't want our preprocessing to create new words for our text data. It'll contaminate our data. Example: U.S. having it's period striped will be 'us' after preprocessing."
   ]
  },
  {
   "cell_type": "code",
   "execution_count": 264,
   "metadata": {},
   "outputs": [
    {
     "data": {
      "text/plain": [
       "'thousands of infants are doomed to early deaths each year in part because pediatric medicines come in hard pills or bitter syrups that need refrigeration'"
      ]
     },
     "execution_count": 264,
     "metadata": {},
     "output_type": "execute_result"
    }
   ],
   "source": [
    "article_string(entry.Summary)"
   ]
  },
  {
   "cell_type": "markdown",
   "metadata": {},
   "source": [
    "LEMMATISATION\n",
    "- Lemmatisation is used to reduce words to its root synonym. When stemming, the words need not to be a dictionary word, it just removes the prefix and suffix and this might hurt the quality of our query search. When you lemmatize, you will be getting a dictionary word. For example: 'Studyies' when you stem this word, you will get 'studi' as the output but when you lemmatize, it will be returned to its root which is 'study' and this helps in giving a more informational value to our indexing."
   ]
  },
  {
   "cell_type": "code",
   "execution_count": 265,
   "metadata": {},
   "outputs": [],
   "source": [
    "def find_wordnet_point(word):\n",
    "    \"\"\"Map POS tag to first character lemmatize() accepts\"\"\"\n",
    "    tag = pos_tag([word])[0][1][0].upper()\n",
    "    tag_dict = {\"J\": wordnet.ADJ,\n",
    "                \"N\": wordnet.NOUN,\n",
    "                \"V\": wordnet.VERB,\n",
    "                \"R\": wordnet.ADV}\n",
    "\n",
    "    return tag_dict.get(tag, wordnet.NOUN)"
   ]
  },
  {
   "cell_type": "code",
   "execution_count": 266,
   "metadata": {},
   "outputs": [
    {
     "name": "stdout",
     "output_type": "stream",
     "text": [
      "Camelo: n\n",
      " Swimming: v\n",
      " Angry: a\n"
     ]
    }
   ],
   "source": [
    "print (\"Camelo: {}\\n Swimming: {}\\n Angry: {}\".format(find_wordnet_point(\"camelo\"), find_wordnet_point(\"swimming\"), find_wordnet_point(\"angry\")))"
   ]
  },
  {
   "cell_type": "markdown",
   "metadata": {},
   "source": [
    "STOPWORDS:\n",
    "    In these text documents, it's common knowledge that these articles would have a lot of stopwords in them, this will increase the term frequencies for the stopwords such as 'is' etc. When the weights of these word/tokens are high., it renders querying inefficient in multiple ways. Furthermore, removing stopwords boosts computation and space efficiency.\n",
    "    The ntlk libraryhas a way of downloading the stopwords so you don't have to mention or state the stopwords you want to remove by yourself which helps save time and cost. The library iterates over all the documents and removes the stopwords"
   ]
  },
  {
   "cell_type": "code",
   "execution_count": 267,
   "metadata": {},
   "outputs": [],
   "source": [
    "stop_words = stopwords.words(\"english\")"
   ]
  },
  {
   "cell_type": "code",
   "execution_count": 268,
   "metadata": {},
   "outputs": [],
   "source": [
    "lem = WordNetLemmatizer()\n",
    "\n",
    "def stop_lemmatize(doc):\n",
    "    tokens = nltk.word_tokenize(doc)\n",
    "    tmp = \"\"\n",
    "    for w in tokens:\n",
    "        if w not in stop_words:\n",
    "            tmp += lem.lemmatize(w, find_wordnet_point(w)) + \" \"\n",
    "    return tmp"
   ]
  },
  {
   "cell_type": "code",
   "execution_count": 269,
   "metadata": {},
   "outputs": [
    {
     "data": {
      "text/plain": [
       "'New Strawberry-Flavored H.I.V . Drugs Babies Are Offered $ 1 Day '"
      ]
     },
     "execution_count": 269,
     "metadata": {},
     "output_type": "execute_result"
    }
   ],
   "source": [
    "stop_lemmatize(doc = entry.Title)"
   ]
  },
  {
   "cell_type": "code",
   "execution_count": 270,
   "metadata": {},
   "outputs": [],
   "source": [
    "def article_string(text):\n",
    "  text = text.lower() #to lowercase\n",
    "  text = text.translate(str.maketrans('', '', string.punctuation)) #strip punctuation\n",
    "  text = stop_lemmatize(text)\n",
    "  return text"
   ]
  },
  {
   "cell_type": "code",
   "execution_count": 271,
   "metadata": {},
   "outputs": [
    {
     "name": "stdout",
     "output_type": "stream",
     "text": [
      "CPU times: user 2.12 ms, sys: 1.23 ms, total: 3.35 ms\n",
      "Wall time: 2.45 ms\n"
     ]
    },
    {
     "data": {
      "text/plain": [
       "'new strawberryflavored hiv drug baby offer 1 day '"
      ]
     },
     "execution_count": 271,
     "metadata": {},
     "output_type": "execute_result"
    }
   ],
   "source": [
    "%time article_string(entry.Title)"
   ]
  },
  {
   "cell_type": "code",
   "execution_count": 272,
   "metadata": {},
   "outputs": [],
   "source": [
    "final_processed = final_data.copy()"
   ]
  },
  {
   "cell_type": "code",
   "execution_count": 273,
   "metadata": {},
   "outputs": [],
   "source": [
    "def change_df(df):\n",
    "  df['Title'] = df['Title'].apply(article_string)\n",
    "  df['Summary'] = df['Summary'].apply(article_string)"
   ]
  },
  {
   "cell_type": "code",
   "execution_count": 274,
   "metadata": {},
   "outputs": [
    {
     "name": "stdout",
     "output_type": "stream",
     "text": [
      "CPU times: user 3.33 s, sys: 385 ms, total: 3.71 s\n",
      "Wall time: 3.71 s\n"
     ]
    }
   ],
   "source": [
    "%time change_df(final_processed)"
   ]
  },
  {
   "cell_type": "code",
   "execution_count": 275,
   "metadata": {},
   "outputs": [
    {
     "data": {
      "text/html": [
       "<div>\n",
       "<style scoped>\n",
       "    .dataframe tbody tr th:only-of-type {\n",
       "        vertical-align: middle;\n",
       "    }\n",
       "\n",
       "    .dataframe tbody tr th {\n",
       "        vertical-align: top;\n",
       "    }\n",
       "\n",
       "    .dataframe thead th {\n",
       "        text-align: right;\n",
       "    }\n",
       "</style>\n",
       "<table border=\"1\" class=\"dataframe\">\n",
       "  <thead>\n",
       "    <tr style=\"text-align: right;\">\n",
       "      <th></th>\n",
       "      <th>ID</th>\n",
       "      <th>Title</th>\n",
       "      <th>Summary</th>\n",
       "      <th>Link</th>\n",
       "      <th>Published</th>\n",
       "    </tr>\n",
       "  </thead>\n",
       "  <tbody>\n",
       "    <tr>\n",
       "      <th>0</th>\n",
       "      <td>1</td>\n",
       "      <td>new strawberryflavored hiv drug baby offer 1 day</td>\n",
       "      <td>thousand infant doom early death year part ped...</td>\n",
       "      <td>https://www.nytimes.com/2019/11/29/health/AIDS...</td>\n",
       "      <td>29/11/2019</td>\n",
       "    </tr>\n",
       "    <tr>\n",
       "      <th>1</th>\n",
       "      <td>2</td>\n",
       "      <td>iraq prime minister say resign amid protest</td>\n",
       "      <td>announcement come demonstrator set fire irania...</td>\n",
       "      <td>https://www.nytimes.com/2019/11/29/world/middl...</td>\n",
       "      <td>29/11/2019</td>\n",
       "    </tr>\n",
       "    <tr>\n",
       "      <th>2</th>\n",
       "      <td>3</td>\n",
       "      <td>brad gobright renowned rock climber dead fall ...</td>\n",
       "      <td>american free solo climber one world ’ best fe...</td>\n",
       "      <td>https://www.nytimes.com/2019/11/29/world/ameri...</td>\n",
       "      <td>29/11/2019</td>\n",
       "    </tr>\n",
       "    <tr>\n",
       "      <th>3</th>\n",
       "      <td>4</td>\n",
       "      <td>afghanistan black friday pete buttigieg friday...</td>\n",
       "      <td>here need know</td>\n",
       "      <td>https://www.nytimes.com/2019/11/29/briefing/af...</td>\n",
       "      <td>29/11/2019</td>\n",
       "    </tr>\n",
       "    <tr>\n",
       "      <th>4</th>\n",
       "      <td>5</td>\n",
       "      <td>warm water move fish climate change reshape ic...</td>\n",
       "      <td>ocean temperature rise warm water cause fish s...</td>\n",
       "      <td>https://www.nytimes.com/2019/11/29/climate/cli...</td>\n",
       "      <td>29/11/2019</td>\n",
       "    </tr>\n",
       "    <tr>\n",
       "      <th>5</th>\n",
       "      <td>6</td>\n",
       "      <td>news quiz richard spencer uber thanksgiving</td>\n",
       "      <td>stay uptodate week</td>\n",
       "      <td>https://www.nytimes.com/interactive/2019/11/29...</td>\n",
       "      <td>29/11/2019</td>\n",
       "    </tr>\n",
       "    <tr>\n",
       "      <th>6</th>\n",
       "      <td>7</td>\n",
       "      <td>espionage interference australia grapple china...</td>\n",
       "      <td>talk australia week china revelation businessm...</td>\n",
       "      <td>https://www.nytimes.com/2019/11/29/world/austr...</td>\n",
       "      <td>29/11/2019</td>\n",
       "    </tr>\n",
       "    <tr>\n",
       "      <th>7</th>\n",
       "      <td>8</td>\n",
       "      <td>maltese businessman accuses top government off...</td>\n",
       "      <td>yorgen fenech arrest connection kill promise s...</td>\n",
       "      <td>https://www.nytimes.com/2019/11/28/world/europ...</td>\n",
       "      <td>28/11/2019</td>\n",
       "    </tr>\n",
       "    <tr>\n",
       "      <th>8</th>\n",
       "      <td>9</td>\n",
       "      <td>ice sculpture steal show uk climate debate bor...</td>\n",
       "      <td>melt block sculpt ice stood miss prime ministe...</td>\n",
       "      <td>https://www.nytimes.com/2019/11/28/world/europ...</td>\n",
       "      <td>28/11/2019</td>\n",
       "    </tr>\n",
       "    <tr>\n",
       "      <th>9</th>\n",
       "      <td>10</td>\n",
       "      <td>love conquers italy ’ parliament least one day</td>\n",
       "      <td>surprise move italian lawmaker propose girlfri...</td>\n",
       "      <td>https://www.nytimes.com/2019/11/28/world/europ...</td>\n",
       "      <td>28/11/2019</td>\n",
       "    </tr>\n",
       "  </tbody>\n",
       "</table>\n",
       "</div>"
      ],
      "text/plain": [
       "   ID                                              Title  \\\n",
       "0   1  new strawberryflavored hiv drug baby offer 1 day    \n",
       "1   2       iraq prime minister say resign amid protest    \n",
       "2   3  brad gobright renowned rock climber dead fall ...   \n",
       "3   4  afghanistan black friday pete buttigieg friday...   \n",
       "4   5  warm water move fish climate change reshape ic...   \n",
       "5   6       news quiz richard spencer uber thanksgiving    \n",
       "6   7  espionage interference australia grapple china...   \n",
       "7   8  maltese businessman accuses top government off...   \n",
       "8   9  ice sculpture steal show uk climate debate bor...   \n",
       "9  10    love conquers italy ’ parliament least one day    \n",
       "\n",
       "                                             Summary  \\\n",
       "0  thousand infant doom early death year part ped...   \n",
       "1  announcement come demonstrator set fire irania...   \n",
       "2  american free solo climber one world ’ best fe...   \n",
       "3                                    here need know    \n",
       "4  ocean temperature rise warm water cause fish s...   \n",
       "5                                stay uptodate week    \n",
       "6  talk australia week china revelation businessm...   \n",
       "7  yorgen fenech arrest connection kill promise s...   \n",
       "8  melt block sculpt ice stood miss prime ministe...   \n",
       "9  surprise move italian lawmaker propose girlfri...   \n",
       "\n",
       "                                                Link   Published  \n",
       "0  https://www.nytimes.com/2019/11/29/health/AIDS...  29/11/2019  \n",
       "1  https://www.nytimes.com/2019/11/29/world/middl...  29/11/2019  \n",
       "2  https://www.nytimes.com/2019/11/29/world/ameri...  29/11/2019  \n",
       "3  https://www.nytimes.com/2019/11/29/briefing/af...  29/11/2019  \n",
       "4  https://www.nytimes.com/2019/11/29/climate/cli...  29/11/2019  \n",
       "5  https://www.nytimes.com/interactive/2019/11/29...  29/11/2019  \n",
       "6  https://www.nytimes.com/2019/11/29/world/austr...  29/11/2019  \n",
       "7  https://www.nytimes.com/2019/11/28/world/europ...  28/11/2019  \n",
       "8  https://www.nytimes.com/2019/11/28/world/europ...  28/11/2019  \n",
       "9  https://www.nytimes.com/2019/11/28/world/europ...  28/11/2019  "
      ]
     },
     "execution_count": 275,
     "metadata": {},
     "output_type": "execute_result"
    }
   ],
   "source": [
    "final_processed.head(10)"
   ]
  },
  {
   "cell_type": "code",
   "execution_count": 276,
   "metadata": {},
   "outputs": [],
   "source": [
    "final_processed['text'] = final_processed['Title'] + \" \" + final_processed['Summary']\n",
    "drop_cols = ['Title', 'Summary', 'Published', 'Link']\n",
    "final_processed = final_processed.drop(drop_cols, axis=1)"
   ]
  },
  {
   "cell_type": "markdown",
   "metadata": {},
   "source": [
    "We then apply it to our table"
   ]
  },
  {
   "cell_type": "code",
   "execution_count": 277,
   "metadata": {},
   "outputs": [
    {
     "data": {
      "text/html": [
       "<div>\n",
       "<style scoped>\n",
       "    .dataframe tbody tr th:only-of-type {\n",
       "        vertical-align: middle;\n",
       "    }\n",
       "\n",
       "    .dataframe tbody tr th {\n",
       "        vertical-align: top;\n",
       "    }\n",
       "\n",
       "    .dataframe thead th {\n",
       "        text-align: right;\n",
       "    }\n",
       "</style>\n",
       "<table border=\"1\" class=\"dataframe\">\n",
       "  <thead>\n",
       "    <tr style=\"text-align: right;\">\n",
       "      <th></th>\n",
       "      <th>ID</th>\n",
       "      <th>text</th>\n",
       "    </tr>\n",
       "  </thead>\n",
       "  <tbody>\n",
       "    <tr>\n",
       "      <th>0</th>\n",
       "      <td>1</td>\n",
       "      <td>new strawberryflavored hiv drug baby offer 1 d...</td>\n",
       "    </tr>\n",
       "    <tr>\n",
       "      <th>1</th>\n",
       "      <td>2</td>\n",
       "      <td>iraq prime minister say resign amid protest  a...</td>\n",
       "    </tr>\n",
       "    <tr>\n",
       "      <th>2</th>\n",
       "      <td>3</td>\n",
       "      <td>brad gobright renowned rock climber dead fall ...</td>\n",
       "    </tr>\n",
       "    <tr>\n",
       "      <th>3</th>\n",
       "      <td>4</td>\n",
       "      <td>afghanistan black friday pete buttigieg friday...</td>\n",
       "    </tr>\n",
       "    <tr>\n",
       "      <th>4</th>\n",
       "      <td>5</td>\n",
       "      <td>warm water move fish climate change reshape ic...</td>\n",
       "    </tr>\n",
       "    <tr>\n",
       "      <th>5</th>\n",
       "      <td>6</td>\n",
       "      <td>news quiz richard spencer uber thanksgiving  s...</td>\n",
       "    </tr>\n",
       "    <tr>\n",
       "      <th>6</th>\n",
       "      <td>7</td>\n",
       "      <td>espionage interference australia grapple china...</td>\n",
       "    </tr>\n",
       "    <tr>\n",
       "      <th>7</th>\n",
       "      <td>8</td>\n",
       "      <td>maltese businessman accuses top government off...</td>\n",
       "    </tr>\n",
       "    <tr>\n",
       "      <th>8</th>\n",
       "      <td>9</td>\n",
       "      <td>ice sculpture steal show uk climate debate bor...</td>\n",
       "    </tr>\n",
       "    <tr>\n",
       "      <th>9</th>\n",
       "      <td>10</td>\n",
       "      <td>love conquers italy ’ parliament least one day...</td>\n",
       "    </tr>\n",
       "  </tbody>\n",
       "</table>\n",
       "</div>"
      ],
      "text/plain": [
       "   ID                                               text\n",
       "0   1  new strawberryflavored hiv drug baby offer 1 d...\n",
       "1   2  iraq prime minister say resign amid protest  a...\n",
       "2   3  brad gobright renowned rock climber dead fall ...\n",
       "3   4  afghanistan black friday pete buttigieg friday...\n",
       "4   5  warm water move fish climate change reshape ic...\n",
       "5   6  news quiz richard spencer uber thanksgiving  s...\n",
       "6   7  espionage interference australia grapple china...\n",
       "7   8  maltese businessman accuses top government off...\n",
       "8   9  ice sculpture steal show uk climate debate bor...\n",
       "9  10  love conquers italy ’ parliament least one day..."
      ]
     },
     "execution_count": 277,
     "metadata": {},
     "output_type": "execute_result"
    }
   ],
   "source": [
    "final_processed.head(10)"
   ]
  },
  {
   "cell_type": "code",
   "execution_count": 278,
   "metadata": {},
   "outputs": [],
   "source": [
    "def change_df(df):\n",
    "  df = df\n",
    "  df['Title'] = df['Title'].apply(article_string)\n",
    "  df['Summary'] = df['Summary'].apply(article_string)\n",
    "  df['text'] = df['Title'] + \" \" + df['Summary']\n",
    "  drop_cols = ['Title', 'Summary', 'Published', 'Link']\n",
    "  df = df.drop(drop_cols, axis=1)\n",
    "  return df"
   ]
  },
  {
   "cell_type": "markdown",
   "metadata": {},
   "source": [
    "## Build Index"
   ]
  },
  {
   "cell_type": "code",
   "execution_count": 279,
   "metadata": {},
   "outputs": [
    {
     "name": "stdout",
     "output_type": "stream",
     "text": [
      "ID                                                      1\n",
      "text    new strawberryflavored hiv drug baby offer 1 d...\n",
      "Name: 0, dtype: object\n"
     ]
    }
   ],
   "source": [
    "entry = final_processed.loc[0,:].copy()\n",
    "print(entry)\n",
    "index_test = {}"
   ]
  },
  {
   "cell_type": "code",
   "execution_count": 280,
   "metadata": {},
   "outputs": [],
   "source": [
    "words = entry.text.split()\n",
    "ID = entry.ID"
   ]
  },
  {
   "cell_type": "code",
   "execution_count": 281,
   "metadata": {},
   "outputs": [
    {
     "name": "stdout",
     "output_type": "stream",
     "text": [
      "{'new': [1]}\n"
     ]
    }
   ],
   "source": [
    "word = words[0]\n",
    "sample = {word: [ID]}\n",
    "print(sample)"
   ]
  },
  {
   "cell_type": "code",
   "execution_count": 282,
   "metadata": {},
   "outputs": [],
   "source": [
    "for word in words:\n",
    "  if word in index_test.keys():\n",
    "    if ID not in index_test[word]:\n",
    "      index_test[word].append(ID)\n",
    "  else:\n",
    "    index_test[word] = [ID]"
   ]
  },
  {
   "cell_type": "code",
   "execution_count": 283,
   "metadata": {},
   "outputs": [
    {
     "name": "stdout",
     "output_type": "stream",
     "text": [
      "{'new': [1], 'strawberryflavored': [1], 'hiv': [1], 'drug': [1], 'baby': [1], 'offer': [1], '1': [1], 'day': [1], 'thousand': [1], 'infant': [1], 'doom': [1], 'early': [1], 'death': [1], 'year': [1], 'part': [1], 'pediatric': [1], 'medicine': [1], 'come': [1], 'hard': [1], 'pill': [1], 'bitter': [1], 'syrup': [1], 'need': [1], 'refrigeration': [1]}\n"
     ]
    }
   ],
   "source": [
    "print(index_test)"
   ]
  },
  {
   "cell_type": "code",
   "execution_count": 284,
   "metadata": {},
   "outputs": [],
   "source": [
    "def index_it(entry, index):\n",
    "  words = entry.text.split()\n",
    "  ID = int(entry.ID)\n",
    "  for word in words:\n",
    "    if word in index.keys():\n",
    "      if ID not in index[word]:\n",
    "        index[word].append(ID)\n",
    "    else:\n",
    "      index[word] = [ID]\n",
    "  return index"
   ]
  },
  {
   "cell_type": "code",
   "execution_count": 285,
   "metadata": {},
   "outputs": [
    {
     "name": "stdout",
     "output_type": "stream",
     "text": [
      "{'new': [1], 'strawberryflavored': [1], 'hiv': [1], 'drug': [1], 'baby': [1], 'offer': [1], '1': [1], 'day': [1], 'thousand': [1], 'infant': [1], 'doom': [1], 'early': [1], 'death': [1], 'year': [1], 'part': [1], 'pediatric': [1], 'medicine': [1], 'come': [1], 'hard': [1], 'pill': [1], 'bitter': [1], 'syrup': [1], 'need': [1], 'refrigeration': [1]}\n"
     ]
    }
   ],
   "source": [
    "ind = index_it(entry=entry, index= {})\n",
    "print(ind)"
   ]
  },
  {
   "cell_type": "code",
   "execution_count": 286,
   "metadata": {},
   "outputs": [],
   "source": [
    "def index_all(df, index):\n",
    "  for i in range(len(df)):\n",
    "    entry = df.loc[i,:]\n",
    "    index = index_it(entry = entry, index = index)\n",
    "  return index"
   ]
  },
  {
   "cell_type": "code",
   "execution_count": 287,
   "metadata": {},
   "outputs": [
    {
     "data": {
      "text/plain": [
       "6932"
      ]
     },
     "execution_count": 287,
     "metadata": {},
     "output_type": "execute_result"
    }
   ],
   "source": [
    "index = index_all(final_processed, index = {})\n",
    "len(index)"
   ]
  },
  {
   "cell_type": "code",
   "execution_count": 288,
   "metadata": {},
   "outputs": [],
   "source": [
    "def build_index(df, index):\n",
    "    to_add = change_df(df)\n",
    "    index = index_all(df = to_add, index = index)\n",
    "    return index"
   ]
  },
  {
   "cell_type": "code",
   "execution_count": 289,
   "metadata": {},
   "outputs": [],
   "source": [
    "idx = build_index(df = final_data, index = {})"
   ]
  },
  {
   "cell_type": "code",
   "execution_count": 290,
   "metadata": {},
   "outputs": [
    {
     "data": {
      "text/plain": [
       "6932"
      ]
     },
     "execution_count": 290,
     "metadata": {},
     "output_type": "execute_result"
    }
   ],
   "source": [
    "len(idx)"
   ]
  },
  {
   "cell_type": "code",
   "execution_count": 291,
   "metadata": {},
   "outputs": [],
   "source": [
    "import json\n",
    "\n",
    "with open('index.json', 'w') as fp:\n",
    "    json.dump(idx, fp, sort_keys=True, indent=4)"
   ]
  },
  {
   "cell_type": "code",
   "execution_count": 292,
   "metadata": {},
   "outputs": [],
   "source": [
    "with open('index.json', 'r') as f:\n",
    "    data = json.load(f)"
   ]
  },
  {
   "cell_type": "code",
   "execution_count": 293,
   "metadata": {},
   "outputs": [],
   "source": [
    "def build_index_better(df, index_path):\n",
    "  if len(df) > 0:\n",
    "    with open(index_path, 'r') as f:\n",
    "      old_index = json.load(f)\n",
    "    updated_index = build_index(df = df, index = old_index)\n",
    "    with open(index_path, 'w') as fp:\n",
    "      json.dump(updated_index, fp, sort_keys=True, indent=4)\n",
    "  else:\n",
    "    print(\"Nothing to update\")"
   ]
  },
  {
   "cell_type": "markdown",
   "metadata": {},
   "source": [
    "## Ranked Retrieval"
   ]
  },
  {
   "cell_type": "markdown",
   "metadata": {},
   "source": [
    "Lets take this example, when you google search how to fix a software problem with your computer we mostly expect our result to be from articles that are not outdated and have some credibility. Basically, when searching for something in a pool of information like on google, we expect the most relevant pages to show upn first. \n",
    "We have an always updating news feed and when someone wants to search for news that is no longer on the news feed or is 'old news', we need our search engine to be able to retrieve that information for our user. To be able to do this, we need to store some information about the scraped documents that could be used for such queries.\n",
    "The package 'word2vec' can help us with the above mentioned."
   ]
  },
  {
   "cell_type": "code",
   "execution_count": 294,
   "metadata": {},
   "outputs": [],
   "source": [
    "import gensim\n",
    "import numpy as np\n",
    "#!wget https://s3.amazonaws.com/dl4j-distribution/GoogleNews-vectors-negative300.bin.gz"
   ]
  },
  {
   "cell_type": "markdown",
   "metadata": {},
   "source": [
    "We load the word2vec model"
   ]
  },
  {
   "cell_type": "code",
   "execution_count": 296,
   "metadata": {},
   "outputs": [],
   "source": [
    "word2vec = gensim.models.KeyedVectors.load_word2vec_format('GoogleNews-vectors-negative300.bin.gz', binary=True)"
   ]
  },
  {
   "cell_type": "code",
   "execution_count": 297,
   "metadata": {},
   "outputs": [
    {
     "name": "stdout",
     "output_type": "stream",
     "text": [
      "['new', 'strawberryflavored', 'hiv', 'drug', 'baby', 'offer', '1', 'day', 'thousand', 'infant', 'doom', 'early', 'death', 'year', 'part', 'pediatric', 'medicine', 'come', 'hard', 'pill', 'bitter', 'syrup', 'need', 'refrigeration']\n"
     ]
    }
   ],
   "source": [
    "print(words)"
   ]
  },
  {
   "cell_type": "code",
   "execution_count": 298,
   "metadata": {},
   "outputs": [],
   "source": [
    "def average_vectors(word2vec_model, doc):\n",
    "    # remove out-of-vocabulary words\n",
    "    doc = [word for word in doc if word in word2vec_model.vocab]\n",
    "    if len(doc) == 0:\n",
    "      return np.zeros(300)\n",
    "    else:\n",
    "      return np.mean(word2vec_model[doc], axis=0)"
   ]
  },
  {
   "cell_type": "code",
   "execution_count": 299,
   "metadata": {},
   "outputs": [
    {
     "name": "stdout",
     "output_type": "stream",
     "text": [
      "CPU times: user 1.12 ms, sys: 5.33 ms, total: 6.45 ms\n",
      "Wall time: 14.2 ms\n"
     ]
    }
   ],
   "source": [
    "%time test_vec = average_vectors(word2vec, words)"
   ]
  },
  {
   "cell_type": "code",
   "execution_count": 300,
   "metadata": {},
   "outputs": [],
   "source": [
    "def prepare_ranking(df):\n",
    "  corpus = df[['ID', 'text']].copy()\n",
    "  doc_vecs = {}\n",
    "  for i in range(len(corpus)):\n",
    "    row = corpus.loc[i,:]\n",
    "    text = row.text.split()\n",
    "    doc_vecs[row.ID]=average_vectors(word2vec, text)\n",
    "  doc_vecs = pd.DataFrame.from_dict(data=doc_vecs, orient=\"index\")\n",
    "  doc_vecs['ID'] = doc_vecs.index\n",
    "  return doc_vecs"
   ]
  },
  {
   "cell_type": "code",
   "execution_count": 301,
   "metadata": {},
   "outputs": [],
   "source": [
    "doc_vecs = prepare_ranking(df=final_data)"
   ]
  },
  {
   "cell_type": "code",
   "execution_count": 302,
   "metadata": {},
   "outputs": [],
   "source": [
    "doc_vecs.to_csv(\"vectors.csv\")"
   ]
  },
  {
   "cell_type": "markdown",
   "metadata": {},
   "source": [
    "def build_index_better(df, index_path):\n",
    "  if len(df) > 0:\n",
    "    with open(index_path, 'r') as f:\n",
    "      old_index = json.load(f)\n",
    "    updated_index = build_index(df = df, index = old_index)\n",
    "    with open(index_path, 'w') as fp:\n",
    "      json.dump(updated_index, fp, sort_keys=True, indent=4)\n",
    "    df = change_df(df)\n",
    "    vecs = prepare_ranking(df)\n",
    "    vecs.columns = vecs.columns.astype(\"str\")\n",
    "    \n",
    "    old_vecs = pd.read_csv(\"vectors.csv\", index_col = \"Unnamed: 0\")\n",
    "    new_vecs = pd.concat([old_vecs, vecs], axis = 0)\n",
    "    new_vecs.to_csv(\"vectors.csv\")\n",
    "  else:\n",
    "    print(\"Nothing to update\")"
   ]
  },
  {
   "cell_type": "code",
   "execution_count": 304,
   "metadata": {},
   "outputs": [],
   "source": [
    "data = pd.read_csv(\"articles.csv\", index_col=\"Unnamed: 0\")\n",
    "data = data.reset_index(drop = True)\n",
    "build_index_better(data, \"index.json\")"
   ]
  },
  {
   "cell_type": "code",
   "execution_count": 305,
   "metadata": {},
   "outputs": [],
   "source": [
    "df = change_df(data)\n",
    "vecs = prepare_ranking(df)"
   ]
  },
  {
   "cell_type": "code",
   "execution_count": 306,
   "metadata": {},
   "outputs": [
    {
     "data": {
      "text/plain": [
       "Index([   0,    1,    2,    3,    4,    5,    6,    7,    8,    9,\n",
       "       ...\n",
       "        291,  292,  293,  294,  295,  296,  297,  298,  299, 'ID'],\n",
       "      dtype='object', length=301)"
      ]
     },
     "execution_count": 306,
     "metadata": {},
     "output_type": "execute_result"
    }
   ],
   "source": [
    "vecs.columns"
   ]
  },
  {
   "cell_type": "markdown",
   "metadata": {},
   "source": [
    "# Query Processing"
   ]
  },
  {
   "cell_type": "code",
   "execution_count": 307,
   "metadata": {},
   "outputs": [],
   "source": [
    "test = \"New Strawberry Flavored Drugs Babies Offered\""
   ]
  },
  {
   "cell_type": "code",
   "execution_count": 308,
   "metadata": {},
   "outputs": [
    {
     "name": "stdout",
     "output_type": "stream",
     "text": [
      "User query: New Strawberry Flavored Drugs Babies Offered.\n",
      "Normalized query: new strawberry flavor drug baby offer .\n"
     ]
    }
   ],
   "source": [
    "print(\"User query: {}.\" .format(test))\n",
    "test_norm = article_string(test)\n",
    "print(\"Normalized query: {}.\" .format(test_norm))"
   ]
  },
  {
   "cell_type": "code",
   "execution_count": 309,
   "metadata": {},
   "outputs": [],
   "source": [
    "test_split = test_norm.split()"
   ]
  },
  {
   "cell_type": "code",
   "execution_count": 310,
   "metadata": {},
   "outputs": [],
   "source": [
    "def article_query(query):\n",
    "    norm = article_string(query)\n",
    "    return norm.split()"
   ]
  },
  {
   "cell_type": "markdown",
   "metadata": {},
   "source": [
    "### Retrieve from the index"
   ]
  },
  {
   "cell_type": "code",
   "execution_count": 311,
   "metadata": {},
   "outputs": [],
   "source": [
    "retrieved = []\n",
    "for word in test_split:\n",
    "  if word in index.keys():\n",
    "    retrieved.append(index[word])"
   ]
  },
  {
   "cell_type": "code",
   "execution_count": 312,
   "metadata": {},
   "outputs": [],
   "source": [
    "def lists_intersection(lists):\n",
    "  intersect = list(set.intersection(*map(set, lists)))\n",
    "  intersect.sort()\n",
    "  return intersect"
   ]
  },
  {
   "cell_type": "code",
   "execution_count": 313,
   "metadata": {},
   "outputs": [
    {
     "name": "stdout",
     "output_type": "stream",
     "text": [
      "[1]\n"
     ]
    }
   ],
   "source": [
    "result = lists_intersection(retrieved)\n",
    "print(result)"
   ]
  },
  {
   "cell_type": "code",
   "execution_count": 314,
   "metadata": {},
   "outputs": [],
   "source": [
    "def search_vengine(query, index=idx):\n",
    "  query_split = article_query(query)\n",
    "  retrieved = []\n",
    "  for word in query_split:\n",
    "    if word in index.keys():\n",
    "      retrieved.append(index[word])\n",
    "  if len(retrieved)>0:\n",
    "    result = lists_intersection(retrieved)\n",
    "  else:\n",
    "      result = [0]\n",
    "  return result"
   ]
  },
  {
   "cell_type": "code",
   "execution_count": 315,
   "metadata": {},
   "outputs": [
    {
     "name": "stdout",
     "output_type": "stream",
     "text": [
      "[10, 12, 27, 50, 232, 244]\n"
     ]
    }
   ],
   "source": [
    "result_IDs = search_vengine(\"Love\", index)\n",
    "print(result_IDs)"
   ]
  },
  {
   "cell_type": "code",
   "execution_count": 316,
   "metadata": {},
   "outputs": [
    {
     "data": {
      "text/html": [
       "<div>\n",
       "<style scoped>\n",
       "    .dataframe tbody tr th:only-of-type {\n",
       "        vertical-align: middle;\n",
       "    }\n",
       "\n",
       "    .dataframe tbody tr th {\n",
       "        vertical-align: top;\n",
       "    }\n",
       "\n",
       "    .dataframe thead th {\n",
       "        text-align: right;\n",
       "    }\n",
       "</style>\n",
       "<table border=\"1\" class=\"dataframe\">\n",
       "  <thead>\n",
       "    <tr style=\"text-align: right;\">\n",
       "      <th></th>\n",
       "      <th>ID</th>\n",
       "      <th>Title</th>\n",
       "      <th>Summary</th>\n",
       "      <th>Link</th>\n",
       "      <th>Published</th>\n",
       "    </tr>\n",
       "  </thead>\n",
       "  <tbody>\n",
       "    <tr>\n",
       "      <th>0</th>\n",
       "      <td>1</td>\n",
       "      <td>new strawberryflavored hiv drug baby offer 1 day</td>\n",
       "      <td>thousand infant doom early death year part ped...</td>\n",
       "      <td>https://www.nytimes.com/2019/11/29/health/AIDS...</td>\n",
       "      <td>29/11/2019</td>\n",
       "    </tr>\n",
       "    <tr>\n",
       "      <th>1</th>\n",
       "      <td>2</td>\n",
       "      <td>iraq prime minister say resign amid protest</td>\n",
       "      <td>announcement come demonstrator set fire irania...</td>\n",
       "      <td>https://www.nytimes.com/2019/11/29/world/middl...</td>\n",
       "      <td>29/11/2019</td>\n",
       "    </tr>\n",
       "    <tr>\n",
       "      <th>2</th>\n",
       "      <td>3</td>\n",
       "      <td>brad gobright renowned rock climber dead fall ...</td>\n",
       "      <td>american free solo climber one world ’ best fe...</td>\n",
       "      <td>https://www.nytimes.com/2019/11/29/world/ameri...</td>\n",
       "      <td>29/11/2019</td>\n",
       "    </tr>\n",
       "    <tr>\n",
       "      <th>3</th>\n",
       "      <td>4</td>\n",
       "      <td>afghanistan black friday pete buttigieg friday...</td>\n",
       "      <td>here need know</td>\n",
       "      <td>https://www.nytimes.com/2019/11/29/briefing/af...</td>\n",
       "      <td>29/11/2019</td>\n",
       "    </tr>\n",
       "    <tr>\n",
       "      <th>4</th>\n",
       "      <td>5</td>\n",
       "      <td>warm water move fish climate change reshape ic...</td>\n",
       "      <td>ocean temperature rise warm water cause fish s...</td>\n",
       "      <td>https://www.nytimes.com/2019/11/29/climate/cli...</td>\n",
       "      <td>29/11/2019</td>\n",
       "    </tr>\n",
       "  </tbody>\n",
       "</table>\n",
       "</div>"
      ],
      "text/plain": [
       "   ID                                              Title  \\\n",
       "0   1  new strawberryflavored hiv drug baby offer 1 day    \n",
       "1   2       iraq prime minister say resign amid protest    \n",
       "2   3  brad gobright renowned rock climber dead fall ...   \n",
       "3   4  afghanistan black friday pete buttigieg friday...   \n",
       "4   5  warm water move fish climate change reshape ic...   \n",
       "\n",
       "                                             Summary  \\\n",
       "0  thousand infant doom early death year part ped...   \n",
       "1  announcement come demonstrator set fire irania...   \n",
       "2  american free solo climber one world ’ best fe...   \n",
       "3                                    here need know    \n",
       "4  ocean temperature rise warm water cause fish s...   \n",
       "\n",
       "                                                Link   Published  \n",
       "0  https://www.nytimes.com/2019/11/29/health/AIDS...  29/11/2019  \n",
       "1  https://www.nytimes.com/2019/11/29/world/middl...  29/11/2019  \n",
       "2  https://www.nytimes.com/2019/11/29/world/ameri...  29/11/2019  \n",
       "3  https://www.nytimes.com/2019/11/29/briefing/af...  29/11/2019  \n",
       "4  https://www.nytimes.com/2019/11/29/climate/cli...  29/11/2019  "
      ]
     },
     "execution_count": 316,
     "metadata": {},
     "output_type": "execute_result"
    }
   ],
   "source": [
    "#in real setting we'll read the database from file here\n",
    "final = pd.read_csv(\"articles.csv\")\n",
    "\n",
    "#this is our database\n",
    "final = final_data.drop(['text'], axis=1).copy()\n",
    "final.head(5)"
   ]
  },
  {
   "cell_type": "code",
   "execution_count": 317,
   "metadata": {},
   "outputs": [],
   "source": [
    "def connect_id_df(retrieved_id, df):\n",
    "    return df[df.ID.isin(retrieved_id)].reset_index(drop=True)"
   ]
  },
  {
   "cell_type": "code",
   "execution_count": 318,
   "metadata": {},
   "outputs": [
    {
     "data": {
      "text/html": [
       "<div>\n",
       "<style scoped>\n",
       "    .dataframe tbody tr th:only-of-type {\n",
       "        vertical-align: middle;\n",
       "    }\n",
       "\n",
       "    .dataframe tbody tr th {\n",
       "        vertical-align: top;\n",
       "    }\n",
       "\n",
       "    .dataframe thead th {\n",
       "        text-align: right;\n",
       "    }\n",
       "</style>\n",
       "<table border=\"1\" class=\"dataframe\">\n",
       "  <thead>\n",
       "    <tr style=\"text-align: right;\">\n",
       "      <th></th>\n",
       "      <th>ID</th>\n",
       "      <th>Title</th>\n",
       "      <th>Summary</th>\n",
       "      <th>Link</th>\n",
       "      <th>Published</th>\n",
       "    </tr>\n",
       "  </thead>\n",
       "  <tbody>\n",
       "    <tr>\n",
       "      <th>0</th>\n",
       "      <td>10</td>\n",
       "      <td>love conquers italy ’ parliament least one day</td>\n",
       "      <td>surprise move italian lawmaker propose girlfri...</td>\n",
       "      <td>https://www.nytimes.com/2019/11/28/world/europ...</td>\n",
       "      <td>28/11/2019</td>\n",
       "    </tr>\n",
       "    <tr>\n",
       "      <th>1</th>\n",
       "      <td>12</td>\n",
       "      <td>johnson return london police shoot man uk vote</td>\n",
       "      <td>pa hrefhttpsnewsyahoocomjohnsonwarnsagainstcom...</td>\n",
       "      <td>https://news.yahoo.com/johnson-warns-against-c...</td>\n",
       "      <td>29/11/2019</td>\n",
       "    </tr>\n",
       "    <tr>\n",
       "      <th>2</th>\n",
       "      <td>27</td>\n",
       "      <td>uk pm johnson implores trump please avoid elec...</td>\n",
       "      <td>pa hrefhttpsnewsyahoocomukpmjohnsonimplorestru...</td>\n",
       "      <td>https://news.yahoo.com/uk-pm-johnson-implores-...</td>\n",
       "      <td>29/11/2019</td>\n",
       "    </tr>\n",
       "    <tr>\n",
       "      <th>3</th>\n",
       "      <td>50</td>\n",
       "      <td>johnson say ’ u trade deal include nh</td>\n",
       "      <td>pa hrefhttpsnewsyahoocomjohnsonpollleadpilesmi...</td>\n",
       "      <td>https://news.yahoo.com/johnson-poll-lead-piles...</td>\n",
       "      <td>28/11/2019</td>\n",
       "    </tr>\n",
       "    <tr>\n",
       "      <th>4</th>\n",
       "      <td>232</td>\n",
       "      <td>family watch murder love one become tabloid fo...</td>\n",
       "      <td>h1tarang chawla shellshocked learn sister niki...</td>\n",
       "      <td>https://www.buzzfeed.com/ginarushton/murder-ge...</td>\n",
       "      <td>7/11/2019</td>\n",
       "    </tr>\n",
       "  </tbody>\n",
       "</table>\n",
       "</div>"
      ],
      "text/plain": [
       "    ID                                              Title  \\\n",
       "0   10    love conquers italy ’ parliament least one day    \n",
       "1   12    johnson return london police shoot man uk vote    \n",
       "2   27  uk pm johnson implores trump please avoid elec...   \n",
       "3   50             johnson say ’ u trade deal include nh    \n",
       "4  232  family watch murder love one become tabloid fo...   \n",
       "\n",
       "                                             Summary  \\\n",
       "0  surprise move italian lawmaker propose girlfri...   \n",
       "1  pa hrefhttpsnewsyahoocomjohnsonwarnsagainstcom...   \n",
       "2  pa hrefhttpsnewsyahoocomukpmjohnsonimplorestru...   \n",
       "3  pa hrefhttpsnewsyahoocomjohnsonpollleadpilesmi...   \n",
       "4  h1tarang chawla shellshocked learn sister niki...   \n",
       "\n",
       "                                                Link   Published  \n",
       "0  https://www.nytimes.com/2019/11/28/world/europ...  28/11/2019  \n",
       "1  https://news.yahoo.com/johnson-warns-against-c...  29/11/2019  \n",
       "2  https://news.yahoo.com/uk-pm-johnson-implores-...  29/11/2019  \n",
       "3  https://news.yahoo.com/johnson-poll-lead-piles...  28/11/2019  \n",
       "4  https://www.buzzfeed.com/ginarushton/murder-ge...   7/11/2019  "
      ]
     },
     "execution_count": 318,
     "metadata": {},
     "output_type": "execute_result"
    }
   ],
   "source": [
    "result_final = connect_id_df(result_IDs, final)\n",
    "result_final.head(5)"
   ]
  },
  {
   "cell_type": "markdown",
   "metadata": {},
   "source": [
    "### Ranked Retrieval"
   ]
  },
  {
   "cell_type": "code",
   "execution_count": 319,
   "metadata": {},
   "outputs": [],
   "source": [
    "query_vec = average_vectors(word2vec, test_split)"
   ]
  },
  {
   "cell_type": "code",
   "execution_count": 320,
   "metadata": {},
   "outputs": [],
   "source": [
    "result_vecs = connect_id_df(result_IDs, doc_vecs)"
   ]
  },
  {
   "cell_type": "code",
   "execution_count": 321,
   "metadata": {},
   "outputs": [],
   "source": [
    "def cos_similarity(a, b):\n",
    "  dot = np.dot(a, b)\n",
    "  norma = np.linalg.norm(a)\n",
    "  normb = np.linalg.norm(b)\n",
    "  cos = dot / (norma * normb)\n",
    "  return(cos)"
   ]
  },
  {
   "cell_type": "code",
   "execution_count": 322,
   "metadata": {},
   "outputs": [],
   "source": [
    "cos_sim = []\n",
    "for i in range(len(result_vecs)):\n",
    "  doc_vec = result_vecs.loc[i,:].drop(['ID'])\n",
    "  cos_sim.append(cos_similarity(doc_vec, query_vec))\n",
    "result_final['rank'] = cos_sim"
   ]
  },
  {
   "cell_type": "code",
   "execution_count": 323,
   "metadata": {},
   "outputs": [
    {
     "data": {
      "text/html": [
       "<div>\n",
       "<style scoped>\n",
       "    .dataframe tbody tr th:only-of-type {\n",
       "        vertical-align: middle;\n",
       "    }\n",
       "\n",
       "    .dataframe tbody tr th {\n",
       "        vertical-align: top;\n",
       "    }\n",
       "\n",
       "    .dataframe thead th {\n",
       "        text-align: right;\n",
       "    }\n",
       "</style>\n",
       "<table border=\"1\" class=\"dataframe\">\n",
       "  <thead>\n",
       "    <tr style=\"text-align: right;\">\n",
       "      <th></th>\n",
       "      <th>ID</th>\n",
       "      <th>Title</th>\n",
       "      <th>Summary</th>\n",
       "      <th>Link</th>\n",
       "      <th>Published</th>\n",
       "      <th>rank</th>\n",
       "    </tr>\n",
       "  </thead>\n",
       "  <tbody>\n",
       "    <tr>\n",
       "      <th>2</th>\n",
       "      <td>27</td>\n",
       "      <td>uk pm johnson implores trump please avoid elec...</td>\n",
       "      <td>pa hrefhttpsnewsyahoocomukpmjohnsonimplorestru...</td>\n",
       "      <td>https://news.yahoo.com/uk-pm-johnson-implores-...</td>\n",
       "      <td>29/11/2019</td>\n",
       "      <td>0.326764</td>\n",
       "    </tr>\n",
       "    <tr>\n",
       "      <th>0</th>\n",
       "      <td>10</td>\n",
       "      <td>love conquers italy ’ parliament least one day</td>\n",
       "      <td>surprise move italian lawmaker propose girlfri...</td>\n",
       "      <td>https://www.nytimes.com/2019/11/28/world/europ...</td>\n",
       "      <td>28/11/2019</td>\n",
       "      <td>0.362648</td>\n",
       "    </tr>\n",
       "    <tr>\n",
       "      <th>4</th>\n",
       "      <td>232</td>\n",
       "      <td>family watch murder love one become tabloid fo...</td>\n",
       "      <td>h1tarang chawla shellshocked learn sister niki...</td>\n",
       "      <td>https://www.buzzfeed.com/ginarushton/murder-ge...</td>\n",
       "      <td>7/11/2019</td>\n",
       "      <td>0.406508</td>\n",
       "    </tr>\n",
       "    <tr>\n",
       "      <th>1</th>\n",
       "      <td>12</td>\n",
       "      <td>johnson return london police shoot man uk vote</td>\n",
       "      <td>pa hrefhttpsnewsyahoocomjohnsonwarnsagainstcom...</td>\n",
       "      <td>https://news.yahoo.com/johnson-warns-against-c...</td>\n",
       "      <td>29/11/2019</td>\n",
       "      <td>0.429430</td>\n",
       "    </tr>\n",
       "    <tr>\n",
       "      <th>3</th>\n",
       "      <td>50</td>\n",
       "      <td>johnson say ’ u trade deal include nh</td>\n",
       "      <td>pa hrefhttpsnewsyahoocomjohnsonpollleadpilesmi...</td>\n",
       "      <td>https://news.yahoo.com/johnson-poll-lead-piles...</td>\n",
       "      <td>28/11/2019</td>\n",
       "      <td>0.434243</td>\n",
       "    </tr>\n",
       "    <tr>\n",
       "      <th>5</th>\n",
       "      <td>244</td>\n",
       "      <td>police thought migrant woman wasnt wear seatbe...</td>\n",
       "      <td>h1don ’ argue love ’ go back paddy wagon acces...</td>\n",
       "      <td>https://www.buzzfeed.com/hannahryan/police-tra...</td>\n",
       "      <td>1/11/2019</td>\n",
       "      <td>0.449963</td>\n",
       "    </tr>\n",
       "  </tbody>\n",
       "</table>\n",
       "</div>"
      ],
      "text/plain": [
       "    ID                                              Title  \\\n",
       "2   27  uk pm johnson implores trump please avoid elec...   \n",
       "0   10    love conquers italy ’ parliament least one day    \n",
       "4  232  family watch murder love one become tabloid fo...   \n",
       "1   12    johnson return london police shoot man uk vote    \n",
       "3   50             johnson say ’ u trade deal include nh    \n",
       "5  244  police thought migrant woman wasnt wear seatbe...   \n",
       "\n",
       "                                             Summary  \\\n",
       "2  pa hrefhttpsnewsyahoocomukpmjohnsonimplorestru...   \n",
       "0  surprise move italian lawmaker propose girlfri...   \n",
       "4  h1tarang chawla shellshocked learn sister niki...   \n",
       "1  pa hrefhttpsnewsyahoocomjohnsonwarnsagainstcom...   \n",
       "3  pa hrefhttpsnewsyahoocomjohnsonpollleadpilesmi...   \n",
       "5  h1don ’ argue love ’ go back paddy wagon acces...   \n",
       "\n",
       "                                                Link   Published      rank  \n",
       "2  https://news.yahoo.com/uk-pm-johnson-implores-...  29/11/2019  0.326764  \n",
       "0  https://www.nytimes.com/2019/11/28/world/europ...  28/11/2019  0.362648  \n",
       "4  https://www.buzzfeed.com/ginarushton/murder-ge...   7/11/2019  0.406508  \n",
       "1  https://news.yahoo.com/johnson-warns-against-c...  29/11/2019  0.429430  \n",
       "3  https://news.yahoo.com/johnson-poll-lead-piles...  28/11/2019  0.434243  \n",
       "5  https://www.buzzfeed.com/hannahryan/police-tra...   1/11/2019  0.449963  "
      ]
     },
     "execution_count": 323,
     "metadata": {},
     "output_type": "execute_result"
    }
   ],
   "source": [
    "result_final.sort_values('rank', axis = 0)"
   ]
  },
  {
   "cell_type": "code",
   "execution_count": 324,
   "metadata": {},
   "outputs": [],
   "source": [
    "def rank_results(query, results):\n",
    "  query_norm = article_query(query)\n",
    "  query_vec = average_vectors(word2vec, query_norm)\n",
    "  result_vecs = connect_id_df(results.ID, doc_vecs)\n",
    "  cos_sim = []\n",
    "  for i in range(len(result_vecs)):\n",
    "    doc_vec = result_vecs.loc[i,:].drop(['ID'])\n",
    "    cos_sim.append(cos_similarity(doc_vec, query_vec))\n",
    "  results['rank'] = cos_sim\n",
    "  results = results.sort_values('rank', axis=0)\n",
    "  return results"
   ]
  },
  {
   "cell_type": "code",
   "execution_count": 325,
   "metadata": {},
   "outputs": [],
   "source": [
    "final_result = rank_results(\"James\", result_final)"
   ]
  },
  {
   "cell_type": "markdown",
   "metadata": {},
   "source": [
    "### Date filtering"
   ]
  },
  {
   "cell_type": "code",
   "execution_count": 326,
   "metadata": {},
   "outputs": [
    {
     "data": {
      "text/html": [
       "<div>\n",
       "<style scoped>\n",
       "    .dataframe tbody tr th:only-of-type {\n",
       "        vertical-align: middle;\n",
       "    }\n",
       "\n",
       "    .dataframe tbody tr th {\n",
       "        vertical-align: top;\n",
       "    }\n",
       "\n",
       "    .dataframe thead th {\n",
       "        text-align: right;\n",
       "    }\n",
       "</style>\n",
       "<table border=\"1\" class=\"dataframe\">\n",
       "  <thead>\n",
       "    <tr style=\"text-align: right;\">\n",
       "      <th></th>\n",
       "      <th>ID</th>\n",
       "      <th>Title</th>\n",
       "      <th>Summary</th>\n",
       "      <th>Link</th>\n",
       "      <th>Published</th>\n",
       "      <th>rank</th>\n",
       "    </tr>\n",
       "  </thead>\n",
       "  <tbody>\n",
       "  </tbody>\n",
       "</table>\n",
       "</div>"
      ],
      "text/plain": [
       "Empty DataFrame\n",
       "Columns: [ID, Title, Summary, Link, Published, rank]\n",
       "Index: []"
      ]
     },
     "execution_count": 326,
     "metadata": {},
     "output_type": "execute_result"
    }
   ],
   "source": [
    "test = \"25/11/2019\"\n",
    "\n",
    "#get news published on \"test\"\n",
    "results_single = result_final[result_final.Published==test].reset_index(drop=True)\n",
    "results_single.head()"
   ]
  },
  {
   "cell_type": "code",
   "execution_count": 327,
   "metadata": {},
   "outputs": [
    {
     "data": {
      "text/html": [
       "<div>\n",
       "<style scoped>\n",
       "    .dataframe tbody tr th:only-of-type {\n",
       "        vertical-align: middle;\n",
       "    }\n",
       "\n",
       "    .dataframe tbody tr th {\n",
       "        vertical-align: top;\n",
       "    }\n",
       "\n",
       "    .dataframe thead th {\n",
       "        text-align: right;\n",
       "    }\n",
       "</style>\n",
       "<table border=\"1\" class=\"dataframe\">\n",
       "  <thead>\n",
       "    <tr style=\"text-align: right;\">\n",
       "      <th></th>\n",
       "      <th>ID</th>\n",
       "      <th>Title</th>\n",
       "      <th>Summary</th>\n",
       "      <th>Link</th>\n",
       "      <th>Published</th>\n",
       "      <th>rank</th>\n",
       "    </tr>\n",
       "  </thead>\n",
       "  <tbody>\n",
       "    <tr>\n",
       "      <th>0</th>\n",
       "      <td>12</td>\n",
       "      <td>johnson return london police shoot man uk vote</td>\n",
       "      <td>pa hrefhttpsnewsyahoocomjohnsonwarnsagainstcom...</td>\n",
       "      <td>https://news.yahoo.com/johnson-warns-against-c...</td>\n",
       "      <td>29/11/2019</td>\n",
       "      <td>0.335617</td>\n",
       "    </tr>\n",
       "    <tr>\n",
       "      <th>1</th>\n",
       "      <td>27</td>\n",
       "      <td>uk pm johnson implores trump please avoid elec...</td>\n",
       "      <td>pa hrefhttpsnewsyahoocomukpmjohnsonimplorestru...</td>\n",
       "      <td>https://news.yahoo.com/uk-pm-johnson-implores-...</td>\n",
       "      <td>29/11/2019</td>\n",
       "      <td>0.483079</td>\n",
       "    </tr>\n",
       "  </tbody>\n",
       "</table>\n",
       "</div>"
      ],
      "text/plain": [
       "   ID                                              Title  \\\n",
       "0  12    johnson return london police shoot man uk vote    \n",
       "1  27  uk pm johnson implores trump please avoid elec...   \n",
       "\n",
       "                                             Summary  \\\n",
       "0  pa hrefhttpsnewsyahoocomjohnsonwarnsagainstcom...   \n",
       "1  pa hrefhttpsnewsyahoocomukpmjohnsonimplorestru...   \n",
       "\n",
       "                                                Link   Published      rank  \n",
       "0  https://news.yahoo.com/johnson-warns-against-c...  29/11/2019  0.335617  \n",
       "1  https://news.yahoo.com/uk-pm-johnson-implores-...  29/11/2019  0.483079  "
      ]
     },
     "execution_count": 327,
     "metadata": {},
     "output_type": "execute_result"
    }
   ],
   "source": [
    "#get today's date\n",
    "from datetime import date, timedelta\n",
    "\n",
    "def find_today():\n",
    "  today = date.today()\n",
    "  today = today.strftime(\"%d/%m/%Y\")\n",
    "  return [today]\n",
    "\n",
    "results_today = result_final[result_final.Published.isin(find_today())].reset_index(drop=True)\n",
    "results_today.head()"
   ]
  },
  {
   "cell_type": "code",
   "execution_count": 328,
   "metadata": {},
   "outputs": [
    {
     "data": {
      "text/plain": [
       "['29/11/2019']"
      ]
     },
     "execution_count": 328,
     "metadata": {},
     "output_type": "execute_result"
    }
   ],
   "source": [
    "find_today()"
   ]
  },
  {
   "cell_type": "code",
   "execution_count": 329,
   "metadata": {},
   "outputs": [],
   "source": [
    "def daterange(start, end):\n",
    "    for n in range(int ((end - start).days)+1):\n",
    "        yield start + timedelta(n)\n",
    "\n",
    "def format_date(dt):\n",
    "  dt = dt.split(\"/\")\n",
    "  dt = date(int(dt[2]), int(dt[1]), int(dt[0]))\n",
    "  return(dt)\n",
    "\n",
    "def date_interval(interval):\n",
    "  interval = interval.split(\"-\")\n",
    "  start = format_date(interval[0])\n",
    "  end = format_date(interval[1])\n",
    "  interval = []\n",
    "  for dt in daterange(start, end):\n",
    "      interval.append(dt.strftime(\"%d/%m/%Y\"))\n",
    "  return interval"
   ]
  },
  {
   "cell_type": "code",
   "execution_count": 330,
   "metadata": {},
   "outputs": [
    {
     "data": {
      "text/plain": [
       "['24/11/2019', '25/11/2019', '26/11/2019', '27/11/2019']"
      ]
     },
     "execution_count": 330,
     "metadata": {},
     "output_type": "execute_result"
    }
   ],
   "source": [
    "date_interval(\"24/11/2019 - 27/11/2019\")"
   ]
  },
  {
   "cell_type": "code",
   "execution_count": 331,
   "metadata": {},
   "outputs": [
    {
     "data": {
      "text/plain": [
       "10"
      ]
     },
     "execution_count": 331,
     "metadata": {},
     "output_type": "execute_result"
    }
   ],
   "source": [
    "s = \"25/11/2019\"\n",
    "len(s)"
   ]
  },
  {
   "cell_type": "code",
   "execution_count": 332,
   "metadata": {},
   "outputs": [],
   "source": [
    "def filter_date(dat, df):\n",
    "  if dat == \"today\":\n",
    "    dat = find_today()\n",
    "  if len(dat) == 10:\n",
    "    dat = [dat]\n",
    "  if len(dat) > 11:\n",
    "    dat = date_interval(dat)\n",
    "  if len(dat) is 0:\n",
    "    return(df)\n",
    "\n",
    "  result = df[df.Published.isin(dat)].reset_index(drop=True)\n",
    "  return result"
   ]
  },
  {
   "cell_type": "markdown",
   "metadata": {},
   "source": [
    "### Printing results to user"
   ]
  },
  {
   "cell_type": "code",
   "execution_count": 333,
   "metadata": {},
   "outputs": [],
   "source": [
    "def print_results(result_df):\n",
    "  for i in range(len(result_df)):\n",
    "    res = result_df.loc[i, :]\n",
    "    print(res.Title)\n",
    "    print(res.Summary)\n",
    "    print(res.Published)\n",
    "    if i == len(result_df):\n",
    "        print(res.Link)\n",
    "    else:\n",
    "        print(\"{}\\n\" .format(res.Link))"
   ]
  },
  {
   "cell_type": "code",
   "execution_count": 334,
   "metadata": {
    "scrolled": true
   },
   "outputs": [
    {
     "name": "stdout",
     "output_type": "stream",
     "text": [
      "love conquers italy ’ parliament least one day \n",
      "surprise move italian lawmaker propose girlfriend ahead discussion normally volatile low house \n",
      "28/11/2019\n",
      "https://www.nytimes.com/2019/11/28/world/europe/italy-parliament-proposal.html\n",
      "\n",
      "johnson return london police shoot man uk vote \n",
      "pa hrefhttpsnewsyahoocomjohnsonwarnsagainstcomplacencyover090218226htmlimg srchttpl1yimgcomuuapires12ypp1ssdujw9tkxlbxcj3wyxbwawq9exrhy2h5b247ad04njt3ptezmdshttpsmediazenfscomenbloombergpolitics602491e063867e934383a23fd92c489d4f9 width130 height86 altjohnson return london police shoot man uk vote alignleft titlejohnson return london police shoot man uk vote border0 abloomberg sign brexit bulletin follow u brexit subscribe podcastboris johnson return office incident london bridge man shot police yard scene terrorist attack 2017 general election campaign police say “ currently respond incident though terrorrelated ” although circumstance still unclearread police close london bridge amid report stab gun shotsearlier prime minister sought recapture spirit 2016 referendum try convince brexit supporter still need vote even though poll show course election victory next month promise tougher rule foreign takeover provision state aid help british companiesjohnson warn complacency say still risk coalition government lead jeremy corbyn even polling analysis suggest labour party could lose district held decadesmust read tory secretly fear trump could wreck johnson ’ electionfor election visit eleckey developmentsjohnson michael gove appear press conference london alongside antieu former labour mp gisela stuart reprise 2016 brexit referendumstuart urge traditional labour supporter vote conservative deliver brexittories pledge tougher rule foreign takeover johnson say uk must open chinese investment must strike “ balance ” security concernsliberal democrat leader jo swinson speaks cardiff 230 pm interfaith relation policingthe bbc hold 7way party debate 7 pm though johnson corbyn take partthere 71 chance conservative majority accord bookmaker ladbrokesjohnson return central london 335 pmboris johnson return office central london police shot man london bridge number people injured “ prime minister way back 10 constituency receive update london bridge incident ” johnson ’ spokesman james slack say statementlabour leader jeremy corbyn also express concern “ shock report london bridge thought caught incident thank police emergency service respond ” say twitterjohnson kept update london incident 310 pmboris johnson say ’ kept inform unfold incident london bridge report gunshot stabbings police say “ currently respond incident though terrorrelated ” arm police lock bridge evacuate area metropolitan police say statement call stab premise nearby detain one man number people injured say “ ’ kept update incident london bridge want thank police emergency service immediate response ” johnson say twitterhome secretary priti patel also post twitter say ’ “ concerned ongoing incident london bridge thought affected ” urge people follow advice police london mayor sadiq khan say ’ “ close contact ” metropolitan police commissionercorbyn fresh attack billionaire 1245 pmjeremy corbyn open new broadside billionaire oppose plan redistributive socialist economy daily mail general trust bought newspaper 50 million pound deal 645 million “ two billionaire press baron half top 10 daily newspaper ” corbyn say post twitter “ remember attack labour ’ plan make superrich pay fair share ” “ commit preserve distinctive high quality politically independent editorial style ” dmgt say statement acquisition newspaperfree trade group attack state aid proposal 1220 pmthe adam smith institute think tank aim promote free trade close link former conservative prime minister margaret thatcher say disappointed boris johnson ’ plan change state aid rule procurement provision make easy support british company call “ form trumpian protectionism ” “ ’ free european union order enslave whim whitehall ” say matthew lesh head research adam smith institute “ make profit proof value add society must business big fail ” tory pledge tougher foreign takeover rule 1205 pmthe conservative plan strengthen protection foreign takeover british company cabinet office minister michael gove say answer question chinese investment uk “ certainly ’ believe current provision place robust enough ” gove say press conference say ’ undertaken “ strengthen ” unit department examines foreign takeover “ strengthen protection future ” speak alongside boris johnson agree say country must strike “ balance ” “ continue open investment china ” make sure uk ’ anything “ prejudice critical national infrastructure security anything would compromise ability cooperate fiveeyes security partner ” “ parameter ” johnson say “ far sinophobe want good relation china clear difficulty clear boundary set ” uk ’ nodeal preparation continue 12 pmboris johnson confirm uk continue make preparation disorderly exit european union “ course preparation remain extant ” say “ ’ reason dismantle ” described preparation put place prior oct 31 deadline “ thoroughly useful ” achieve deal make eu convince brussels uk “ earnest ” leavingjohnson say confident complete deal eu end 2020 “ see reason ” extend deadline meaning uk crash without deal still possibilitystate aid plan compatible eu johnson 1150 amtaking question press speech boris johnson say “ course ” uk ’ new state aid rule see 1135 would compatible european union dismiss idea could endanger new free trade deal bloc “ issue arise know big free trade deal ’ joint committee arbitrate whether unfair subsidy dispensation make ” johnson say “ would committee sovereign equal ” johnson later say believe competition “ level play field ” tory vow change public procurement 1140 amthe tory vowed break away eu state aid rule party say “ chill effect ” government support industry need wait “ month year ” decision whether measure member state permissible notexisting rule “ mean uk government take step quickly effectively help company danger ” conservative party say statement new rule developed consultation british business saidthe tory promise new state aid system set clear principle government intervene base uk ’ need minister “ discretion ” decision able take within “ day ” new government body would set manage system party saidon public procurement tory pledge ditch “ absurdly complex ” eu rule “ pointless tender requirement ” also promise “ simpler cheaper ” regulation “ gear towards support local business promote british business ” new system place jan 2021tories announce state aid plan 1135 amthe conservative unveiled package measure described “ immediate step realize benefit brexit ” include pledge overhaul country ’ state aid system make “ faster easy government intervene protect job industry trouble ” tory government also change public procurement policy support local business promote “ buy british ” approach public body purchase food effort back farmer party say email “ people vote take back control want deliver change ” johnson say statement “ one crucial way improve rule back british business unleash true potential ” stuart tell labour voter back johnson 1130 amgisela stuart former labour mp help run leave campaign 2016 brexit referendum urge traditional labour voter back conservative call dec 12 “ brexit election ” “ voting brexit time make tory future ” stuart say stood alongside johnson michael gove “ rather best option ” labour step pressure johnson comment 1040 amlabour criticize prime minister boris johnson past remark make single mother column 1990s see 10 “ boris johnson ’ refusal apologize hateful comment single mother child work class men absolute disgrace ” labour ’ education spokeswoman angela rayner single mother say statement “ try deny write evidence black white u see prove ’ liar well sexist ” johnson signal trump stay quiet 1015 amahead donald trump ’ visit uk next week boris johnson say two ally “ traditionally ” get involve others ’ domestic politics apparent signal u president say anything could potentially undermine conservative party ’ election campaign “ close relationship united state every level government ’ traditionally love ally friend get involve ’ election campaign ” johnson told lbc radiothe comment come amid tory party fear intervention president runup dec 12 vote labour leader jeremy corbyn use johnson ’ link president pursuit postbrexit u trade central attack line campaign especially potential danger britain ’ staterun national health servicejohnson point former president barack obama ’ intervention 2016 brexit referendum campaign ’ help government ’ argument stay european union obama ’ comment “ entirely conducive good cause ” saidjohnson fire controversial comment 10 amboris johnson say quotation comment newspaper column muslim black people single mother “ distortion ” true view 1995 article republish week blame single mother “ produce generation illraised ignorant aggressive illegitimate child ” “ 25 year old quotation cull article write even politics ” johnson say response angry call single mother phonein lbc “ almost invariably look article actual piece say opposite claimed ” johnson also refuse say many child whether involve livesthe description single mother first time johnson ’ comment attract condemnation previously come fire refer black people “ piccaninny ” “ watermelon smile ” last year use term “ bank robber ” “ letterbox ” describe muslim woman wear burqasjohnson also refuse say whether jacob reesmogg would still cabinet win election leader house common suggest people could survive grenfell tower fire ’ show “ common sense ” escape “ ’ go get measure curtain type conversation ” johnson saidjohnson defends tory plan nh 940 amduring qa appearance lbc radio boris johnson repeatedly challenged conservative party ’ plan national health service acknowledge pledge add 50000 nurse actually include persuade 19000 stay profession discrepancy opposition party say show tory mislead voter “ understand controversy ” johnson say refer 19000 figure “ risk leave profession ’ put fund ensure stay ” britain ’ beloved staterun nh key battleground election campaign labour accuse johnson use bargaining chip talk u postbrexit trade deal prime minister reiterate friday ’ case call “ bermuda triangle stuff ” corbyn ’ partyjohnson also back foot widely dispute plan build 40 new hospital opposition party argue real number six prime minister force acknowledge voter regard hospital refurbishment upgrade new hospital also say conservative manifesto include plan resolve crisis social care precise detail “ thrash ” despite key pledge first speech prime ministerjohnson work ‘ dozen ’ trade deal 915 amboris johnson could give figure many trade deal uk ready ahead departure eu “ ’ give answer many deal actually formalize ” say phonein listener lbc radio “ number virtually ready go ” “ imagine dozen ’ currently work ” say name china india new zealand australia examplesif conservative party win work majority uk leave eu jan 31 johnson say trade deal also agree bloc end 2020 say “ see reason go beyond deadline ” told listenerswilliamson denies tory threat channel 4 9 ameducation secretary gavin williamson deny conservative party threaten review channel 4 ’ broadcasting license follow decision allow cabinet minister michael gove sub boris johnson leader ’ debate climate change thursdayspeaking bbc radio williamson say party raise complaint broadcasting regulator ofcom row come johnson decline appear debate send gove place channel 4 refuse allow gove appear venue television crew take part basis invitation leader political party “ conservative party ’ threaten channel 4 ’ raise complaint ofcom perfectly legitimate ” williamson say “ frankly reduce quality debate happen yesterday refuse let michael gove go ” telegraph cite source tory party ’ identify say channel 4 ’ public broadcasting license threatmcdonnell johnson ‘ run scar ’ earlierlabour economy spokesman john mcdonnell say boris johnson “ run scar ” scrutiny prime minister refuse attend leader debate climate change thursday even also refuse interviewed andrew neil reputation one bbc ’ forensic interviewer “ reason think like know bullingdon club friend ’ rest u ” mcdonnell say “ know andrew neil take apart ’ run scar even ’ played ’ push later later beyond postal vote return ” conservative write ofcom medium regulator thursday even complain channel 4 host climate debate replace johnson melt ice sculpture debatelabour change strategy mcdonnell say deny report party switch focus leave voting area polling show set lose seat north england hearltlandsearlierthe tory secretly fear trump could wreck johnson ’ electionuk consumer confidence low head election since 2010johnson warns complacency lead uk campaign trailtories rile iceblock replaces uk pm climate debateto contact reporter story greg ritchie london gritchie10bloombergnetalex morale london amorales2bloombergnettim ross london tross54bloombergnetto contact editor responsible story tim ross tross54bloombergnet stuart biggs thomas pennyfor article like please visit u bloombergcom©2019 bloomberg lppbr clearall \n",
      "29/11/2019\n",
      "https://news.yahoo.com/johnson-warns-against-complacency-over-090218226.html\n",
      "\n",
      "uk pm johnson implores trump please avoid election \n",
      "pa hrefhttpsnewsyahoocomukpmjohnsonimplorestrump100229675htmlimg src width130 height86 altuk pm johnson implores trump please avoid election alignleft titleuk pm johnson implores trump please avoid election border0 aprime minister boris johnson say best u president donald trump get involve britain upcoming election visit london nato summit next week dont traditionally love ally friend dont traditionally get involve others election campaign say johnson whose conservative party command lead poll ahead dec 12 trump already wad election say october leftwing opposition leader labour party jeremy corbyn would bad britain johnson pact brexit party leader nigel faragepbr clearall \n",
      "29/11/2019\n",
      "https://news.yahoo.com/uk-pm-johnson-implores-trump-100229675.html\n",
      "\n",
      "johnson say ’ u trade deal include nh \n",
      "pa hrefhttpsnewsyahoocomjohnsonpollleadpilesmisery101530109htmlimg srchttpl2yimgcomuuapires12m50yn8w2h9wedgd2yuobcayxbwawq9exrhy2h5b247ad04njt3ptezmdshttpsmediazenfscomenbloombergpolitics602e653369c4db0368f5778af3fd2e00877 width130 height86 altjohnson say ’ u trade deal include nh alignleft titlejohnson say ’ u trade deal include nh border0 abloomberg sign brexit bulletin follow u brexit subscribe podcastboris johnson head 68seat majority house common mandate see since height margaret thatcher year accord hotlyanticipated poll election campaign margin size would allow ratify brexit deal ahead jan 31 deadline potentially give breathing space compromise subsequent trade negotiation european unionthe prime minister refuse attend tv debate climate change party leader thursday even say would walk away u trade deal brexit president donald trump insists keep national health service tablemust read uk election key party promisesfor election visit eleckey developmentsyougov conservative course 43 359 seat labour 32 211 seat liberal democrat 14 13 seat snp 3 43 seat brexit party 3 0 seatspound rise much 02 london par gainsjohnson tell itv election still “ tight race ” ’ risk hung parliamentthe institute fiscal study say neither conservative labour credible spending planslabour leader jeremy corbyn snp leader nicola sturgeon party leader debate climate change tv debate johnson ’ show host channel 4 turn away michael gove sent substitutestill ‘ tight race ’ johnson say 8 pmboris johnson insist interview itv election still “ tight race ” spite poll show conservative win comfortable majority “ genuine risk could corbyn sturgeon coalition ” saidjohnson u deal nh include 715 pmboris johnson insist national health service table trade talk u brexit say would walk away president donald trump insists keep negotiation “ goodbye ’ say see would ” johnson say ask would respond trump insists discuss u access state fund health system “ ’ point continue conversation ” labour say wednesday johnson ’ tory involve secret talk u produce document say show two side already discuss access u corporation pharmaceutical company service “ nh one great thing british society ’ love admire around world would something stupid ” johnson say interview itvread corbyn accuses uk tory secret nh talk uslabour donation beat tory 2nd week 3 pmdonations labour party topped conservative second week election campaign week nov 1319 labour reaped 349 million pound 45 million compare 297 million pound conservative accord statement electoral commission brexit party give 225 million pound liberal democrat 251000 pound commission saidthe electoral commission release detail donation 7500 pound include 2 millionpound gift brexit party christopher harborne businessman labour ’ total official data come unite labor union donate 3 million pound party say wednesday also give 25 million pound small donation month since election call 98 amount 100 pound lessit ’ turnaround first week campaign tory total 57 million pound eclipse labour ’ 218500 pound liberal democrat ’ 275000 poundsliberal democrat step attack johnson 12 pmliberal democrat leader jo swinson say prime minister boris johnson driven “ sense etonian entitlement ” rather “ burning desire make people ’ life well ” seek position party one take seat conservativesin speech title “ problem boris johnson ” swinson say people politics “ right reason ” suggest prime minister ’ care ordinary people “ boris johnson care boris johnson whatever take sacrifice whatever whoever need get want ” swinson saidthe problem swinson poll show message cut voter accord late yougov projection liberal democrat course gain one extra seat dec 12 votejavid say ’ ‘ confident ’ policy costing 12 pmchancellor exchequer sajid javid say ’ “ confident ” costing funding conservative party ’ manifesto pledge influential institute fiscal study think tank accuse labour tory see 10 lack credibility spending plan “ clear spending commitment election ” javid told reporter campaign visit darlington accord press association “ detailed costing document detailed would say party publish british election ’ confident ” javid also attack labour ’ plan say would trigger loss confidence uk economyifs say tory labour spending plan credible 10 amthe institute fiscal study offer damn analysis conservative ’ labour ’ election pledge warn voter expect high tax either party outlinedboris johnson ’ conservative jeremy corbyn ’ labour outline vastly different offering voter corbyn promising generational shift public spending along sweep nationalization plan ruling party present fiscally conservative approach offering responsible alternative labour ’ radical ideasbut accord ifs neither party “ properly credible prospectus ” assessment tory end spending plan raise tax borrow labour ’ able deliver investment plan scale imago longer term labour would also need raise funding ifs say would hike income tax top 5 earnersread think tank criticizes fiscal plan major partieslabour ’ ‘ red wall ’ problem 930 amwednesday night ’ yougov poll show labour win new seat watch crumble socalled red wall district north england example include bishop auckland great grimsby bolsover traditionally labour also strongly favor brexit forecast fall toriesso far corbyn ’ party focus try ensure ’ lose vote proeu liberal democrat policy hold second referendum brexit reflect yougov poll show labour must find way win support back tory among voter commit leave bloc ’ likely party shift message come daysbut ’ plenty uncertainty yougov forecast predict conservative gain 30 less 5 poll could change behavior offering seatbyseat prediction could enable voter oppose brexit conservative see best vote johnsonread key poll predicts big majority johnson deliver brexithancock patent drug table u talk earlierhealth secretary matt hancock use broadcast round hit back labour ’ accusation see labour ’ gardiner earlier conservative government would allow national health service use negotiate chip u trade talk “ want trade deal u absolutely clear nh part ” hancock told bbc radio “ crystal clear ’ area ’ prepared give ground ” also say drug pricing table negotiation rule discussion change drugpatent rule “ would give american money drug spend time battling get drug onto nh price nh afford ” say “ point trade deal get price price ” labour keep nh attack line earlierlabour ’ trade spokesman barry gardiner warn boris johnson ’ approach u trade deal would lead privatization national health service comment continued labour ’ attack line wednesday opposition party publish government account meeting british american trade officialsgardiner told bbc radio document show official discuss longer patent protect drug maker say illustrate u company might get full market access uk health service “ potential cost nh would pull gut service able provide people force privatization ” say “ destroy health service within force people go private able longer provide full comprehensive range service ” party likely break new fiscal rule earlieruk chancellor exchequer sajid javid opposition rival john mcdonnell course break fiscal rule announce less month ago accord research claim resolution foundationeven tiny downgrade economic outlook could force tory government raise tax return austerity abandon new rule londonbased think tank say labour government would find similar position row back several big manifesto commitmentsearlierkey poll predicts big majority johnson deliver brexituk election key party promisesuk party give little chance achieve new fiscal rulesis corbyn antisemite longer matter therese raphael92with assistance jessica shankleman robert hutton fergal o39briento contact reporter story alex morale london amorales2bloombergnetandrew atkinson london aatkinsonbloombergnetto contact editor responsible story tim ross tross54bloombergnet stuart biggs mark williamsfor article like please visit u bloombergcom©2019 bloomberg lppbr clearall \n",
      "28/11/2019\n",
      "https://news.yahoo.com/johnson-poll-lead-piles-misery-101530109.html\n",
      "\n",
      "family watch murder love one become tabloid fodder \n",
      "h1tarang chawla shellshocked learn sister nikita ’ murder reporter start phone texting picturesh1pimg srchttpsimgbuzzfeedcombuzzfeedstaticstatic201911621campaignimages1d8a702fc699thesefamilieswatchedthemurdersoftheirloved2472315730762060dblbigjpg phr pa hrefhttpswwwbuzzfeedcomginarushtonmurdergenderedviolencemediastormjournalistsview entire post rsaquoap \n",
      "7/11/2019\n",
      "https://www.buzzfeed.com/ginarushton/murder-gendered-violence-media-storm-journalists\n",
      "\n",
      "police thought migrant woman wasnt wear seatbelt told would go jail \n",
      "h1don ’ argue love ’ go back paddy wagon accessory bloody murderh1pimg srchttpsimgbuzzfeedcombuzzfeedstaticstatic201911115campaignimagesb8e67f031561policethoughtamigrantwomanwasntwearingase248415726235920dblbigjpg phr pa hrefhttpswwwbuzzfeedcomhannahryanpolicetrafficstopimmigrationdetentionthreatview entire post rsaquoap \n",
      "1/11/2019\n",
      "https://www.buzzfeed.com/hannahryan/police-traffic-stop-immigration-detention-threat\n",
      "\n"
     ]
    }
   ],
   "source": [
    "print_results(final_result)"
   ]
  },
  {
   "cell_type": "markdown",
   "metadata": {},
   "source": [
    "### Put it all together"
   ]
  },
  {
   "cell_type": "code",
   "execution_count": 335,
   "metadata": {},
   "outputs": [],
   "source": [
    "def search(query, dat=None):\n",
    "  result = search_vengine(query, index = idx)\n",
    "  result = connect_id_df(result, final)\n",
    "  #result = rank_results(query, result)\n",
    "\n",
    "  if dat is not None:\n",
    "    result = filter_date(dat, result)\n",
    "    \n",
    "  if len(result) == 0:\n",
    "    print(\"No results found.\")\n",
    "  else:\n",
    "    print_results(result)"
   ]
  },
  {
   "cell_type": "code",
   "execution_count": 336,
   "metadata": {},
   "outputs": [
    {
     "data": {
      "text/plain": [
       "286"
      ]
     },
     "execution_count": 336,
     "metadata": {},
     "output_type": "execute_result"
    }
   ],
   "source": [
    "len(doc_vecs)"
   ]
  },
  {
   "cell_type": "markdown",
   "metadata": {},
   "source": [
    "# Automated crawling for every hour"
   ]
  },
  {
   "cell_type": "code",
   "execution_count": 382,
   "metadata": {},
   "outputs": [
    {
     "name": "stdout",
     "output_type": "stream",
     "text": [
      "['https://www.yahoo.com/news/world/rss', 'https://news.google.com/rss?hl=en-US&gl=US&ceid=US:en&x=1571747254.2933', 'http://feeds.bbci.co.uk/news/world/rss.xml', 'https://www.theguardian.com/world/rss', 'http://www.aljazeera.com/xml/rss/all.xml', 'https://www.buzzfeed.com/world.xml', 'http://feeds.washingtonpost.com/rss/world', 'https://www.nytimes.com/svc/collections/v1/publish/https://www.nytimes.com/section/world/rss.xml']\n"
     ]
    }
   ],
   "source": [
    "with open (\"urls.txt\", \"r\") as file:\n",
    "    URLS = file.read().split(\"\\n\")\n",
    "print (URLS)"
   ]
  },
  {
   "cell_type": "code",
   "execution_count": 760,
   "metadata": {},
   "outputs": [
    {
     "name": "stdout",
     "output_type": "stream",
     "text": [
      "Crawling https://www.yahoo.com/news/world/rss\n",
      "Crawling https://news.google.com/rss?hl=en-US&gl=US&ceid=US:en&x=1571747254.2933\n",
      "Crawling http://feeds.bbci.co.uk/news/world/rss.xml\n",
      "Crawling https://www.theguardian.com/world/rss\n",
      "Crawling http://www.aljazeera.com/xml/rss/all.xml\n",
      "Crawling https://www.buzzfeed.com/world.xml\n",
      "Nothing to update\n",
      "Crawling http://feeds.washingtonpost.com/rss/world\n",
      "Crawling https://www.nytimes.com/svc/collections/v1/publish/https://www.nytimes.com/section/world/rss.xml\n"
     ]
    }
   ],
   "source": [
    "for url in URLS:\n",
    "  print (\"Crawling {}\" .format(url))\n",
    "  added = crawl(url, \"articles.csv\")\n",
    "  build_index_better(added, \"index.json\")"
   ]
  },
  {
   "cell_type": "code",
   "execution_count": 651,
   "metadata": {},
   "outputs": [
    {
     "name": "stdout",
     "output_type": "stream",
     "text": [
      "Crawling https://www.yahoo.com/news/world/rss\n",
      "Crawling https://news.google.com/rss?hl=en-US&gl=US&ceid=US:en&x=1571747254.2933\n",
      "Crawling http://feeds.bbci.co.uk/news/world/rss.xml\n",
      "Nothing to update\n",
      "Crawling https://www.theguardian.com/world/rss\n",
      "Crawling http://www.aljazeera.com/xml/rss/all.xml\n",
      "Crawling https://www.buzzfeed.com/world.xml\n",
      "Crawling http://feeds.washingtonpost.com/rss/world\n",
      "Crawling https://www.nytimes.com/svc/collections/v1/publish/https://www.nytimes.com/section/world/rss.xml\n",
      "Nothing to update\n",
      "1\n"
     ]
    },
    {
     "ename": "KeyboardInterrupt",
     "evalue": "",
     "output_type": "error",
     "traceback": [
      "\u001b[0;31m---------------------------------------------------------------------------\u001b[0m",
      "\u001b[0;31mKeyboardInterrupt\u001b[0m                         Traceback (most recent call last)",
      "\u001b[0;32m<ipython-input-651-9280bb762ee0>\u001b[0m in \u001b[0;36m<module>\u001b[0;34m\u001b[0m\n\u001b[1;32m      9\u001b[0m   \u001b[0;31m#pause for 2 seconds - normally this would be 3600 for waiting an hour\u001b[0m\u001b[0;34m\u001b[0m\u001b[0;34m\u001b[0m\u001b[0;34m\u001b[0m\u001b[0m\n\u001b[1;32m     10\u001b[0m   \u001b[0mprint\u001b[0m\u001b[0;34m(\u001b[0m\u001b[0mhours\u001b[0m\u001b[0;34m)\u001b[0m\u001b[0;34m\u001b[0m\u001b[0;34m\u001b[0m\u001b[0m\n\u001b[0;32m---> 11\u001b[0;31m   \u001b[0mtime\u001b[0m\u001b[0;34m.\u001b[0m\u001b[0msleep\u001b[0m\u001b[0;34m(\u001b[0m\u001b[0;36m3600\u001b[0m\u001b[0;34m)\u001b[0m\u001b[0;34m\u001b[0m\u001b[0;34m\u001b[0m\u001b[0m\n\u001b[0m\u001b[1;32m     12\u001b[0m   \u001b[0mhours\u001b[0m \u001b[0;34m+=\u001b[0m\u001b[0;36m1\u001b[0m\u001b[0;34m\u001b[0m\u001b[0;34m\u001b[0m\u001b[0m\n",
      "\u001b[0;31mKeyboardInterrupt\u001b[0m: "
     ]
    }
   ],
   "source": [
    "hours = 1\n",
    "import time\n",
    "while hours <= 1:\n",
    "  for url in URLS:\n",
    "    print (\"Crawling {}\" .format(url))\n",
    "    added = crawl(url, \"articles.csv\")\n",
    "    build_index_better(added, \"index.json\")\n",
    "\n",
    "  #pause for 2 seconds - normally this would be 3600 for waiting an hour\n",
    "  print(hours)\n",
    "  time.sleep(3600)\n",
    "  hours +=1"
   ]
  },
  {
   "cell_type": "code",
   "execution_count": 340,
   "metadata": {},
   "outputs": [],
   "source": [
    "final = pd.read_csv(\"articles.csv\", index_col = \"Unnamed: 0\")\n",
    "with open('index.json', 'r') as f:\n",
    "    idx = json.load(f)"
   ]
  },
  {
   "cell_type": "code",
   "execution_count": 341,
   "metadata": {},
   "outputs": [],
   "source": [
    "final = final.reset_index(drop = True)\n",
    "doc_vecs = doc_vecs.reset_index(drop = True)"
   ]
  },
  {
   "cell_type": "code",
   "execution_count": 348,
   "metadata": {
    "collapsed": true
   },
   "outputs": [
    {
     "name": "stdout",
     "output_type": "stream",
     "text": [
      "What are you looking for:Storm\n",
      "Date:today\n",
      "10 things you need to know today: November 29, 2019\n",
      "<p><a href=\"https://news.yahoo.com/10-things-know-today-november-142800405.html\"><img src=\"\" width=\"130\" height=\"86\" alt=\"10 things you need to know today: November 29, 2019\" align=\"left\" title=\"10 things you need to know today: November 29, 2019\" border=\"0\" ></a>1.President Trump made a surprise visit to Afghanistan on Thursday to spend part of Thanksgiving with U.S. troops. During the visit, Trump&#39;s first to Afghanistan, he announced that the U.S. and the Taliban have reopened peace talks. He said he believes the Taliban want a truce in America&#39;s longest war. &quot;We&#39;re meeting with them,&quot; Trump said. &quot;And we&#39;re saying it has to be a ceasefire.&quot; Trump had cut off talks with the Taliban in September and canceled a secret meeting between Taliban and Afghan leaders after a flurry of violence. During Trump&#39;s 3 1/2 hours at Bagram Air Field, Trump also served turkey to U.S. soldiers, who cheered him when he entered the dining hall. About 12,000 American troops remain in Afghanistan. [The Associated Press] 2.Police restored school administrators&#39; control of Hong Kong Polytechnic University on Friday, declaring that there were no pro-democracy protesters left on the wrecked campus after a two-week siege. Police arrested hundreds of protesters during the showdown. On Thursday, a team of about 400 officers conducted a sweep of the university, and found nearly 4,000 firebombs, 921 gas canisters, and 588 containers of chemicals, including acid and other corrosive liquids. The transfer of control back to school officials marked the end of one of the most intense clashes between protesters and police in a month of escalating unrest following the death of a student who fell from a parking structure during a police operation. [The New York Times, South China Morning Post] 3.North Korea on Thursday launched two short-range projectiles into the waters off its east coast, South Korea&#39;s military said. &quot;Our military expresses its strong regret over (the launches) and urges (North Korea) to immediately stop acts that escalate military tensions,&quot; said Maj. Gen. Jeon Dong Jin, a senior operations officer at Seoul&#39;s Joint Chiefs of Staff. The missile test came three days after North Korea said its soldiers had held artillery drills near a disputed sea boundary. The latest missile launches were the 13th public weapons test conducted by North Korea this year as Pyongyang pushes for a new U.S. proposal to resume stalled talks on trading nuclear concessions for sanctions relief. [The Associated Press, The Washington Post] 4.The European Parliament on Thursday passed a symbolic measure declaring a &quot;climate emergency.&quot; The move raises pressure on member states to take action to curb emissions blamed for climate change ahead of a United Nations climate summit starting Dec. 2 in Spain. In recent months, hundreds of regional and local administrations have approved similar declarations, but Thursday&#39;s vote was significant because the European lawmakers who passed the measure represent 500 million people. &quot;Five years ago, no one would have expected the European Parliament to declare a climate emergency, so there&#39;s some progress,&quot; said Sebastian Mang of Greenpeace. Dissenters in the 429-225 vote objected to the use of the word &quot;emergency,&quot; suggesting the use of &quot;urgency&quot; instead. [The Washington Post, Reuters] 5.The holiday shopping season kicks off on Friday with traditional Black Friday sales. Many retailers got a jump on the competition by getting started with deep discounts on Thanksgiving Day, and analysts forecast data to show that online shoppers spent a record $4 billion on Thanksgiving. The total had already reached $2.1 billion as of 5 p.m. Thursday, a 20.2 percent increase compared to the same point last year. Demand was so high on Thursday that Costco&#39;s website and app were briefly hampered by heavy traffic. Black Friday is continuing to evolve, as many stores try to snag a bigger share of holiday sales by cutting prices days or even weeks before what used to be a one-day shopping frenzy. Shoppers are expected to spend up to $731 billion in November and December, roughly 4 percent more than in the same period last year. [USA Today, MarketWatch] 6.Powerful winter storms hammered parts of the country on Thursday, complicating Thanksgiving travel. Heavy snow forced the closure of Interstate 5, a major highway in Southern California, leaving dozens of vehicles stuck with snow still falling. The highway, which joins Southern California with the rest of the state, was reopened later in the day, but forecasters warned more snow and rain could fall in the area. A so-called bomb cyclone, with a rapid drop in atmospheric pressure, brought up to four feet of snow in some mountainous areas in the Pacific Northwest. The winter storm was expected to move east, bringing snow and high winds across much of the West before continuing toward the Great Plains late on Friday. [Reuters] 7.Gordon Sondland, the U.S. ambassador to the European Union and a key witness in the impeachment inquiry against President Trump, on Thursday reiterated his denial of sexual misconduct allegations made by three women in an article jointly published Wednesday by ProPublica and Portland Monthly magazine. In the article, Sondland said the claims were &quot;concocted&quot; for &quot;political purposes.&quot; One of the women said Sondland backtracked on plans to invest in her business after she rejected his advances during a tour of a hotel he owns. Another accuser, a work associate, said Sondland exposed himself to her. The third, who is 27 years younger than Sondland, said he forcibly kissed her when they met to discuss a possible job. One of the accusers, Nicole Vogel, owns Portland Monthly. The alleged incidents took place years ago, before Sondland was named as Trump&#39;s E.U. ambassador. [The Wall Street Journal, ProPublica] 8.Thousands of demonstrators rallied in Hong Kong on Thursday to express appreciation for two U.S. laws supporting human rights in the Chinese-ruled semi-autonomous city. President Trump signed the Hong Kong Human Rights and Democracy Act on Wednesday. It requires an annual review to confirm that the former British colony still has enough autonomy to justify its special trade status. &quot;I guess Trump wanted to give us a Thanksgiving present, and we&#39;re glad to accept,&quot; said Wong Yiu-chung, a Lingnan University politics professor who attended the rally. Chinese officials on Thursday angrily condemned the U.S. measures as &quot;an epitome of gangster violence,&quot; and an act of foreign meddling intended to hurt China&#39;s economic growth. [Los Angeles Times] 9.Prime Minister Boris Johnson on Thursday urged President Trump to avoid commenting on Britain&#39;s upcoming election during next week&#39;s NATO summit in London. &quot;The best (thing) when you have close friends and allies like the U.S. and the UK is for neither side to get involved in each other&#39;s election,&quot; Johnson told LBC radio. Johnson pushed for the early election hoping to break a stalemate over Britain&#39;s planned exit from the European Union. Trump has already made controversial comments in the vote, saying in October that Johnson should join forces with Brexit Party leader Nigel Farage and that the opposition Labour Party leader Jeremy Corbyn would be &quot;so bad&quot; for the country. [Reuters] 10.Acclaimed American free-solo rock climber Brad Gobright died in a fall while on a well-known path on a rock known as El Sendero Luminoso, or the Shining Path, in northern Mexico&#39;s Potrero Chico national park, Mexican authorities said. His body was recovered Thursday. Gobright and a climbing partner, Aidan Jacobson, fell about 20 feet to a ledge after their rope got stuck, but Jacobson landed in a bush, which broke his fall. &quot;It was basically a blur,&quot; Jacobson, 26, told Outside magazine. &quot;He screamed. I screamed. I went through some vegetation, and then all I remember is seeing his blue Gramicci shirt bounce over the edge.&quot; Gobright fell nearly 985 feet to his death, which the State Department confirmed in a statement, saying, &quot;We offer our sincerest condolences to his family on their loss.&quot; [CNN, The New York Times]More stories from theweek.com  Democrats are running into Trump&#39;s economic buzzsaw  5 gut-bustingly funny cartoons about politics and Thanksgiving  Impeachment is failing. Time for Plan B.<p><br clear=\"all\">\n",
      "29/11/2019\n",
      "https://news.yahoo.com/10-things-know-today-november-142800405.html\n",
      "\n",
      "Warnings issued ahead of Friday-Sunday winter storm in Minnesota - Bring Me The News\n",
      "<ol><li><a href=\"https://news.google.com/__i/rss/rd/articles/CBMibWh0dHBzOi8vYnJpbmdtZXRoZW5ld3MuY29tL21pbm5lc290YS13ZWF0aGVyL3dhcm5pbmdzLWlzc3VlZC1haGVhZC1vZi1mcmlkYXktc3VuZGF5LXdpbnRlci1zdG9ybS1pbi1taW5uZXNvdGHSAXJodHRwczovL2JyaW5nbWV0aGVuZXdzLmNvbS8uYW1wL21pbm5lc290YS13ZWF0aGVyL3dhcm5pbmdzLWlzc3VlZC1haGVhZC1vZi1mcmlkYXktc3VuZGF5LXdpbnRlci1zdG9ybS1pbi1taW5uZXNvdGE?oc=5\" target=\"_blank\">Warnings issued ahead of Friday-Sunday winter storm in Minnesota</a>&nbsp;&nbsp;<font color=\"#6f6f6f\">Bring Me The News</font></li><li><a href=\"https://news.google.com/__i/rss/rd/articles/CBMiXGh0dHA6Ly93d3cuc3RhcnRyaWJ1bmUuY29tL2RvbmUtc2hvdmVsaW5nLWdldC1yZWFkeS1mb3ItYW5vdGhlci1zdG9ybS1taW5uZXNvdGFucy81NjU1ODcwOTEv0gEA?oc=5\" target=\"_blank\">Finished shoveling? Get ready for another storm, Minnesotans</a>&nbsp;&nbsp;<font color=\"#6f6f6f\">Minneapolis Star Tribune</font></li><li><a href=\"https://news.google.com/__i/rss/rd/articles/CBMiMmh0dHA6Ly9mb3gxMW9ubGluZS5jb20vd2VhdGhlci93aW50ZXItc3Rvcm0tYXJpYW5h0gEA?oc=5\" target=\"_blank\">Winter Storm Ariana heads toward Northeast Wisconsin</a>&nbsp;&nbsp;<font color=\"#6f6f6f\">Fox11online.com</font></li><li><a href=\"https://news.google.com/__i/rss/rd/articles/CBMiiwFodHRwczovL3d3dy5rYXJlMTEuY29tL2FydGljbGUvd2VhdGhlci9tb3JlLXdpbnRlci13ZWF0aGVyLWFuZC1zaWduaWZpY2FudC1zbm93LWZvcmVjYXN0LWZvci1mcmlkYXkvODktZGRmYWIyMmEtYTE4NS00OGIyLTgzZTAtMTM4MTA3OTYwY2Fm0gEA?oc=5\" target=\"_blank\">More winter weather and significant snow forecast for Friday evening</a>&nbsp;&nbsp;<font color=\"#6f6f6f\">KARE11.com</font></li><li><a href=\"https://news.google.com/__i/rss/rd/articles/CBMiK2h0dHBzOi8vd3d3LnlvdXR1YmUuY29tL3dhdGNoP3Y9S0pUQXhOQXdsdGPSAQA?oc=5\" target=\"_blank\">NBC26 Storm Shield Forecast</a>&nbsp;&nbsp;<font color=\"#6f6f6f\">NBC 26</font></li><li><strong><a href=\"https://news.google.com/stories/CAAqOQgKIjNDQklTSURvSmMzUnZjbmt0TXpZd1NoTUtFUWlyejhYQWpvQU1FVlppbEROWlpkMDNLQUFQAQ?oc=5\" target=\"_blank\">View full coverage on Google News</a></strong></li></ol>\n",
      "29/11/2019\n",
      "https://news.google.com/__i/rss/rd/articles/CBMibWh0dHBzOi8vYnJpbmdtZXRoZW5ld3MuY29tL21pbm5lc290YS13ZWF0aGVyL3dhcm5pbmdzLWlzc3VlZC1haGVhZC1vZi1mcmlkYXktc3VuZGF5LXdpbnRlci1zdG9ybS1pbi1taW5uZXNvdGHSAXJodHRwczovL2JyaW5nbWV0aGVuZXdzLmNvbS8uYW1wL21pbm5lc290YS13ZWF0aGVyL3dhcm5pbmdzLWlzc3VlZC1haGVhZC1vZi1mcmlkYXktc3VuZGF5LXdpbnRlci1zdG9ybS1pbi1taW5uZXNvdGE?oc=5\n",
      "\n",
      "Parts of US brace for heavy snow as storm system to bring 'weather hazards'\n",
      "<p>Plains region could see severe thunderstorms and tornadoes as dangerous weather has disrupted Thanksgiving travel</p><p>A powerful storm system could spur severe thunderstorms and tornadoes in the plains region over the Thanksgiving holiday weekend, as large portions of the US brace for heavy snow, freezing rain and strong winds.</p><p> <span>Related: </span><a href=\"https://www.theguardian.com/us-news/2019/nov/28/thanksgiving-weather-storms-travel-midwest-west-bomb-cyclone\">Thanksgiving weather: storms now threaten post-holiday travel</a> </p> <a href=\"https://www.theguardian.com/us-news/2019/nov/29/thanksgiving-weekend-weather-snow-wind-tornaoes\">Continue reading...</a>\n",
      "29/11/2019\n",
      "https://www.theguardian.com/us-news/2019/nov/29/thanksgiving-weekend-weather-snow-wind-tornaoes\n",
      "\n",
      "Iraqi PM offers resignation after security forces carry out &#39;bloodbath&#39; killing of protesters\n",
      "<p><a href=\"https://news.yahoo.com/iraqi-pm-offers-resignation-security-131228105.html\"><img src=\"http://l.yimg.com/uu/api/res/1.2/Shtbg.drdKJewhgBqpMWIg--/YXBwaWQ9eXRhY2h5b247aD04Njt3PTEzMDs-/https://media.zenfs.com/en-GB/the_telegraph_258/69f33fdab42598c43033b078aa3ee9d3\" width=\"130\" height=\"86\" alt=\"Iraqi PM offers resignation after security forces carry out &#39;bloodbath&#39; killing of protesters\" align=\"left\" title=\"Iraqi PM offers resignation after security forces carry out &#39;bloodbath&#39; killing of protesters\" border=\"0\" ></a>Iraq’s embattled prime minister offered his resignation on Friday, following the bloodiest day in weeks of unrest. Adel Abdel Mahdi, who took up the post of premier last year, said he would submit to the parliament a formal letter requesting my resignation to &quot;preserve the blood&quot; of Iraqis. Demonstrators greed the news with cheers, throwing rice and dancing to music in Baghdad&#39;s Tahrir (Liberation) Square. “Long live the revolution, long live the heroes. Thank you to the people,” one protester said over a loudspeaker. Mr Mahdi’s decision came hours after Grand Ayatollah Ali Sistani, Iraq&#39;s top Shia Muslim cleric, gave a sermon urging lawmakers to reconsider their support for the government, in a major boost to Iraqi demonstrators who have taken to the streets against a ruling class. &quot;It&#39;s our first victory, and we&#39;re hoping for many more,&quot; shouted one demonstrator. &quot;It&#39;s also a victory for the martyrs who fell,&quot; he said. An Iraqi anti-government protester waves a national flag close to a concrete barricade amidst clashes with security forces along the capital Baghdad&#39;s Rasheed street Credit: AFP Mr Mahdi’s resignation was one of the protesters’ demands, but it is unlikely to see them leave the streets after the crackdown by security forces. More than 45 were reported dead in just a 24-hour period between Wednesday and Thursday night, in an unprecedented level of violence against protesters by the government. Some 26 people were killed in the southern city of Nasiriyah after security forces tried to clear one of the main bridges into the city, 12 were killed in the holy city of Najaf and four in the capital, Baghdad. The demonstrations are the largest the country has seen in decades, but also the deadliest, with nearly 400 people killed and more than 15,000 wounded since they began last month. Iraq&#39;s &quot;enemies and their apparatuses are trying to sow chaos and infighting to return the country to the age of dictatorship ... everyone must work together to thwart that opportunity,&quot; Mr Sistani said. The government &quot;appears to have been unable to deal with the events of the past two months&quot; and &quot;parliament, from which the current government emerged, must reconsider its choices and do what&#39;s in the interest of Iraq,&quot; he said, urging them to stop killing protesters. Iraqi protesters carry the Iraqi national flag and shout slogans shortly after the resignation of Iraqi Prime Minister Adel Abdel-Mahdi Credit: REX The unrest in Iraq&#39;s south was unleashed after protesters stormed the Iranian consulate in Najaf late on Wednesday, accusing the neighbouring country of propping up Iraq&#39;s government. Tehran demanded Iraq take decisive action against the protesters, saying it was &quot;disgusted&quot; by developments. In response, Mr Mahdi, who has received Iran&#39;s support, ordered military chiefs to deploy in several provinces to &quot;impose security and restore order&quot; - but chaos reigned instead. Men in civilian clothes opened fire at demonstrators and tribal fighters deployed in the streets in their defence. &quot;We had blocked off the roads and bridges over the past four days and security forces moved in on us to try to open up the bridges. They opened fire leading to a bloodbath,&quot; said Hussein, a 32-year-old lawyer from Nasiriyah. &quot;What&#39;s happening in Nasiriya is unbelievable. Nothing justifies this use of violence against us. We, the people, are extremely angry. Our blood is boiling. Our brothers were killed unjustifiably. Lynn Maalouf, Amnesty International&#39;s Middle East research director, also used the word &quot;bloodbath&quot; to describe the crackdown in Nasiriyah and accused security forces of &quot;appalling violence against largely peaceful protesters&quot;.<p><br clear=\"all\">\n",
      "29/11/2019\n",
      "https://news.yahoo.com/iraqi-pm-offers-resignation-security-131228105.html\n",
      "\n"
     ]
    }
   ],
   "source": [
    "query = input(\"What are you looking for:\")\n",
    "dat = input(\"Date:\")\n",
    "search(query, dat)"
   ]
  },
  {
   "cell_type": "markdown",
   "metadata": {},
   "source": [
    "# News Classifier"
   ]
  },
  {
   "cell_type": "code",
   "execution_count": 855,
   "metadata": {},
   "outputs": [],
   "source": [
    "import numpy as np\n",
    "import re\n",
    "import pandas as pd\n",
    "import os\n",
    "from nltk.tokenize import word_tokenize\n",
    "from nltk.corpus import stopwords\n",
    "from sklearn.feature_extraction.text import TfidfVectorizer\n",
    "from sklearn.feature_extraction.text import CountVectorizer\n",
    "from sklearn.model_selection import train_test_split\n",
    "from sklearn.model_selection import KFold, cross_validate, train_test_split\n",
    "from sklearn.pipeline import Pipeline\n",
    "from nltk.stem import WordNetLemmatizer\n",
    "from nltk.corpus import stopwords\n",
    "from joblib import dump, load\n",
    "from sklearn.linear_model import LogisticRegression"
   ]
  },
  {
   "cell_type": "code",
   "execution_count": 837,
   "metadata": {},
   "outputs": [
    {
     "data": {
      "text/html": [
       "<div>\n",
       "<style scoped>\n",
       "    .dataframe tbody tr th:only-of-type {\n",
       "        vertical-align: middle;\n",
       "    }\n",
       "\n",
       "    .dataframe tbody tr th {\n",
       "        vertical-align: top;\n",
       "    }\n",
       "\n",
       "    .dataframe thead th {\n",
       "        text-align: right;\n",
       "    }\n",
       "</style>\n",
       "<table border=\"1\" class=\"dataframe\">\n",
       "  <thead>\n",
       "    <tr style=\"text-align: right;\">\n",
       "      <th></th>\n",
       "      <th>authors</th>\n",
       "      <th>category</th>\n",
       "      <th>date</th>\n",
       "      <th>headline</th>\n",
       "      <th>link</th>\n",
       "      <th>short_description</th>\n",
       "    </tr>\n",
       "  </thead>\n",
       "  <tbody>\n",
       "    <tr>\n",
       "      <th>0</th>\n",
       "      <td>Melissa Jeltsen</td>\n",
       "      <td>CRIME</td>\n",
       "      <td>2018-05-26</td>\n",
       "      <td>There Were 2 Mass Shootings In Texas Last Week...</td>\n",
       "      <td>https://www.huffingtonpost.com/entry/texas-ama...</td>\n",
       "      <td>She left her husband. He killed their children...</td>\n",
       "    </tr>\n",
       "    <tr>\n",
       "      <th>1</th>\n",
       "      <td>Andy McDonald</td>\n",
       "      <td>ENTERTAINMENT</td>\n",
       "      <td>2018-05-26</td>\n",
       "      <td>Will Smith Joins Diplo And Nicky Jam For The 2...</td>\n",
       "      <td>https://www.huffingtonpost.com/entry/will-smit...</td>\n",
       "      <td>Of course it has a song.</td>\n",
       "    </tr>\n",
       "    <tr>\n",
       "      <th>2</th>\n",
       "      <td>Ron Dicker</td>\n",
       "      <td>ENTERTAINMENT</td>\n",
       "      <td>2018-05-26</td>\n",
       "      <td>Hugh Grant Marries For The First Time At Age 57</td>\n",
       "      <td>https://www.huffingtonpost.com/entry/hugh-gran...</td>\n",
       "      <td>The actor and his longtime girlfriend Anna Ebe...</td>\n",
       "    </tr>\n",
       "    <tr>\n",
       "      <th>3</th>\n",
       "      <td>Ron Dicker</td>\n",
       "      <td>ENTERTAINMENT</td>\n",
       "      <td>2018-05-26</td>\n",
       "      <td>Jim Carrey Blasts 'Castrato' Adam Schiff And D...</td>\n",
       "      <td>https://www.huffingtonpost.com/entry/jim-carre...</td>\n",
       "      <td>The actor gives Dems an ass-kicking for not fi...</td>\n",
       "    </tr>\n",
       "    <tr>\n",
       "      <th>4</th>\n",
       "      <td>Ron Dicker</td>\n",
       "      <td>ENTERTAINMENT</td>\n",
       "      <td>2018-05-26</td>\n",
       "      <td>Julianna Margulies Uses Donald Trump Poop Bags...</td>\n",
       "      <td>https://www.huffingtonpost.com/entry/julianna-...</td>\n",
       "      <td>The \"Dietland\" actress said using the bags is ...</td>\n",
       "    </tr>\n",
       "    <tr>\n",
       "      <th>5</th>\n",
       "      <td>Ron Dicker</td>\n",
       "      <td>ENTERTAINMENT</td>\n",
       "      <td>2018-05-26</td>\n",
       "      <td>Morgan Freeman 'Devastated' That Sexual Harass...</td>\n",
       "      <td>https://www.huffingtonpost.com/entry/morgan-fr...</td>\n",
       "      <td>\"It is not right to equate horrific incidents ...</td>\n",
       "    </tr>\n",
       "    <tr>\n",
       "      <th>6</th>\n",
       "      <td>Ron Dicker</td>\n",
       "      <td>ENTERTAINMENT</td>\n",
       "      <td>2018-05-26</td>\n",
       "      <td>Donald Trump Is Lovin' New McDonald's Jingle I...</td>\n",
       "      <td>https://www.huffingtonpost.com/entry/donald-tr...</td>\n",
       "      <td>It's catchy, all right.</td>\n",
       "    </tr>\n",
       "    <tr>\n",
       "      <th>7</th>\n",
       "      <td>Todd Van Luling</td>\n",
       "      <td>ENTERTAINMENT</td>\n",
       "      <td>2018-05-26</td>\n",
       "      <td>What To Watch On Amazon Prime That’s New This ...</td>\n",
       "      <td>https://www.huffingtonpost.com/entry/amazon-pr...</td>\n",
       "      <td>There's a great mini-series joining this week.</td>\n",
       "    </tr>\n",
       "    <tr>\n",
       "      <th>8</th>\n",
       "      <td>Andy McDonald</td>\n",
       "      <td>ENTERTAINMENT</td>\n",
       "      <td>2018-05-26</td>\n",
       "      <td>Mike Myers Reveals He'd 'Like To' Do A Fourth ...</td>\n",
       "      <td>https://www.huffingtonpost.com/entry/mike-myer...</td>\n",
       "      <td>Myer's kids may be pushing for a new \"Powers\" ...</td>\n",
       "    </tr>\n",
       "    <tr>\n",
       "      <th>9</th>\n",
       "      <td>Todd Van Luling</td>\n",
       "      <td>ENTERTAINMENT</td>\n",
       "      <td>2018-05-26</td>\n",
       "      <td>What To Watch On Hulu That’s New This Week</td>\n",
       "      <td>https://www.huffingtonpost.com/entry/hulu-what...</td>\n",
       "      <td>You're getting a recent Academy Award-winning ...</td>\n",
       "    </tr>\n",
       "  </tbody>\n",
       "</table>\n",
       "</div>"
      ],
      "text/plain": [
       "           authors       category       date  \\\n",
       "0  Melissa Jeltsen          CRIME 2018-05-26   \n",
       "1    Andy McDonald  ENTERTAINMENT 2018-05-26   \n",
       "2       Ron Dicker  ENTERTAINMENT 2018-05-26   \n",
       "3       Ron Dicker  ENTERTAINMENT 2018-05-26   \n",
       "4       Ron Dicker  ENTERTAINMENT 2018-05-26   \n",
       "5       Ron Dicker  ENTERTAINMENT 2018-05-26   \n",
       "6       Ron Dicker  ENTERTAINMENT 2018-05-26   \n",
       "7  Todd Van Luling  ENTERTAINMENT 2018-05-26   \n",
       "8    Andy McDonald  ENTERTAINMENT 2018-05-26   \n",
       "9  Todd Van Luling  ENTERTAINMENT 2018-05-26   \n",
       "\n",
       "                                            headline  \\\n",
       "0  There Were 2 Mass Shootings In Texas Last Week...   \n",
       "1  Will Smith Joins Diplo And Nicky Jam For The 2...   \n",
       "2    Hugh Grant Marries For The First Time At Age 57   \n",
       "3  Jim Carrey Blasts 'Castrato' Adam Schiff And D...   \n",
       "4  Julianna Margulies Uses Donald Trump Poop Bags...   \n",
       "5  Morgan Freeman 'Devastated' That Sexual Harass...   \n",
       "6  Donald Trump Is Lovin' New McDonald's Jingle I...   \n",
       "7  What To Watch On Amazon Prime That’s New This ...   \n",
       "8  Mike Myers Reveals He'd 'Like To' Do A Fourth ...   \n",
       "9         What To Watch On Hulu That’s New This Week   \n",
       "\n",
       "                                                link  \\\n",
       "0  https://www.huffingtonpost.com/entry/texas-ama...   \n",
       "1  https://www.huffingtonpost.com/entry/will-smit...   \n",
       "2  https://www.huffingtonpost.com/entry/hugh-gran...   \n",
       "3  https://www.huffingtonpost.com/entry/jim-carre...   \n",
       "4  https://www.huffingtonpost.com/entry/julianna-...   \n",
       "5  https://www.huffingtonpost.com/entry/morgan-fr...   \n",
       "6  https://www.huffingtonpost.com/entry/donald-tr...   \n",
       "7  https://www.huffingtonpost.com/entry/amazon-pr...   \n",
       "8  https://www.huffingtonpost.com/entry/mike-myer...   \n",
       "9  https://www.huffingtonpost.com/entry/hulu-what...   \n",
       "\n",
       "                                   short_description  \n",
       "0  She left her husband. He killed their children...  \n",
       "1                           Of course it has a song.  \n",
       "2  The actor and his longtime girlfriend Anna Ebe...  \n",
       "3  The actor gives Dems an ass-kicking for not fi...  \n",
       "4  The \"Dietland\" actress said using the bags is ...  \n",
       "5  \"It is not right to equate horrific incidents ...  \n",
       "6                            It's catchy, all right.  \n",
       "7     There's a great mini-series joining this week.  \n",
       "8  Myer's kids may be pushing for a new \"Powers\" ...  \n",
       "9  You're getting a recent Academy Award-winning ...  "
      ]
     },
     "execution_count": 837,
     "metadata": {},
     "output_type": "execute_result"
    }
   ],
   "source": [
    "news_data = pd.read_json(\"News.json\", lines = True)\n",
    "news_data.head(10)"
   ]
  },
  {
   "cell_type": "code",
   "execution_count": 838,
   "metadata": {},
   "outputs": [
    {
     "data": {
      "text/html": [
       "<div>\n",
       "<style scoped>\n",
       "    .dataframe tbody tr th:only-of-type {\n",
       "        vertical-align: middle;\n",
       "    }\n",
       "\n",
       "    .dataframe tbody tr th {\n",
       "        vertical-align: top;\n",
       "    }\n",
       "\n",
       "    .dataframe thead th {\n",
       "        text-align: right;\n",
       "    }\n",
       "</style>\n",
       "<table border=\"1\" class=\"dataframe\">\n",
       "  <thead>\n",
       "    <tr style=\"text-align: right;\">\n",
       "      <th></th>\n",
       "      <th>authors</th>\n",
       "      <th>category</th>\n",
       "      <th>date</th>\n",
       "      <th>headline</th>\n",
       "      <th>link</th>\n",
       "      <th>short_description</th>\n",
       "    </tr>\n",
       "  </thead>\n",
       "  <tbody>\n",
       "    <tr>\n",
       "      <th>200843</th>\n",
       "      <td>Mateo Gutierrez, Contributor\\nArtist</td>\n",
       "      <td>TECH</td>\n",
       "      <td>2012-01-28</td>\n",
       "      <td>Good Games -- Is It possible?</td>\n",
       "      <td>https://www.huffingtonpost.com/entry/games-for...</td>\n",
       "      <td>I don't think people who play Zynga games are ...</td>\n",
       "    </tr>\n",
       "    <tr>\n",
       "      <th>200844</th>\n",
       "      <td>Larry Magid, Contributor\\nTechnology journalist</td>\n",
       "      <td>TECH</td>\n",
       "      <td>2012-01-28</td>\n",
       "      <td>Google+ Now Open for Teens With Some Safeguards</td>\n",
       "      <td>https://www.huffingtonpost.com/entry/google-pl...</td>\n",
       "      <td>For the most part, teens' experience on Google...</td>\n",
       "    </tr>\n",
       "    <tr>\n",
       "      <th>200845</th>\n",
       "      <td>John Giacobbi, Contributor\\nTales from the Int...</td>\n",
       "      <td>TECH</td>\n",
       "      <td>2012-01-28</td>\n",
       "      <td>Web Wars</td>\n",
       "      <td>https://www.huffingtonpost.com/entry/congress-...</td>\n",
       "      <td>These \"Web Wars\" threaten to rage on for some ...</td>\n",
       "    </tr>\n",
       "    <tr>\n",
       "      <th>200846</th>\n",
       "      <td></td>\n",
       "      <td>TECH</td>\n",
       "      <td>2012-01-28</td>\n",
       "      <td>First White House Chief Technology Officer, An...</td>\n",
       "      <td>https://www.huffingtonpost.comhttp://www.engad...</td>\n",
       "      <td>He was appointed with a fair bit of fanfare as...</td>\n",
       "    </tr>\n",
       "    <tr>\n",
       "      <th>200847</th>\n",
       "      <td>Catharine Smith</td>\n",
       "      <td>TECH</td>\n",
       "      <td>2012-01-28</td>\n",
       "      <td>Watch The Top 9 YouTube Videos Of The Week</td>\n",
       "      <td>https://www.huffingtonpost.com/entry/watch-top...</td>\n",
       "      <td>If you're looking to see the most popular YouT...</td>\n",
       "    </tr>\n",
       "    <tr>\n",
       "      <th>200848</th>\n",
       "      <td>Reuters, Reuters</td>\n",
       "      <td>TECH</td>\n",
       "      <td>2012-01-28</td>\n",
       "      <td>RIM CEO Thorsten Heins' 'Significant' Plans Fo...</td>\n",
       "      <td>https://www.huffingtonpost.com/entry/rim-ceo-t...</td>\n",
       "      <td>Verizon Wireless and AT&amp;T are already promotin...</td>\n",
       "    </tr>\n",
       "    <tr>\n",
       "      <th>200849</th>\n",
       "      <td></td>\n",
       "      <td>SPORTS</td>\n",
       "      <td>2012-01-28</td>\n",
       "      <td>Maria Sharapova Stunned By Victoria Azarenka I...</td>\n",
       "      <td>https://www.huffingtonpost.com/entry/maria-sha...</td>\n",
       "      <td>Afterward, Azarenka, more effusive with the pr...</td>\n",
       "    </tr>\n",
       "    <tr>\n",
       "      <th>200850</th>\n",
       "      <td></td>\n",
       "      <td>SPORTS</td>\n",
       "      <td>2012-01-28</td>\n",
       "      <td>Giants Over Patriots, Jets Over Colts Among  M...</td>\n",
       "      <td>https://www.huffingtonpost.com/entry/super-bow...</td>\n",
       "      <td>Leading up to Super Bowl XLVI, the most talked...</td>\n",
       "    </tr>\n",
       "    <tr>\n",
       "      <th>200851</th>\n",
       "      <td></td>\n",
       "      <td>SPORTS</td>\n",
       "      <td>2012-01-28</td>\n",
       "      <td>Aldon Smith Arrested: 49ers Linebacker Busted ...</td>\n",
       "      <td>https://www.huffingtonpost.com/entry/aldon-smi...</td>\n",
       "      <td>CORRECTION: An earlier version of this story i...</td>\n",
       "    </tr>\n",
       "    <tr>\n",
       "      <th>200852</th>\n",
       "      <td></td>\n",
       "      <td>SPORTS</td>\n",
       "      <td>2012-01-28</td>\n",
       "      <td>Dwight Howard Rips Teammates After Magic Loss ...</td>\n",
       "      <td>https://www.huffingtonpost.com/entry/dwight-ho...</td>\n",
       "      <td>The five-time all-star center tore into his te...</td>\n",
       "    </tr>\n",
       "  </tbody>\n",
       "</table>\n",
       "</div>"
      ],
      "text/plain": [
       "                                                  authors category       date  \\\n",
       "200843               Mateo Gutierrez, Contributor\\nArtist     TECH 2012-01-28   \n",
       "200844    Larry Magid, Contributor\\nTechnology journalist     TECH 2012-01-28   \n",
       "200845  John Giacobbi, Contributor\\nTales from the Int...     TECH 2012-01-28   \n",
       "200846                                                        TECH 2012-01-28   \n",
       "200847                                    Catharine Smith     TECH 2012-01-28   \n",
       "200848                                   Reuters, Reuters     TECH 2012-01-28   \n",
       "200849                                                      SPORTS 2012-01-28   \n",
       "200850                                                      SPORTS 2012-01-28   \n",
       "200851                                                      SPORTS 2012-01-28   \n",
       "200852                                                      SPORTS 2012-01-28   \n",
       "\n",
       "                                                 headline  \\\n",
       "200843                      Good Games -- Is It possible?   \n",
       "200844    Google+ Now Open for Teens With Some Safeguards   \n",
       "200845                                           Web Wars   \n",
       "200846  First White House Chief Technology Officer, An...   \n",
       "200847         Watch The Top 9 YouTube Videos Of The Week   \n",
       "200848  RIM CEO Thorsten Heins' 'Significant' Plans Fo...   \n",
       "200849  Maria Sharapova Stunned By Victoria Azarenka I...   \n",
       "200850  Giants Over Patriots, Jets Over Colts Among  M...   \n",
       "200851  Aldon Smith Arrested: 49ers Linebacker Busted ...   \n",
       "200852  Dwight Howard Rips Teammates After Magic Loss ...   \n",
       "\n",
       "                                                     link  \\\n",
       "200843  https://www.huffingtonpost.com/entry/games-for...   \n",
       "200844  https://www.huffingtonpost.com/entry/google-pl...   \n",
       "200845  https://www.huffingtonpost.com/entry/congress-...   \n",
       "200846  https://www.huffingtonpost.comhttp://www.engad...   \n",
       "200847  https://www.huffingtonpost.com/entry/watch-top...   \n",
       "200848  https://www.huffingtonpost.com/entry/rim-ceo-t...   \n",
       "200849  https://www.huffingtonpost.com/entry/maria-sha...   \n",
       "200850  https://www.huffingtonpost.com/entry/super-bow...   \n",
       "200851  https://www.huffingtonpost.com/entry/aldon-smi...   \n",
       "200852  https://www.huffingtonpost.com/entry/dwight-ho...   \n",
       "\n",
       "                                        short_description  \n",
       "200843  I don't think people who play Zynga games are ...  \n",
       "200844  For the most part, teens' experience on Google...  \n",
       "200845  These \"Web Wars\" threaten to rage on for some ...  \n",
       "200846  He was appointed with a fair bit of fanfare as...  \n",
       "200847  If you're looking to see the most popular YouT...  \n",
       "200848  Verizon Wireless and AT&T are already promotin...  \n",
       "200849  Afterward, Azarenka, more effusive with the pr...  \n",
       "200850  Leading up to Super Bowl XLVI, the most talked...  \n",
       "200851  CORRECTION: An earlier version of this story i...  \n",
       "200852  The five-time all-star center tore into his te...  "
      ]
     },
     "execution_count": 838,
     "metadata": {},
     "output_type": "execute_result"
    }
   ],
   "source": [
    "news_data = news_data.dropna()\n",
    "news_data.tail(10)"
   ]
  },
  {
   "cell_type": "code",
   "execution_count": 839,
   "metadata": {},
   "outputs": [
    {
     "data": {
      "text/html": [
       "<div>\n",
       "<style scoped>\n",
       "    .dataframe tbody tr th:only-of-type {\n",
       "        vertical-align: middle;\n",
       "    }\n",
       "\n",
       "    .dataframe tbody tr th {\n",
       "        vertical-align: top;\n",
       "    }\n",
       "\n",
       "    .dataframe thead th {\n",
       "        text-align: right;\n",
       "    }\n",
       "</style>\n",
       "<table border=\"1\" class=\"dataframe\">\n",
       "  <thead>\n",
       "    <tr style=\"text-align: right;\">\n",
       "      <th></th>\n",
       "      <th>category</th>\n",
       "      <th>headline</th>\n",
       "      <th>short_description</th>\n",
       "    </tr>\n",
       "  </thead>\n",
       "  <tbody>\n",
       "    <tr>\n",
       "      <th>200843</th>\n",
       "      <td>TECH</td>\n",
       "      <td>Good Games -- Is It possible?</td>\n",
       "      <td>I don't think people who play Zynga games are ...</td>\n",
       "    </tr>\n",
       "    <tr>\n",
       "      <th>200844</th>\n",
       "      <td>TECH</td>\n",
       "      <td>Google+ Now Open for Teens With Some Safeguards</td>\n",
       "      <td>For the most part, teens' experience on Google...</td>\n",
       "    </tr>\n",
       "    <tr>\n",
       "      <th>200845</th>\n",
       "      <td>TECH</td>\n",
       "      <td>Web Wars</td>\n",
       "      <td>These \"Web Wars\" threaten to rage on for some ...</td>\n",
       "    </tr>\n",
       "    <tr>\n",
       "      <th>200846</th>\n",
       "      <td>TECH</td>\n",
       "      <td>First White House Chief Technology Officer, An...</td>\n",
       "      <td>He was appointed with a fair bit of fanfare as...</td>\n",
       "    </tr>\n",
       "    <tr>\n",
       "      <th>200847</th>\n",
       "      <td>TECH</td>\n",
       "      <td>Watch The Top 9 YouTube Videos Of The Week</td>\n",
       "      <td>If you're looking to see the most popular YouT...</td>\n",
       "    </tr>\n",
       "    <tr>\n",
       "      <th>200848</th>\n",
       "      <td>TECH</td>\n",
       "      <td>RIM CEO Thorsten Heins' 'Significant' Plans Fo...</td>\n",
       "      <td>Verizon Wireless and AT&amp;T are already promotin...</td>\n",
       "    </tr>\n",
       "    <tr>\n",
       "      <th>200849</th>\n",
       "      <td>SPORTS</td>\n",
       "      <td>Maria Sharapova Stunned By Victoria Azarenka I...</td>\n",
       "      <td>Afterward, Azarenka, more effusive with the pr...</td>\n",
       "    </tr>\n",
       "    <tr>\n",
       "      <th>200850</th>\n",
       "      <td>SPORTS</td>\n",
       "      <td>Giants Over Patriots, Jets Over Colts Among  M...</td>\n",
       "      <td>Leading up to Super Bowl XLVI, the most talked...</td>\n",
       "    </tr>\n",
       "    <tr>\n",
       "      <th>200851</th>\n",
       "      <td>SPORTS</td>\n",
       "      <td>Aldon Smith Arrested: 49ers Linebacker Busted ...</td>\n",
       "      <td>CORRECTION: An earlier version of this story i...</td>\n",
       "    </tr>\n",
       "    <tr>\n",
       "      <th>200852</th>\n",
       "      <td>SPORTS</td>\n",
       "      <td>Dwight Howard Rips Teammates After Magic Loss ...</td>\n",
       "      <td>The five-time all-star center tore into his te...</td>\n",
       "    </tr>\n",
       "  </tbody>\n",
       "</table>\n",
       "</div>"
      ],
      "text/plain": [
       "       category                                           headline  \\\n",
       "200843     TECH                      Good Games -- Is It possible?   \n",
       "200844     TECH    Google+ Now Open for Teens With Some Safeguards   \n",
       "200845     TECH                                           Web Wars   \n",
       "200846     TECH  First White House Chief Technology Officer, An...   \n",
       "200847     TECH         Watch The Top 9 YouTube Videos Of The Week   \n",
       "200848     TECH  RIM CEO Thorsten Heins' 'Significant' Plans Fo...   \n",
       "200849   SPORTS  Maria Sharapova Stunned By Victoria Azarenka I...   \n",
       "200850   SPORTS  Giants Over Patriots, Jets Over Colts Among  M...   \n",
       "200851   SPORTS  Aldon Smith Arrested: 49ers Linebacker Busted ...   \n",
       "200852   SPORTS  Dwight Howard Rips Teammates After Magic Loss ...   \n",
       "\n",
       "                                        short_description  \n",
       "200843  I don't think people who play Zynga games are ...  \n",
       "200844  For the most part, teens' experience on Google...  \n",
       "200845  These \"Web Wars\" threaten to rage on for some ...  \n",
       "200846  He was appointed with a fair bit of fanfare as...  \n",
       "200847  If you're looking to see the most popular YouT...  \n",
       "200848  Verizon Wireless and AT&T are already promotin...  \n",
       "200849  Afterward, Azarenka, more effusive with the pr...  \n",
       "200850  Leading up to Super Bowl XLVI, the most talked...  \n",
       "200851  CORRECTION: An earlier version of this story i...  \n",
       "200852  The five-time all-star center tore into his te...  "
      ]
     },
     "execution_count": 839,
     "metadata": {},
     "output_type": "execute_result"
    }
   ],
   "source": [
    "news_data = news_data.drop([\"authors\", \"link\", \"date\"], axis = 1)\n",
    "news_data.tail(10)"
   ]
  },
  {
   "cell_type": "code",
   "execution_count": 840,
   "metadata": {},
   "outputs": [
    {
     "data": {
      "text/html": [
       "<div>\n",
       "<style scoped>\n",
       "    .dataframe tbody tr th:only-of-type {\n",
       "        vertical-align: middle;\n",
       "    }\n",
       "\n",
       "    .dataframe tbody tr th {\n",
       "        vertical-align: top;\n",
       "    }\n",
       "\n",
       "    .dataframe thead th {\n",
       "        text-align: right;\n",
       "    }\n",
       "</style>\n",
       "<table border=\"1\" class=\"dataframe\">\n",
       "  <thead>\n",
       "    <tr style=\"text-align: right;\">\n",
       "      <th></th>\n",
       "      <th>category</th>\n",
       "      <th>headline</th>\n",
       "      <th>short_description</th>\n",
       "      <th>text</th>\n",
       "    </tr>\n",
       "  </thead>\n",
       "  <tbody>\n",
       "    <tr>\n",
       "      <th>0</th>\n",
       "      <td>CRIME</td>\n",
       "      <td>There Were 2 Mass Shootings In Texas Last Week...</td>\n",
       "      <td>She left her husband. He killed their children...</td>\n",
       "      <td>There Were 2 Mass Shootings In Texas Last Week...</td>\n",
       "    </tr>\n",
       "    <tr>\n",
       "      <th>1</th>\n",
       "      <td>ENTERTAINMENT</td>\n",
       "      <td>Will Smith Joins Diplo And Nicky Jam For The 2...</td>\n",
       "      <td>Of course it has a song.</td>\n",
       "      <td>Will Smith Joins Diplo And Nicky Jam For The 2...</td>\n",
       "    </tr>\n",
       "    <tr>\n",
       "      <th>2</th>\n",
       "      <td>ENTERTAINMENT</td>\n",
       "      <td>Hugh Grant Marries For The First Time At Age 57</td>\n",
       "      <td>The actor and his longtime girlfriend Anna Ebe...</td>\n",
       "      <td>Hugh Grant Marries For The First Time At Age 5...</td>\n",
       "    </tr>\n",
       "    <tr>\n",
       "      <th>3</th>\n",
       "      <td>ENTERTAINMENT</td>\n",
       "      <td>Jim Carrey Blasts 'Castrato' Adam Schiff And D...</td>\n",
       "      <td>The actor gives Dems an ass-kicking for not fi...</td>\n",
       "      <td>Jim Carrey Blasts 'Castrato' Adam Schiff And D...</td>\n",
       "    </tr>\n",
       "    <tr>\n",
       "      <th>4</th>\n",
       "      <td>ENTERTAINMENT</td>\n",
       "      <td>Julianna Margulies Uses Donald Trump Poop Bags...</td>\n",
       "      <td>The \"Dietland\" actress said using the bags is ...</td>\n",
       "      <td>Julianna Margulies Uses Donald Trump Poop Bags...</td>\n",
       "    </tr>\n",
       "    <tr>\n",
       "      <th>5</th>\n",
       "      <td>ENTERTAINMENT</td>\n",
       "      <td>Morgan Freeman 'Devastated' That Sexual Harass...</td>\n",
       "      <td>\"It is not right to equate horrific incidents ...</td>\n",
       "      <td>Morgan Freeman 'Devastated' That Sexual Harass...</td>\n",
       "    </tr>\n",
       "    <tr>\n",
       "      <th>6</th>\n",
       "      <td>ENTERTAINMENT</td>\n",
       "      <td>Donald Trump Is Lovin' New McDonald's Jingle I...</td>\n",
       "      <td>It's catchy, all right.</td>\n",
       "      <td>Donald Trump Is Lovin' New McDonald's Jingle I...</td>\n",
       "    </tr>\n",
       "    <tr>\n",
       "      <th>7</th>\n",
       "      <td>ENTERTAINMENT</td>\n",
       "      <td>What To Watch On Amazon Prime That’s New This ...</td>\n",
       "      <td>There's a great mini-series joining this week.</td>\n",
       "      <td>What To Watch On Amazon Prime That’s New This ...</td>\n",
       "    </tr>\n",
       "    <tr>\n",
       "      <th>8</th>\n",
       "      <td>ENTERTAINMENT</td>\n",
       "      <td>Mike Myers Reveals He'd 'Like To' Do A Fourth ...</td>\n",
       "      <td>Myer's kids may be pushing for a new \"Powers\" ...</td>\n",
       "      <td>Mike Myers Reveals He'd 'Like To' Do A Fourth ...</td>\n",
       "    </tr>\n",
       "    <tr>\n",
       "      <th>9</th>\n",
       "      <td>ENTERTAINMENT</td>\n",
       "      <td>What To Watch On Hulu That’s New This Week</td>\n",
       "      <td>You're getting a recent Academy Award-winning ...</td>\n",
       "      <td>What To Watch On Hulu That’s New This Week You...</td>\n",
       "    </tr>\n",
       "  </tbody>\n",
       "</table>\n",
       "</div>"
      ],
      "text/plain": [
       "        category                                           headline  \\\n",
       "0          CRIME  There Were 2 Mass Shootings In Texas Last Week...   \n",
       "1  ENTERTAINMENT  Will Smith Joins Diplo And Nicky Jam For The 2...   \n",
       "2  ENTERTAINMENT    Hugh Grant Marries For The First Time At Age 57   \n",
       "3  ENTERTAINMENT  Jim Carrey Blasts 'Castrato' Adam Schiff And D...   \n",
       "4  ENTERTAINMENT  Julianna Margulies Uses Donald Trump Poop Bags...   \n",
       "5  ENTERTAINMENT  Morgan Freeman 'Devastated' That Sexual Harass...   \n",
       "6  ENTERTAINMENT  Donald Trump Is Lovin' New McDonald's Jingle I...   \n",
       "7  ENTERTAINMENT  What To Watch On Amazon Prime That’s New This ...   \n",
       "8  ENTERTAINMENT  Mike Myers Reveals He'd 'Like To' Do A Fourth ...   \n",
       "9  ENTERTAINMENT         What To Watch On Hulu That’s New This Week   \n",
       "\n",
       "                                   short_description  \\\n",
       "0  She left her husband. He killed their children...   \n",
       "1                           Of course it has a song.   \n",
       "2  The actor and his longtime girlfriend Anna Ebe...   \n",
       "3  The actor gives Dems an ass-kicking for not fi...   \n",
       "4  The \"Dietland\" actress said using the bags is ...   \n",
       "5  \"It is not right to equate horrific incidents ...   \n",
       "6                            It's catchy, all right.   \n",
       "7     There's a great mini-series joining this week.   \n",
       "8  Myer's kids may be pushing for a new \"Powers\" ...   \n",
       "9  You're getting a recent Academy Award-winning ...   \n",
       "\n",
       "                                                text  \n",
       "0  There Were 2 Mass Shootings In Texas Last Week...  \n",
       "1  Will Smith Joins Diplo And Nicky Jam For The 2...  \n",
       "2  Hugh Grant Marries For The First Time At Age 5...  \n",
       "3  Jim Carrey Blasts 'Castrato' Adam Schiff And D...  \n",
       "4  Julianna Margulies Uses Donald Trump Poop Bags...  \n",
       "5  Morgan Freeman 'Devastated' That Sexual Harass...  \n",
       "6  Donald Trump Is Lovin' New McDonald's Jingle I...  \n",
       "7  What To Watch On Amazon Prime That’s New This ...  \n",
       "8  Mike Myers Reveals He'd 'Like To' Do A Fourth ...  \n",
       "9  What To Watch On Hulu That’s New This Week You...  "
      ]
     },
     "execution_count": 840,
     "metadata": {},
     "output_type": "execute_result"
    }
   ],
   "source": [
    "news_data[\"text\"] = news_data[\"headline\"] + \" \" + news_data[\"short_description\"]\n",
    "news_data.head(10)"
   ]
  },
  {
   "cell_type": "code",
   "execution_count": 841,
   "metadata": {},
   "outputs": [
    {
     "data": {
      "text/html": [
       "<div>\n",
       "<style scoped>\n",
       "    .dataframe tbody tr th:only-of-type {\n",
       "        vertical-align: middle;\n",
       "    }\n",
       "\n",
       "    .dataframe tbody tr th {\n",
       "        vertical-align: top;\n",
       "    }\n",
       "\n",
       "    .dataframe thead th {\n",
       "        text-align: right;\n",
       "    }\n",
       "</style>\n",
       "<table border=\"1\" class=\"dataframe\">\n",
       "  <thead>\n",
       "    <tr style=\"text-align: right;\">\n",
       "      <th></th>\n",
       "      <th>category</th>\n",
       "      <th>text</th>\n",
       "    </tr>\n",
       "  </thead>\n",
       "  <tbody>\n",
       "    <tr>\n",
       "      <th>12177</th>\n",
       "      <td>QUEER VOICES</td>\n",
       "      <td>Pride Is Taking Responsibility For The Future ...</td>\n",
       "    </tr>\n",
       "    <tr>\n",
       "      <th>180337</th>\n",
       "      <td>WELLNESS</td>\n",
       "      <td>Please Meditate: Are You Neglecting Beauty? (W...</td>\n",
       "    </tr>\n",
       "    <tr>\n",
       "      <th>62240</th>\n",
       "      <td>WOMEN</td>\n",
       "      <td>The Important Reason Women Are Sharing Their B...</td>\n",
       "    </tr>\n",
       "    <tr>\n",
       "      <th>150275</th>\n",
       "      <td>WELLNESS</td>\n",
       "      <td>We Resort To Habits Under Stress -- Even Healt...</td>\n",
       "    </tr>\n",
       "    <tr>\n",
       "      <th>58065</th>\n",
       "      <td>THE WORLDPOST</td>\n",
       "      <td>Arms Embargo On Vietnam In The Balance As Obam...</td>\n",
       "    </tr>\n",
       "  </tbody>\n",
       "</table>\n",
       "</div>"
      ],
      "text/plain": [
       "             category                                               text\n",
       "12177    QUEER VOICES  Pride Is Taking Responsibility For The Future ...\n",
       "180337       WELLNESS  Please Meditate: Are You Neglecting Beauty? (W...\n",
       "62240           WOMEN  The Important Reason Women Are Sharing Their B...\n",
       "150275       WELLNESS  We Resort To Habits Under Stress -- Even Healt...\n",
       "58065   THE WORLDPOST  Arms Embargo On Vietnam In The Balance As Obam..."
      ]
     },
     "execution_count": 841,
     "metadata": {},
     "output_type": "execute_result"
    }
   ],
   "source": [
    "news_data = news_data.drop ([\"headline\", \"short_description\"], axis = 1)\n",
    "news_data.sample(5)"
   ]
  },
  {
   "cell_type": "code",
   "execution_count": 842,
   "metadata": {},
   "outputs": [
    {
     "name": "stdout",
     "output_type": "stream",
     "text": [
      "In this dataset we have 41 news categories.\n",
      "category\n",
      "ARTS               1509\n",
      "ARTS & CULTURE     1339\n",
      "BLACK VOICES       4528\n",
      "BUSINESS           5937\n",
      "COLLEGE            1144\n",
      "COMEDY             5175\n",
      "CRIME              3405\n",
      "CULTURE & ARTS     1030\n",
      "DIVORCE            3426\n",
      "EDUCATION          1004\n",
      "ENTERTAINMENT     16058\n",
      "ENVIRONMENT        1323\n",
      "FIFTY              1401\n",
      "FOOD & DRINK       6226\n",
      "GOOD NEWS          1398\n",
      "GREEN              2622\n",
      "HEALTHY LIVING     6694\n",
      "HOME & LIVING      4195\n",
      "IMPACT             3459\n",
      "LATINO VOICES      1129\n",
      "MEDIA              2815\n",
      "MONEY              1707\n",
      "PARENTING          8677\n",
      "PARENTS            3955\n",
      "POLITICS          32739\n",
      "QUEER VOICES       6314\n",
      "RELIGION           2556\n",
      "SCIENCE            2178\n",
      "SPORTS             4884\n",
      "STYLE              2254\n",
      "STYLE & BEAUTY     9649\n",
      "TASTE              2096\n",
      "TECH               2082\n",
      "THE WORLDPOST      3664\n",
      "TRAVEL             9887\n",
      "WEDDINGS           3651\n",
      "WEIRD NEWS         2670\n",
      "WELLNESS          17827\n",
      "WOMEN              3490\n",
      "WORLD NEWS         2177\n",
      "WORLDPOST          2579\n",
      "dtype: int64\n"
     ]
    }
   ],
   "source": [
    "categories = news_data.groupby(\"category\")\n",
    "print(\"In this dataset we have {} news categories.\" .format(categories.ngroups))\n",
    "print (categories.size())"
   ]
  },
  {
   "cell_type": "code",
   "execution_count": 843,
   "metadata": {},
   "outputs": [],
   "source": [
    "art = ['ARTS','ARTS & CULTURE', 'CULTURE & ARTS']\n",
    "voices = ['BLACK VOICES', 'IMPACT', 'LATINO VOICES', 'QUEER VOICES', 'RELIGION', 'WOMEN']\n",
    "business = ['MONEY', 'BUSINESS']\n",
    "education = ['COLLEGE', 'EDUCATION']\n",
    "entertainment = ['COMEDY', 'ENTERTAINMENT', 'MEDIA']\n",
    "health_environment = ['ENVIRONMENT', 'FOOD & DRINK', 'GREEN', 'HEALTHY LIVING', 'HOME & LIVING', 'TASTE', 'WELLNESS']\n",
    "family = ['DIVORCE', 'WEDDINGS', 'PARENTING', 'PARENTS']\n",
    "sci_tech = ['SCIENCE', 'TECH']\n",
    "fashion = ['STYLE', 'STYLE & BEAUTY']\n",
    "world = ['WORLD NEWS', 'THE WORLDPOST', 'WORLDPOST']\n",
    "drop = ['WEIRD NEWS', 'GOOD NEWS', 'FIFTY']"
   ]
  },
  {
   "cell_type": "code",
   "execution_count": 844,
   "metadata": {},
   "outputs": [],
   "source": [
    "news_data2 = news_data[~news_data.category.isin(drop)]"
   ]
  },
  {
   "cell_type": "code",
   "execution_count": 845,
   "metadata": {},
   "outputs": [
    {
     "name": "stderr",
     "output_type": "stream",
     "text": [
      "/Users/qab/anaconda3/lib/python3.7/site-packages/pandas/core/generic.py:8682: SettingWithCopyWarning: \n",
      "A value is trying to be set on a copy of a slice from a DataFrame\n",
      "\n",
      "See the caveats in the documentation: http://pandas.pydata.org/pandas-docs/stable/indexing.html#indexing-view-versus-copy\n",
      "  self._update_inplace(new_data)\n",
      "/Users/qab/anaconda3/lib/python3.7/site-packages/IPython/core/interactiveshell.py:3325: SettingWithCopyWarning: \n",
      "A value is trying to be set on a copy of a slice from a DataFrame\n",
      "\n",
      "See the caveats in the documentation: http://pandas.pydata.org/pandas-docs/stable/indexing.html#indexing-view-versus-copy\n",
      "  exec(code_obj, self.user_global_ns, self.user_ns)\n"
     ]
    }
   ],
   "source": [
    "news_data2.category[news_data2.category.isin(art)] = \"ART\"\n",
    "news_data2.category[news_data2.category.isin(voices)] = \"VOICES\"\n",
    "news_data2.category[news_data2.category.isin(business)] = \"BUSINESS\"\n",
    "news_data2.category[news_data2.category.isin(education)] = \"EDUCATION\"\n",
    "news_data2.category[news_data2.category.isin(entertainment)] = \"ENTERTAINMENT\"\n",
    "news_data2.category[news_data2.category.isin(health_environment)] = \"HEALTH & ENVIRONMENT\"\n",
    "news_data2.category[news_data2.category.isin(family)] = \"FAMILY\"\n",
    "news_data2.category[news_data2.category.isin(sci_tech)] = \"SCIENCE & TECHNOLOGY\"\n",
    "news_data2.category[news_data2.category.isin(fashion)] = \"FASHION\"\n",
    "news_data2.category[news_data2.category.isin(world)] = \"WORLD\""
   ]
  },
  {
   "cell_type": "code",
   "execution_count": 846,
   "metadata": {},
   "outputs": [],
   "source": [
    "news_data2 = news_data2.reset_index(drop = True)"
   ]
  },
  {
   "cell_type": "code",
   "execution_count": 847,
   "metadata": {},
   "outputs": [
    {
     "data": {
      "text/plain": [
       "195384"
      ]
     },
     "execution_count": 847,
     "metadata": {},
     "output_type": "execute_result"
    }
   ],
   "source": [
    "len(news_data2)"
   ]
  },
  {
   "cell_type": "code",
   "execution_count": 848,
   "metadata": {},
   "outputs": [],
   "source": [
    "news_data2.text = news_data2.text.replace('[0-9]','', regex = True)"
   ]
  },
  {
   "cell_type": "code",
   "execution_count": 849,
   "metadata": {},
   "outputs": [],
   "source": [
    "length = []\n",
    "for i in range(len(news_data2)):\n",
    "    length.append(len(news_data2.text[i].split()))"
   ]
  },
  {
   "cell_type": "code",
   "execution_count": 850,
   "metadata": {},
   "outputs": [],
   "source": [
    "news_data2[\"length\"] = length"
   ]
  },
  {
   "cell_type": "code",
   "execution_count": 851,
   "metadata": {},
   "outputs": [
    {
     "data": {
      "text/html": [
       "<div>\n",
       "<style scoped>\n",
       "    .dataframe tbody tr th:only-of-type {\n",
       "        vertical-align: middle;\n",
       "    }\n",
       "\n",
       "    .dataframe tbody tr th {\n",
       "        vertical-align: top;\n",
       "    }\n",
       "\n",
       "    .dataframe thead th {\n",
       "        text-align: right;\n",
       "    }\n",
       "</style>\n",
       "<table border=\"1\" class=\"dataframe\">\n",
       "  <thead>\n",
       "    <tr style=\"text-align: right;\">\n",
       "      <th></th>\n",
       "      <th>category</th>\n",
       "      <th>text</th>\n",
       "      <th>length</th>\n",
       "    </tr>\n",
       "  </thead>\n",
       "  <tbody>\n",
       "    <tr>\n",
       "      <th>0</th>\n",
       "      <td>CRIME</td>\n",
       "      <td>There Were  Mass Shootings In Texas Last Week,...</td>\n",
       "      <td>25</td>\n",
       "    </tr>\n",
       "    <tr>\n",
       "      <th>1</th>\n",
       "      <td>ENTERTAINMENT</td>\n",
       "      <td>Will Smith Joins Diplo And Nicky Jam For The  ...</td>\n",
       "      <td>19</td>\n",
       "    </tr>\n",
       "    <tr>\n",
       "      <th>2</th>\n",
       "      <td>ENTERTAINMENT</td>\n",
       "      <td>Hugh Grant Marries For The First Time At Age  ...</td>\n",
       "      <td>24</td>\n",
       "    </tr>\n",
       "    <tr>\n",
       "      <th>3</th>\n",
       "      <td>ENTERTAINMENT</td>\n",
       "      <td>Jim Carrey Blasts 'Castrato' Adam Schiff And D...</td>\n",
       "      <td>25</td>\n",
       "    </tr>\n",
       "    <tr>\n",
       "      <th>4</th>\n",
       "      <td>ENTERTAINMENT</td>\n",
       "      <td>Julianna Margulies Uses Donald Trump Poop Bags...</td>\n",
       "      <td>26</td>\n",
       "    </tr>\n",
       "  </tbody>\n",
       "</table>\n",
       "</div>"
      ],
      "text/plain": [
       "        category                                               text  length\n",
       "0          CRIME  There Were  Mass Shootings In Texas Last Week,...      25\n",
       "1  ENTERTAINMENT  Will Smith Joins Diplo And Nicky Jam For The  ...      19\n",
       "2  ENTERTAINMENT  Hugh Grant Marries For The First Time At Age  ...      24\n",
       "3  ENTERTAINMENT  Jim Carrey Blasts 'Castrato' Adam Schiff And D...      25\n",
       "4  ENTERTAINMENT  Julianna Margulies Uses Donald Trump Poop Bags...      26"
      ]
     },
     "execution_count": 851,
     "metadata": {},
     "output_type": "execute_result"
    }
   ],
   "source": [
    "news_data2.head(5)"
   ]
  },
  {
   "cell_type": "code",
   "execution_count": 852,
   "metadata": {},
   "outputs": [
    {
     "data": {
      "text/plain": [
       "181173"
      ]
     },
     "execution_count": 852,
     "metadata": {},
     "output_type": "execute_result"
    }
   ],
   "source": [
    "news_data2 = news_data2[news_data2.length>10]\n",
    "len(news_data2)"
   ]
  },
  {
   "cell_type": "code",
   "execution_count": 853,
   "metadata": {},
   "outputs": [
    {
     "name": "stdout",
     "output_type": "stream",
     "text": [
      "In this new dataset we have 14 news categories.\n",
      "category\n",
      "ART                      3472\n",
      "BUSINESS                 6984\n",
      "CRIME                    2839\n",
      "EDUCATION                1928\n",
      "ENTERTAINMENT           20887\n",
      "FAMILY                  19395\n",
      "FASHION                 11293\n",
      "HEALTH & ENVIRONMENT    39072\n",
      "POLITICS                30458\n",
      "SCIENCE & TECHNOLOGY     3897\n",
      "SPORTS                   4339\n",
      "TRAVEL                   9512\n",
      "VOICES                  19692\n",
      "WORLD                    7405\n",
      "dtype: int64\n"
     ]
    }
   ],
   "source": [
    "categories = news_data2.groupby(\"category\")\n",
    "print(\"In this new dataset we have {} news categories.\".format(categories.ngroups))\n",
    "print(categories.size())"
   ]
  },
  {
   "cell_type": "code",
   "execution_count": 854,
   "metadata": {},
   "outputs": [
    {
     "data": {
      "text/html": [
       "<div>\n",
       "<style scoped>\n",
       "    .dataframe tbody tr th:only-of-type {\n",
       "        vertical-align: middle;\n",
       "    }\n",
       "\n",
       "    .dataframe tbody tr th {\n",
       "        vertical-align: top;\n",
       "    }\n",
       "\n",
       "    .dataframe thead th {\n",
       "        text-align: right;\n",
       "    }\n",
       "</style>\n",
       "<table border=\"1\" class=\"dataframe\">\n",
       "  <thead>\n",
       "    <tr style=\"text-align: right;\">\n",
       "      <th></th>\n",
       "      <th>category</th>\n",
       "      <th>text</th>\n",
       "      <th>length</th>\n",
       "    </tr>\n",
       "  </thead>\n",
       "  <tbody>\n",
       "    <tr>\n",
       "      <th>0</th>\n",
       "      <td>CRIME</td>\n",
       "      <td>There Were  Mass Shootings In Texas Last Week,...</td>\n",
       "      <td>25</td>\n",
       "    </tr>\n",
       "    <tr>\n",
       "      <th>1</th>\n",
       "      <td>ENTERTAINMENT</td>\n",
       "      <td>Will Smith Joins Diplo And Nicky Jam For The  ...</td>\n",
       "      <td>19</td>\n",
       "    </tr>\n",
       "    <tr>\n",
       "      <th>2</th>\n",
       "      <td>ENTERTAINMENT</td>\n",
       "      <td>Hugh Grant Marries For The First Time At Age  ...</td>\n",
       "      <td>24</td>\n",
       "    </tr>\n",
       "    <tr>\n",
       "      <th>3</th>\n",
       "      <td>ENTERTAINMENT</td>\n",
       "      <td>Jim Carrey Blasts 'Castrato' Adam Schiff And D...</td>\n",
       "      <td>25</td>\n",
       "    </tr>\n",
       "    <tr>\n",
       "      <th>4</th>\n",
       "      <td>ENTERTAINMENT</td>\n",
       "      <td>Julianna Margulies Uses Donald Trump Poop Bags...</td>\n",
       "      <td>26</td>\n",
       "    </tr>\n",
       "  </tbody>\n",
       "</table>\n",
       "</div>"
      ],
      "text/plain": [
       "        category                                               text  length\n",
       "0          CRIME  There Were  Mass Shootings In Texas Last Week,...      25\n",
       "1  ENTERTAINMENT  Will Smith Joins Diplo And Nicky Jam For The  ...      19\n",
       "2  ENTERTAINMENT  Hugh Grant Marries For The First Time At Age  ...      24\n",
       "3  ENTERTAINMENT  Jim Carrey Blasts 'Castrato' Adam Schiff And D...      25\n",
       "4  ENTERTAINMENT  Julianna Margulies Uses Donald Trump Poop Bags...      26"
      ]
     },
     "execution_count": 854,
     "metadata": {},
     "output_type": "execute_result"
    }
   ],
   "source": [
    "news_data2.head(5)"
   ]
  },
  {
   "cell_type": "code",
   "execution_count": 856,
   "metadata": {},
   "outputs": [],
   "source": [
    "X_train, X_test, y_train, y_test = train_test_split(news_data2.text, news_data2.category, test_size=0.2, random_state=42)"
   ]
  },
  {
   "cell_type": "code",
   "execution_count": 857,
   "metadata": {},
   "outputs": [],
   "source": [
    "folds = KFold(n_splits = 5, shuffle = True, random_state = 1)"
   ]
  },
  {
   "cell_type": "code",
   "execution_count": 859,
   "metadata": {},
   "outputs": [],
   "source": [
    "vect = TfidfVectorizer(stop_words='english', ngram_range = (1,2), max_features = 20000,)"
   ]
  },
  {
   "cell_type": "code",
   "execution_count": 860,
   "metadata": {},
   "outputs": [],
   "source": [
    "from sklearn.naive_bayes import MultinomialNB\n",
    "from sklearn.linear_model import RidgeClassifier\n",
    "from xgboost.sklearn import XGBClassifier"
   ]
  },
  {
   "cell_type": "code",
   "execution_count": 861,
   "metadata": {},
   "outputs": [],
   "source": [
    "NB = MultinomialNB()\n",
    "Ridge = RidgeClassifier()\n",
    "XGB = XGBClassifier(objective = 'multi:softprob')"
   ]
  },
  {
   "cell_type": "code",
   "execution_count": 864,
   "metadata": {},
   "outputs": [],
   "source": [
    "def fit_cv(clf , name):\n",
    "    pipe = Pipeline([\n",
    "    ('vectorize', vect),\n",
    "    (name, clf)])\n",
    "    result = cross_validate(pipe, X_train, y_train, cv = folds, return_train_score=True,scoring = ('accuracy', \n",
    "                                                                                       'f1_weighted', \n",
    "                                                                                       'precision_weighted', \n",
    "                                                                                       'recall_weighted'))\n",
    "    return result"
   ]
  },
  {
   "cell_type": "code",
   "execution_count": null,
   "metadata": {},
   "outputs": [
    {
     "name": "stderr",
     "output_type": "stream",
     "text": [
      "/Users/qab/anaconda3/lib/python3.7/site-packages/sklearn/metrics/classification.py:1437: UndefinedMetricWarning: F-score is ill-defined and being set to 0.0 in labels with no predicted samples.\n",
      "  'precision', 'predicted', average, warn_for)\n",
      "/Users/qab/anaconda3/lib/python3.7/site-packages/sklearn/metrics/classification.py:1437: UndefinedMetricWarning: Precision is ill-defined and being set to 0.0 in labels with no predicted samples.\n",
      "  'precision', 'predicted', average, warn_for)\n"
     ]
    }
   ],
   "source": [
    "bayes = fit_cv(NB, 'NB')\n",
    "ridge = fit_cv(Ridge, 'Ridge')\n",
    "xgb = fit_cv(XGB, 'XGB')"
   ]
  },
  {
   "cell_type": "code",
   "execution_count": null,
   "metadata": {},
   "outputs": [],
   "source": [
    "bayes.keys()"
   ]
  },
  {
   "cell_type": "code",
   "execution_count": null,
   "metadata": {},
   "outputs": [],
   "source": [
    "b = pd.DataFrame.from_dict(bayes)\n",
    "b['model'] = [\"NB\",\"NB\",\"NB\",\"NB\",\"NB\"]\n",
    "r = pd.DataFrame.from_dict(ridge)\n",
    "r['model'] = [\"Ridge\",\"Ridge\",\"Ridge\",\"Ridge\",\"Ridge\"]\n",
    "x = pd.DataFrame.from_dict(xgb)\n",
    "x['model'] = [\"XGB\",\"XGB\",\"XGB\",\"XGB\",\"XGB\"]\n",
    "\n",
    "results = pd.concat([b,r,x])"
   ]
  },
  {
   "cell_type": "code",
   "execution_count": null,
   "metadata": {},
   "outputs": [],
   "source": [
    "results.sample(10)"
   ]
  },
  {
   "cell_type": "code",
   "execution_count": null,
   "metadata": {},
   "outputs": [],
   "source": [
    "models_eval = results.groupby(\"model\")"
   ]
  },
  {
   "cell_type": "code",
   "execution_count": null,
   "metadata": {},
   "outputs": [],
   "source": [
    "means = models_eval.mean()\n",
    "sd = models_eval.std()"
   ]
  },
  {
   "cell_type": "code",
   "execution_count": null,
   "metadata": {},
   "outputs": [],
   "source": [
    "means.head()"
   ]
  },
  {
   "cell_type": "code",
   "execution_count": null,
   "metadata": {},
   "outputs": [],
   "source": [
    "sd.head()"
   ]
  },
  {
   "cell_type": "code",
   "execution_count": null,
   "metadata": {},
   "outputs": [],
   "source": [
    "from sklearn import metrics\n",
    "import numpy as np\n",
    "import pandas as pd\n",
    "import matplotlib.pyplot as plt\n",
    "from sklearn.preprocessing import LabelEncoder\n",
    "from sklearn.base import clone\n",
    "from sklearn.preprocessing import label_binarize\n",
    "from scipy import interp\n",
    "from sklearn.metrics import roc_curve, auc \n",
    "\n",
    "\n",
    "def get_metrics(true_labels, predicted_labels):\n",
    "    \n",
    "    print('Accuracy:', np.round(\n",
    "                        metrics.accuracy_score(true_labels, \n",
    "                                               predicted_labels),\n",
    "                        4))\n",
    "    print('Precision:', np.round(\n",
    "                        metrics.precision_score(true_labels, \n",
    "                                               predicted_labels,\n",
    "                                               average='weighted'),\n",
    "                        4))\n",
    "    print('Recall:', np.round(\n",
    "                        metrics.recall_score(true_labels, \n",
    "                                               predicted_labels,\n",
    "                                               average='weighted'),\n",
    "                        4))\n",
    "    print('F1 Score:', np.round(\n",
    "                        metrics.f1_score(true_labels, \n",
    "                                               predicted_labels,\n",
    "                                               average='weighted'),\n",
    "                        4))\n",
    "                        \n",
    "\n",
    "\n",
    "def display_confusion_matrix(true_labels, predicted_labels, classes=[1,0]):\n",
    "    \n",
    "    total_classes = len(classes)\n",
    "    level_labels = [total_classes*[0], list(range(total_classes))]\n",
    "\n",
    "    cm = metrics.confusion_matrix(y_true=true_labels, y_pred=predicted_labels, \n",
    "                                  labels=classes)\n",
    "    cm_frame = pd.DataFrame(data=cm, \n",
    "                            columns=pd.MultiIndex(levels=[['Predicted:'], classes], \n",
    "                                                  labels=level_labels), \n",
    "                            index=pd.MultiIndex(levels=[['Actual:'], classes], \n",
    "                                                labels=level_labels)) \n",
    "    print(cm_frame) \n",
    "    \n",
    "def display_classification_report(true_labels, predicted_labels, classes=[1,0]):\n",
    "\n",
    "    report = metrics.classification_report(y_true=true_labels, \n",
    "                                           y_pred=predicted_labels, \n",
    "                                           labels=classes) \n",
    "    print(report)\n",
    "    \n",
    "    \n",
    "    \n",
    "def model_perf(true_labels, predicted_labels, classes=y_test.unique()):\n",
    "    print('Model Performance metrics:')\n",
    "    print('-'*30)\n",
    "    get_metrics(true_labels=true_labels, predicted_labels=predicted_labels)\n",
    "    print('\\nModel Classification report:')\n",
    "    print('-'*30)\n",
    "    display_classification_report(true_labels=true_labels, predicted_labels=predicted_labels, \n",
    "                                  classes=classes)\n",
    "    print('\\nPrediction Confusion Matrix:')\n",
    "    print('-'*30)\n",
    "    display_confusion_matrix(true_labels=true_labels, predicted_labels=predicted_labels, \n",
    "                             classes=classes)"
   ]
  },
  {
   "cell_type": "code",
   "execution_count": null,
   "metadata": {},
   "outputs": [],
   "source": [
    "Ridge = RidgeClassifier()\n",
    "pipe = Pipeline([('vectorize', vect),\n",
    "                 (\"model\", Ridge)])\n",
    "final_m = pipe.fit(X_train, y_train)"
   ]
  },
  {
   "cell_type": "code",
   "execution_count": null,
   "metadata": {},
   "outputs": [],
   "source": [
    "y_pred = final_m.predict(X_test)"
   ]
  },
  {
   "cell_type": "code",
   "execution_count": null,
   "metadata": {},
   "outputs": [],
   "source": [
    "model_perf(y_test, y_pred)"
   ]
  },
  {
   "cell_type": "code",
   "execution_count": null,
   "metadata": {},
   "outputs": [],
   "source": [
    "X = pd.concat([X_train, X_test])\n",
    "y = pd.concat([y_train, y_test])\n",
    "\n",
    "Ridge = RidgeClassifier()\n",
    "pipe = Pipeline([('vectorize', vect),\n",
    "                 (\"model\", Ridge)])\n",
    "final_m = pipe.fit(X_train, y_train)"
   ]
  },
  {
   "cell_type": "code",
   "execution_count": null,
   "metadata": {},
   "outputs": [],
   "source": [
    "from joblib import dump, load\n",
    "dump(final_m, 'news_classifier.joblib')"
   ]
  },
  {
   "cell_type": "code",
   "execution_count": null,
   "metadata": {},
   "outputs": [],
   "source": [
    "preprocessor = load(\"preprocessor.joblib\")\n",
    "model = load(\"classifier.joblib\")\n",
    "\n",
    "def predict_topic():\n",
    "  text = input(\"Enter text to be predicted: \")\n",
    "  text = preprocessor.transform([text])\n",
    "  prediction = model.predict(text)[0]\n",
    "  print(\"This text is most likely about {}.\" .format(prediction))"
   ]
  },
  {
   "cell_type": "code",
   "execution_count": null,
   "metadata": {},
   "outputs": [],
   "source": [
    "predict_topic()"
   ]
  }
 ],
 "metadata": {
  "kernelspec": {
   "display_name": "Python 3",
   "language": "python",
   "name": "python3"
  },
  "language_info": {
   "codemirror_mode": {
    "name": "ipython",
    "version": 3
   },
   "file_extension": ".py",
   "mimetype": "text/x-python",
   "name": "python",
   "nbconvert_exporter": "python",
   "pygments_lexer": "ipython3",
   "version": "3.7.3"
  }
 },
 "nbformat": 4,
 "nbformat_minor": 2
}
