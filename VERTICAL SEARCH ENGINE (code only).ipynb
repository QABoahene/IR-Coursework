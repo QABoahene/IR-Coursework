{
 "cells": [
  {
   "cell_type": "markdown",
   "metadata": {},
   "source": [
    "# A. Crawler"
   ]
  },
  {
   "cell_type": "code",
   "execution_count": 142,
   "metadata": {},
   "outputs": [],
   "source": [
    "import feedparser\n",
    "import pandas as pd"
   ]
  },
  {
   "cell_type": "code",
   "execution_count": 143,
   "metadata": {},
   "outputs": [
    {
     "name": "stdout",
     "output_type": "stream",
     "text": [
      "There are 49 news in the RSS feed.\n"
     ]
    }
   ],
   "source": [
    "LINK = \"https://sports.yahoo.com/nba/rss/\"\n",
    "feed = feedparser.parse(LINK)\n",
    "\n",
    "feed_len = len(feed.entries) #number of news in feed\n",
    "old_news = 0  # count how many news in feed were already scraped\n",
    "\n",
    "print(\"There are {} news in the RSS feed.\" .format(feed_len))"
   ]
  },
  {
   "cell_type": "code",
   "execution_count": 144,
   "metadata": {},
   "outputs": [
    {
     "data": {
      "text/html": [
       "<div>\n",
       "<style scoped>\n",
       "    .dataframe tbody tr th:only-of-type {\n",
       "        vertical-align: middle;\n",
       "    }\n",
       "\n",
       "    .dataframe tbody tr th {\n",
       "        vertical-align: top;\n",
       "    }\n",
       "\n",
       "    .dataframe thead th {\n",
       "        text-align: right;\n",
       "    }\n",
       "</style>\n",
       "<table border=\"1\" class=\"dataframe\">\n",
       "  <thead>\n",
       "    <tr style=\"text-align: right;\">\n",
       "      <th></th>\n",
       "      <th>ID</th>\n",
       "      <th>Title</th>\n",
       "      <th>Summary</th>\n",
       "      <th>Link</th>\n",
       "      <th>Published</th>\n",
       "    </tr>\n",
       "  </thead>\n",
       "  <tbody>\n",
       "  </tbody>\n",
       "</table>\n",
       "</div>"
      ],
      "text/plain": [
       "Empty DataFrame\n",
       "Columns: [ID, Title, Summary, Link, Published]\n",
       "Index: []"
      ]
     },
     "execution_count": 144,
     "metadata": {},
     "output_type": "execute_result"
    }
   ],
   "source": [
    "#meta_data = pd.read_csv(PATH + \"database.csv\", index_col = 'Unnamed: 0')\n",
    "final_data = pd.DataFrame(columns=['ID', 'Title', 'Summary', 'Link', 'Published'])\n",
    "final_data.head()"
   ]
  },
  {
   "cell_type": "code",
   "execution_count": 145,
   "metadata": {},
   "outputs": [],
   "source": [
    "def article_entry(entry, ID):\n",
    "  ID = ID\n",
    "  Title = entry.title\n",
    "  Summary = entry.summary\n",
    "  Link = entry.link\n",
    "  Published = str(entry.published_parsed.tm_mday) + '/' + \\\n",
    "              str(entry.published_parsed.tm_mon) + '/' + \\\n",
    "              str(entry.published_parsed.tm_year)\n",
    "  return [ID, Title, Summary, Link, Published]"
   ]
  },
  {
   "cell_type": "code",
   "execution_count": 146,
   "metadata": {},
   "outputs": [
    {
     "data": {
      "text/plain": [
       "[1,\n",
       " 'King of Texas: Doncic drops 41 in Houston',\n",
       " 'Every Mavericks game brings a new milestone for Luka Doncic. Sunday he became the second-youngest player in NBA history to top 30 points in 4 straight games.',\n",
       " 'https://sports.yahoo.com/luka-doncic-mavericks-rockets-durant-harden-westbrook-235024032.html?src=rss',\n",
       " '24/11/2019']"
      ]
     },
     "execution_count": 146,
     "metadata": {},
     "output_type": "execute_result"
    }
   ],
   "source": [
    "test_entry = feed.entries[0]\n",
    "article_entry(test_entry, 1)"
   ]
  },
  {
   "cell_type": "code",
   "execution_count": 147,
   "metadata": {},
   "outputs": [],
   "source": [
    "data = [] #dataframe for saving the entries\n",
    "n = len(final_data)+1 #ID value based on the highest ID value in database\n",
    "for i in range(len(feed.entries)):\n",
    "  entry = feed.entries[i]\n",
    "  \n",
    "  #check that link isn't in the database yet\n",
    "  if entry.link not in final_data['Link'].values:\n",
    "    processed = article_entry(entry = entry, ID=n)\n",
    "    data.append(processed)\n",
    "    n += 1 #increase the ID value\n",
    "  else: old_news += 1 #count already scraped entries"
   ]
  },
  {
   "cell_type": "code",
   "execution_count": 148,
   "metadata": {},
   "outputs": [],
   "source": [
    "if len(data) > 0:\n",
    "  #transform data to pandas DataFrame\n",
    "  news_extracted = pd.DataFrame(data, columns=['ID', 'Title', 'Summary', 'Link', 'Published'])\n",
    "\n",
    "  #add new news to the database\n",
    "  final_data = pd.concat([final_data, news_extracted], axis = 0)\n",
    "\n",
    "  #write database to a csv file\n",
    "  #meta_data.to_csv(PATH + \"database.csv\")"
   ]
  },
  {
   "cell_type": "code",
   "execution_count": 149,
   "metadata": {},
   "outputs": [
    {
     "data": {
      "text/html": [
       "<div>\n",
       "<style scoped>\n",
       "    .dataframe tbody tr th:only-of-type {\n",
       "        vertical-align: middle;\n",
       "    }\n",
       "\n",
       "    .dataframe tbody tr th {\n",
       "        vertical-align: top;\n",
       "    }\n",
       "\n",
       "    .dataframe thead th {\n",
       "        text-align: right;\n",
       "    }\n",
       "</style>\n",
       "<table border=\"1\" class=\"dataframe\">\n",
       "  <thead>\n",
       "    <tr style=\"text-align: right;\">\n",
       "      <th></th>\n",
       "      <th>ID</th>\n",
       "      <th>Title</th>\n",
       "      <th>Summary</th>\n",
       "      <th>Link</th>\n",
       "      <th>Published</th>\n",
       "    </tr>\n",
       "  </thead>\n",
       "  <tbody>\n",
       "    <tr>\n",
       "      <th>0</th>\n",
       "      <td>1</td>\n",
       "      <td>King of Texas: Doncic drops 41 in Houston</td>\n",
       "      <td>Every Mavericks game brings a new milestone fo...</td>\n",
       "      <td>https://sports.yahoo.com/luka-doncic-mavericks...</td>\n",
       "      <td>24/11/2019</td>\n",
       "    </tr>\n",
       "    <tr>\n",
       "      <th>1</th>\n",
       "      <td>2</td>\n",
       "      <td>Kelly Oubre dunks on Mason Plumlee with flair ...</td>\n",
       "      <td>The last time the Suns played the Nuggets, Kel...</td>\n",
       "      <td>https://sports.yahoo.com/kelly-oubre-dunks-mas...</td>\n",
       "      <td>25/11/2019</td>\n",
       "    </tr>\n",
       "    <tr>\n",
       "      <th>2</th>\n",
       "      <td>3</td>\n",
       "      <td>Spencer Dinwiddie thriving as starter with Kyr...</td>\n",
       "      <td>Dinwiddie is averaging 25 points and 6.2 assis...</td>\n",
       "      <td>https://sports.yahoo.com/spencer-dinwiddie-thr...</td>\n",
       "      <td>25/11/2019</td>\n",
       "    </tr>\n",
       "    <tr>\n",
       "      <th>3</th>\n",
       "      <td>4</td>\n",
       "      <td>Luka Doncic takes playful shot at Dirk Nowitzk...</td>\n",
       "      <td>Doncic joked no Nowitzki helps the defense.</td>\n",
       "      <td>https://sports.yahoo.com/luka-doncic-takes-pla...</td>\n",
       "      <td>25/11/2019</td>\n",
       "    </tr>\n",
       "    <tr>\n",
       "      <th>4</th>\n",
       "      <td>5</td>\n",
       "      <td>Three Things to Know: Luka Doncic is putting u...</td>\n",
       "      <td>Doncic is averaging 30.6 points, 10.1 rebounds...</td>\n",
       "      <td>https://sports.yahoo.com/three-things-know-luk...</td>\n",
       "      <td>25/11/2019</td>\n",
       "    </tr>\n",
       "    <tr>\n",
       "      <th>5</th>\n",
       "      <td>6</td>\n",
       "      <td>Luka Doncic shines ... again</td>\n",
       "      <td>While Luka Doncic went off in Houston, Spencer...</td>\n",
       "      <td>https://sports.yahoo.com/luka-doncic-shines-ag...</td>\n",
       "      <td>25/11/2019</td>\n",
       "    </tr>\n",
       "    <tr>\n",
       "      <th>6</th>\n",
       "      <td>7</td>\n",
       "      <td>Nets face Cavaliers, hope to keep rolling with...</td>\n",
       "      <td>As the Brooklyn Nets wait for Kyrie Irving to ...</td>\n",
       "      <td>https://sports.yahoo.com/nets-face-cavaliers-h...</td>\n",
       "      <td>25/11/2019</td>\n",
       "    </tr>\n",
       "    <tr>\n",
       "      <th>7</th>\n",
       "      <td>8</td>\n",
       "      <td>Losers of 3 of 4, Celtics face rematch with Kings</td>\n",
       "      <td>Few times is a doubtful designation for a game...</td>\n",
       "      <td>https://sports.yahoo.com/losers-3-4-celtics-fa...</td>\n",
       "      <td>25/11/2019</td>\n",
       "    </tr>\n",
       "    <tr>\n",
       "      <th>8</th>\n",
       "      <td>9</td>\n",
       "      <td>Must-See: Devin Booker prints poster on Paul M...</td>\n",
       "      <td></td>\n",
       "      <td>https://sports.yahoo.com/dunk-devin-booker-sec...</td>\n",
       "      <td>25/11/2019</td>\n",
       "    </tr>\n",
       "    <tr>\n",
       "      <th>9</th>\n",
       "      <td>10</td>\n",
       "      <td>Harrell ties career high with 34 as Clippers r...</td>\n",
       "      <td>Doc Rivers has seen the Los Angeles Clippers r...</td>\n",
       "      <td>https://sports.yahoo.com/harrell-ties-career-h...</td>\n",
       "      <td>25/11/2019</td>\n",
       "    </tr>\n",
       "  </tbody>\n",
       "</table>\n",
       "</div>"
      ],
      "text/plain": [
       "   ID                                              Title  \\\n",
       "0   1          King of Texas: Doncic drops 41 in Houston   \n",
       "1   2  Kelly Oubre dunks on Mason Plumlee with flair ...   \n",
       "2   3  Spencer Dinwiddie thriving as starter with Kyr...   \n",
       "3   4  Luka Doncic takes playful shot at Dirk Nowitzk...   \n",
       "4   5  Three Things to Know: Luka Doncic is putting u...   \n",
       "5   6                       Luka Doncic shines ... again   \n",
       "6   7  Nets face Cavaliers, hope to keep rolling with...   \n",
       "7   8  Losers of 3 of 4, Celtics face rematch with Kings   \n",
       "8   9  Must-See: Devin Booker prints poster on Paul M...   \n",
       "9  10  Harrell ties career high with 34 as Clippers r...   \n",
       "\n",
       "                                             Summary  \\\n",
       "0  Every Mavericks game brings a new milestone fo...   \n",
       "1  The last time the Suns played the Nuggets, Kel...   \n",
       "2  Dinwiddie is averaging 25 points and 6.2 assis...   \n",
       "3        Doncic joked no Nowitzki helps the defense.   \n",
       "4  Doncic is averaging 30.6 points, 10.1 rebounds...   \n",
       "5  While Luka Doncic went off in Houston, Spencer...   \n",
       "6  As the Brooklyn Nets wait for Kyrie Irving to ...   \n",
       "7  Few times is a doubtful designation for a game...   \n",
       "8                                                      \n",
       "9  Doc Rivers has seen the Los Angeles Clippers r...   \n",
       "\n",
       "                                                Link   Published  \n",
       "0  https://sports.yahoo.com/luka-doncic-mavericks...  24/11/2019  \n",
       "1  https://sports.yahoo.com/kelly-oubre-dunks-mas...  25/11/2019  \n",
       "2  https://sports.yahoo.com/spencer-dinwiddie-thr...  25/11/2019  \n",
       "3  https://sports.yahoo.com/luka-doncic-takes-pla...  25/11/2019  \n",
       "4  https://sports.yahoo.com/three-things-know-luk...  25/11/2019  \n",
       "5  https://sports.yahoo.com/luka-doncic-shines-ag...  25/11/2019  \n",
       "6  https://sports.yahoo.com/nets-face-cavaliers-h...  25/11/2019  \n",
       "7  https://sports.yahoo.com/losers-3-4-celtics-fa...  25/11/2019  \n",
       "8  https://sports.yahoo.com/dunk-devin-booker-sec...  25/11/2019  \n",
       "9  https://sports.yahoo.com/harrell-ties-career-h...  25/11/2019  "
      ]
     },
     "execution_count": 149,
     "metadata": {},
     "output_type": "execute_result"
    }
   ],
   "source": [
    "final_data.head(10)"
   ]
  },
  {
   "cell_type": "code",
   "execution_count": 150,
   "metadata": {},
   "outputs": [
    {
     "data": {
      "text/html": [
       "<div>\n",
       "<style scoped>\n",
       "    .dataframe tbody tr th:only-of-type {\n",
       "        vertical-align: middle;\n",
       "    }\n",
       "\n",
       "    .dataframe tbody tr th {\n",
       "        vertical-align: top;\n",
       "    }\n",
       "\n",
       "    .dataframe thead th {\n",
       "        text-align: right;\n",
       "    }\n",
       "</style>\n",
       "<table border=\"1\" class=\"dataframe\">\n",
       "  <thead>\n",
       "    <tr style=\"text-align: right;\">\n",
       "      <th></th>\n",
       "      <th>ID</th>\n",
       "      <th>Title</th>\n",
       "      <th>Summary</th>\n",
       "      <th>Link</th>\n",
       "      <th>Published</th>\n",
       "    </tr>\n",
       "  </thead>\n",
       "  <tbody>\n",
       "    <tr>\n",
       "      <th>44</th>\n",
       "      <td>45</td>\n",
       "      <td>Watch Luka Doncic drop 41 on Rockets in 137-12...</td>\n",
       "      <td>James Harden scored 32 points.</td>\n",
       "      <td>https://sports.yahoo.com/watch-luka-doncic-dro...</td>\n",
       "      <td>25/11/2019</td>\n",
       "    </tr>\n",
       "    <tr>\n",
       "      <th>45</th>\n",
       "      <td>46</td>\n",
       "      <td>GAME RECAP: Mavericks 137, Rockets 123</td>\n",
       "      <td>Luka Doncic drops 41 points, adds 10 assists a...</td>\n",
       "      <td>https://sports.yahoo.com/game-recap-mavericks-...</td>\n",
       "      <td>24/11/2019</td>\n",
       "    </tr>\n",
       "    <tr>\n",
       "      <th>46</th>\n",
       "      <td>47</td>\n",
       "      <td>Jordan McRae explains how he plays with the lo...</td>\n",
       "      <td>McRae caused the pin in his surgically repaire...</td>\n",
       "      <td>https://sports.yahoo.com/jordan-mcrae-explains...</td>\n",
       "      <td>24/11/2019</td>\n",
       "    </tr>\n",
       "    <tr>\n",
       "      <th>47</th>\n",
       "      <td>48</td>\n",
       "      <td>Jarrett Allen goes up to slam the alley-oop in...</td>\n",
       "      <td></td>\n",
       "      <td>https://sports.yahoo.com/jarrett-allen-goes-sl...</td>\n",
       "      <td>24/11/2019</td>\n",
       "    </tr>\n",
       "    <tr>\n",
       "      <th>48</th>\n",
       "      <td>49</td>\n",
       "      <td>Highlights: Luka Doncic | Mavericks vs. Rockets</td>\n",
       "      <td></td>\n",
       "      <td>https://sports.yahoo.com/highlights-luka-donci...</td>\n",
       "      <td>24/11/2019</td>\n",
       "    </tr>\n",
       "  </tbody>\n",
       "</table>\n",
       "</div>"
      ],
      "text/plain": [
       "    ID                                              Title  \\\n",
       "44  45  Watch Luka Doncic drop 41 on Rockets in 137-12...   \n",
       "45  46             GAME RECAP: Mavericks 137, Rockets 123   \n",
       "46  47  Jordan McRae explains how he plays with the lo...   \n",
       "47  48  Jarrett Allen goes up to slam the alley-oop in...   \n",
       "48  49    Highlights: Luka Doncic | Mavericks vs. Rockets   \n",
       "\n",
       "                                              Summary  \\\n",
       "44                     James Harden scored 32 points.   \n",
       "45  Luka Doncic drops 41 points, adds 10 assists a...   \n",
       "46  McRae caused the pin in his surgically repaire...   \n",
       "47                                                      \n",
       "48                                                      \n",
       "\n",
       "                                                 Link   Published  \n",
       "44  https://sports.yahoo.com/watch-luka-doncic-dro...  25/11/2019  \n",
       "45  https://sports.yahoo.com/game-recap-mavericks-...  24/11/2019  \n",
       "46  https://sports.yahoo.com/jordan-mcrae-explains...  24/11/2019  \n",
       "47  https://sports.yahoo.com/jarrett-allen-goes-sl...  24/11/2019  \n",
       "48  https://sports.yahoo.com/highlights-luka-donci...  24/11/2019  "
      ]
     },
     "execution_count": 150,
     "metadata": {},
     "output_type": "execute_result"
    }
   ],
   "source": [
    "final_data.tail(5)"
   ]
  },
  {
   "cell_type": "code",
   "execution_count": 151,
   "metadata": {},
   "outputs": [
    {
     "name": "stdout",
     "output_type": "stream",
     "text": [
      "0.0 % of article entries have already scraped.\n"
     ]
    }
   ],
   "source": [
    "print(\"{} % of article entries have already scraped.\" .format((old_news/feed_len)*100))"
   ]
  },
  {
   "cell_type": "markdown",
   "metadata": {},
   "source": [
    "# B. Indexer"
   ]
  },
  {
   "cell_type": "code",
   "execution_count": 152,
   "metadata": {},
   "outputs": [
    {
     "name": "stderr",
     "output_type": "stream",
     "text": [
      "[nltk_data] Downloading package averaged_perceptron_tagger to\n",
      "[nltk_data]     /Users/qab/nltk_data...\n",
      "[nltk_data]   Package averaged_perceptron_tagger is already up-to-\n",
      "[nltk_data]       date!\n",
      "[nltk_data] Downloading package wordnet to /Users/qab/nltk_data...\n",
      "[nltk_data]   Package wordnet is already up-to-date!\n",
      "[nltk_data] Downloading package stopwords to /Users/qab/nltk_data...\n",
      "[nltk_data]   Package stopwords is already up-to-date!\n",
      "[nltk_data] Downloading package punkt to /Users/qab/nltk_data...\n",
      "[nltk_data]   Package punkt is already up-to-date!\n"
     ]
    }
   ],
   "source": [
    "import nltk\n",
    "nltk.download('averaged_perceptron_tagger')\n",
    "nltk.download('wordnet')\n",
    "nltk.download('stopwords')\n",
    "nltk.download('punkt')\n",
    "from nltk.corpus import stopwords\n",
    "from nltk.corpus import wordnet\n",
    "from nltk import pos_tag\n",
    "from nltk.stem import WordNetLemmatizer \n",
    "import string"
   ]
  },
  {
   "cell_type": "code",
   "execution_count": 153,
   "metadata": {},
   "outputs": [],
   "source": [
    "entry = final_data.loc[0,:].copy()"
   ]
  },
  {
   "cell_type": "code",
   "execution_count": 154,
   "metadata": {},
   "outputs": [
    {
     "data": {
      "text/plain": [
       "ID                                                           1\n",
       "Title                King of Texas: Doncic drops 41 in Houston\n",
       "Summary      Every Mavericks game brings a new milestone fo...\n",
       "Link         https://sports.yahoo.com/luka-doncic-mavericks...\n",
       "Published                                           24/11/2019\n",
       "Name: 0, dtype: object"
      ]
     },
     "execution_count": 154,
     "metadata": {},
     "output_type": "execute_result"
    }
   ],
   "source": [
    "entry"
   ]
  },
  {
   "cell_type": "markdown",
   "metadata": {},
   "source": [
    "## Text Preprocessing"
   ]
  },
  {
   "cell_type": "code",
   "execution_count": 155,
   "metadata": {},
   "outputs": [],
   "source": [
    "def article_string(text):\n",
    "    text = text.lower()\n",
    "    text = text.translate(str.maketrans('', '', string.punctuation))\n",
    "    return text"
   ]
  },
  {
   "cell_type": "code",
   "execution_count": 156,
   "metadata": {},
   "outputs": [
    {
     "data": {
      "text/plain": [
       "'every mavericks game brings a new milestone for luka doncic sunday he became the secondyoungest player in nba history to top 30 points in 4 straight games'"
      ]
     },
     "execution_count": 156,
     "metadata": {},
     "output_type": "execute_result"
    }
   ],
   "source": [
    "article_string(entry.Summary)"
   ]
  },
  {
   "cell_type": "code",
   "execution_count": 157,
   "metadata": {},
   "outputs": [],
   "source": [
    "def find_wordnet_point(word):\n",
    "    \"\"\"Map POS tag to first character lemmatize() accepts\"\"\"\n",
    "    tag = pos_tag([word])[0][1][0].upper()\n",
    "    tag_dict = {\"J\": wordnet.ADJ,\n",
    "                \"N\": wordnet.NOUN,\n",
    "                \"V\": wordnet.VERB,\n",
    "                \"R\": wordnet.ADV}\n",
    "\n",
    "    return tag_dict.get(tag, wordnet.NOUN)"
   ]
  },
  {
   "cell_type": "code",
   "execution_count": 158,
   "metadata": {},
   "outputs": [
    {
     "name": "stdout",
     "output_type": "stream",
     "text": [
      "Camelo: n\n",
      " Swimming: v\n",
      " Angry: a\n"
     ]
    }
   ],
   "source": [
    "print (\"Camelo: {}\\n Swimming: {}\\n Angry: {}\".format(find_wordnet_point(\"camelo\"), find_wordnet_point(\"swimming\"), find_wordnet_point(\"angry\")))"
   ]
  },
  {
   "cell_type": "code",
   "execution_count": 159,
   "metadata": {},
   "outputs": [],
   "source": [
    "stop_words = stopwords.words(\"english\")"
   ]
  },
  {
   "cell_type": "code",
   "execution_count": 160,
   "metadata": {},
   "outputs": [],
   "source": [
    "lem = WordNetLemmatizer()\n",
    "\n",
    "def stop_lemmatize(doc):\n",
    "    tokens = nltk.word_tokenize(doc)\n",
    "    tmp = \"\"\n",
    "    for w in tokens:\n",
    "        if w not in stop_words:\n",
    "            tmp += lem.lemmatize(w, find_wordnet_point(w)) + \" \"\n",
    "    return tmp"
   ]
  },
  {
   "cell_type": "code",
   "execution_count": 161,
   "metadata": {},
   "outputs": [
    {
     "data": {
      "text/plain": [
       "'King Texas : Doncic drop 41 Houston '"
      ]
     },
     "execution_count": 161,
     "metadata": {},
     "output_type": "execute_result"
    }
   ],
   "source": [
    "stop_lemmatize(doc = entry.Title)"
   ]
  },
  {
   "cell_type": "code",
   "execution_count": 162,
   "metadata": {},
   "outputs": [],
   "source": [
    "def article_string(text):\n",
    "  text = text.lower() #to lowercase\n",
    "  text = text.translate(str.maketrans('', '', string.punctuation)) #strip punctuation\n",
    "  text = stop_lemmatize(text)\n",
    "  return text"
   ]
  },
  {
   "cell_type": "code",
   "execution_count": 163,
   "metadata": {},
   "outputs": [
    {
     "name": "stdout",
     "output_type": "stream",
     "text": [
      "CPU times: user 2.57 ms, sys: 1.31 ms, total: 3.87 ms\n",
      "Wall time: 3.15 ms\n"
     ]
    },
    {
     "data": {
      "text/plain": [
       "'king texas doncic drop 41 houston '"
      ]
     },
     "execution_count": 163,
     "metadata": {},
     "output_type": "execute_result"
    }
   ],
   "source": [
    "%time article_string(entry.Title)"
   ]
  },
  {
   "cell_type": "code",
   "execution_count": 164,
   "metadata": {},
   "outputs": [],
   "source": [
    "final_processed = final_data.copy()"
   ]
  },
  {
   "cell_type": "code",
   "execution_count": 165,
   "metadata": {},
   "outputs": [],
   "source": [
    "def change_df(df):\n",
    "  df['Title'] = df['Title'].apply(article_string)\n",
    "  df['Summary'] = df['Summary'].apply(article_string)"
   ]
  },
  {
   "cell_type": "code",
   "execution_count": 166,
   "metadata": {},
   "outputs": [
    {
     "name": "stdout",
     "output_type": "stream",
     "text": [
      "CPU times: user 195 ms, sys: 31.7 ms, total: 227 ms\n",
      "Wall time: 239 ms\n"
     ]
    }
   ],
   "source": [
    "%time change_df(final_processed)"
   ]
  },
  {
   "cell_type": "code",
   "execution_count": 167,
   "metadata": {},
   "outputs": [
    {
     "data": {
      "text/html": [
       "<div>\n",
       "<style scoped>\n",
       "    .dataframe tbody tr th:only-of-type {\n",
       "        vertical-align: middle;\n",
       "    }\n",
       "\n",
       "    .dataframe tbody tr th {\n",
       "        vertical-align: top;\n",
       "    }\n",
       "\n",
       "    .dataframe thead th {\n",
       "        text-align: right;\n",
       "    }\n",
       "</style>\n",
       "<table border=\"1\" class=\"dataframe\">\n",
       "  <thead>\n",
       "    <tr style=\"text-align: right;\">\n",
       "      <th></th>\n",
       "      <th>ID</th>\n",
       "      <th>Title</th>\n",
       "      <th>Summary</th>\n",
       "      <th>Link</th>\n",
       "      <th>Published</th>\n",
       "    </tr>\n",
       "  </thead>\n",
       "  <tbody>\n",
       "    <tr>\n",
       "      <th>0</th>\n",
       "      <td>1</td>\n",
       "      <td>king texas doncic drop 41 houston</td>\n",
       "      <td>every maverick game brings new milestone luka ...</td>\n",
       "      <td>https://sports.yahoo.com/luka-doncic-mavericks...</td>\n",
       "      <td>24/11/2019</td>\n",
       "    </tr>\n",
       "    <tr>\n",
       "      <th>1</th>\n",
       "      <td>2</td>\n",
       "      <td>kelly oubre dunk mason plumlee flair video</td>\n",
       "      <td>last time sun played nugget kelly oubre get fi...</td>\n",
       "      <td>https://sports.yahoo.com/kelly-oubre-dunks-mas...</td>\n",
       "      <td>25/11/2019</td>\n",
       "    </tr>\n",
       "    <tr>\n",
       "      <th>2</th>\n",
       "      <td>3</td>\n",
       "      <td>spencer dinwiddie thrive starter kyrie irving</td>\n",
       "      <td>dinwiddie average 25 point 62 assist game irving</td>\n",
       "      <td>https://sports.yahoo.com/spencer-dinwiddie-thr...</td>\n",
       "      <td>25/11/2019</td>\n",
       "    </tr>\n",
       "    <tr>\n",
       "      <th>3</th>\n",
       "      <td>4</td>\n",
       "      <td>luka doncic take playful shot dirk nowitzki ta...</td>\n",
       "      <td>doncic joked nowitzki help defense</td>\n",
       "      <td>https://sports.yahoo.com/luka-doncic-takes-pla...</td>\n",
       "      <td>25/11/2019</td>\n",
       "    </tr>\n",
       "    <tr>\n",
       "      <th>4</th>\n",
       "      <td>5</td>\n",
       "      <td>three thing know luka doncic put age 20 stats ...</td>\n",
       "      <td>doncic average 306 point 101 rebound 98 assist...</td>\n",
       "      <td>https://sports.yahoo.com/three-things-know-luk...</td>\n",
       "      <td>25/11/2019</td>\n",
       "    </tr>\n",
       "    <tr>\n",
       "      <th>5</th>\n",
       "      <td>6</td>\n",
       "      <td>luka doncic shine</td>\n",
       "      <td>luka doncic go houston spencer dinwiddie montr...</td>\n",
       "      <td>https://sports.yahoo.com/luka-doncic-shines-ag...</td>\n",
       "      <td>25/11/2019</td>\n",
       "    </tr>\n",
       "    <tr>\n",
       "      <th>6</th>\n",
       "      <td>7</td>\n",
       "      <td>net face cavalier hope keep roll without irving</td>\n",
       "      <td>brooklyn net wait kyrie irving recover right s...</td>\n",
       "      <td>https://sports.yahoo.com/nets-face-cavaliers-h...</td>\n",
       "      <td>25/11/2019</td>\n",
       "    </tr>\n",
       "    <tr>\n",
       "      <th>7</th>\n",
       "      <td>8</td>\n",
       "      <td>loser 3 4 celtic face rematch king</td>\n",
       "      <td>time doubtful designation game deem miracle th...</td>\n",
       "      <td>https://sports.yahoo.com/losers-3-4-celtics-fa...</td>\n",
       "      <td>25/11/2019</td>\n",
       "    </tr>\n",
       "    <tr>\n",
       "      <th>8</th>\n",
       "      <td>9</td>\n",
       "      <td>mustsee devin booker print poster paul millsap</td>\n",
       "      <td></td>\n",
       "      <td>https://sports.yahoo.com/dunk-devin-booker-sec...</td>\n",
       "      <td>25/11/2019</td>\n",
       "    </tr>\n",
       "    <tr>\n",
       "      <th>9</th>\n",
       "      <td>10</td>\n",
       "      <td>harrell tie career high 34 clipper rout pelican</td>\n",
       "      <td>doc river see los angeles clipper roster under...</td>\n",
       "      <td>https://sports.yahoo.com/harrell-ties-career-h...</td>\n",
       "      <td>25/11/2019</td>\n",
       "    </tr>\n",
       "  </tbody>\n",
       "</table>\n",
       "</div>"
      ],
      "text/plain": [
       "   ID                                              Title  \\\n",
       "0   1                 king texas doncic drop 41 houston    \n",
       "1   2        kelly oubre dunk mason plumlee flair video    \n",
       "2   3     spencer dinwiddie thrive starter kyrie irving    \n",
       "3   4  luka doncic take playful shot dirk nowitzki ta...   \n",
       "4   5  three thing know luka doncic put age 20 stats ...   \n",
       "5   6                                 luka doncic shine    \n",
       "6   7   net face cavalier hope keep roll without irving    \n",
       "7   8                loser 3 4 celtic face rematch king    \n",
       "8   9    mustsee devin booker print poster paul millsap    \n",
       "9  10   harrell tie career high 34 clipper rout pelican    \n",
       "\n",
       "                                             Summary  \\\n",
       "0  every maverick game brings new milestone luka ...   \n",
       "1  last time sun played nugget kelly oubre get fi...   \n",
       "2  dinwiddie average 25 point 62 assist game irving    \n",
       "3                doncic joked nowitzki help defense    \n",
       "4  doncic average 306 point 101 rebound 98 assist...   \n",
       "5  luka doncic go houston spencer dinwiddie montr...   \n",
       "6  brooklyn net wait kyrie irving recover right s...   \n",
       "7  time doubtful designation game deem miracle th...   \n",
       "8                                                      \n",
       "9  doc river see los angeles clipper roster under...   \n",
       "\n",
       "                                                Link   Published  \n",
       "0  https://sports.yahoo.com/luka-doncic-mavericks...  24/11/2019  \n",
       "1  https://sports.yahoo.com/kelly-oubre-dunks-mas...  25/11/2019  \n",
       "2  https://sports.yahoo.com/spencer-dinwiddie-thr...  25/11/2019  \n",
       "3  https://sports.yahoo.com/luka-doncic-takes-pla...  25/11/2019  \n",
       "4  https://sports.yahoo.com/three-things-know-luk...  25/11/2019  \n",
       "5  https://sports.yahoo.com/luka-doncic-shines-ag...  25/11/2019  \n",
       "6  https://sports.yahoo.com/nets-face-cavaliers-h...  25/11/2019  \n",
       "7  https://sports.yahoo.com/losers-3-4-celtics-fa...  25/11/2019  \n",
       "8  https://sports.yahoo.com/dunk-devin-booker-sec...  25/11/2019  \n",
       "9  https://sports.yahoo.com/harrell-ties-career-h...  25/11/2019  "
      ]
     },
     "execution_count": 167,
     "metadata": {},
     "output_type": "execute_result"
    }
   ],
   "source": [
    "final_processed.head(10)"
   ]
  },
  {
   "cell_type": "code",
   "execution_count": 168,
   "metadata": {},
   "outputs": [],
   "source": [
    "final_processed['text'] = final_processed['Title'] + \" \" + final_processed['Summary']\n",
    "drop_cols = ['Title', 'Summary', 'Published', 'Link']\n",
    "final_processed = final_processed.drop(drop_cols, axis=1)"
   ]
  },
  {
   "cell_type": "code",
   "execution_count": 169,
   "metadata": {},
   "outputs": [
    {
     "data": {
      "text/html": [
       "<div>\n",
       "<style scoped>\n",
       "    .dataframe tbody tr th:only-of-type {\n",
       "        vertical-align: middle;\n",
       "    }\n",
       "\n",
       "    .dataframe tbody tr th {\n",
       "        vertical-align: top;\n",
       "    }\n",
       "\n",
       "    .dataframe thead th {\n",
       "        text-align: right;\n",
       "    }\n",
       "</style>\n",
       "<table border=\"1\" class=\"dataframe\">\n",
       "  <thead>\n",
       "    <tr style=\"text-align: right;\">\n",
       "      <th></th>\n",
       "      <th>ID</th>\n",
       "      <th>text</th>\n",
       "    </tr>\n",
       "  </thead>\n",
       "  <tbody>\n",
       "    <tr>\n",
       "      <th>0</th>\n",
       "      <td>1</td>\n",
       "      <td>king texas doncic drop 41 houston  every maver...</td>\n",
       "    </tr>\n",
       "    <tr>\n",
       "      <th>1</th>\n",
       "      <td>2</td>\n",
       "      <td>kelly oubre dunk mason plumlee flair video  la...</td>\n",
       "    </tr>\n",
       "    <tr>\n",
       "      <th>2</th>\n",
       "      <td>3</td>\n",
       "      <td>spencer dinwiddie thrive starter kyrie irving ...</td>\n",
       "    </tr>\n",
       "    <tr>\n",
       "      <th>3</th>\n",
       "      <td>4</td>\n",
       "      <td>luka doncic take playful shot dirk nowitzki ta...</td>\n",
       "    </tr>\n",
       "    <tr>\n",
       "      <th>4</th>\n",
       "      <td>5</td>\n",
       "      <td>three thing know luka doncic put age 20 stats ...</td>\n",
       "    </tr>\n",
       "    <tr>\n",
       "      <th>5</th>\n",
       "      <td>6</td>\n",
       "      <td>luka doncic shine  luka doncic go houston spen...</td>\n",
       "    </tr>\n",
       "    <tr>\n",
       "      <th>6</th>\n",
       "      <td>7</td>\n",
       "      <td>net face cavalier hope keep roll without irvin...</td>\n",
       "    </tr>\n",
       "    <tr>\n",
       "      <th>7</th>\n",
       "      <td>8</td>\n",
       "      <td>loser 3 4 celtic face rematch king  time doubt...</td>\n",
       "    </tr>\n",
       "    <tr>\n",
       "      <th>8</th>\n",
       "      <td>9</td>\n",
       "      <td>mustsee devin booker print poster paul millsap</td>\n",
       "    </tr>\n",
       "    <tr>\n",
       "      <th>9</th>\n",
       "      <td>10</td>\n",
       "      <td>harrell tie career high 34 clipper rout pelica...</td>\n",
       "    </tr>\n",
       "  </tbody>\n",
       "</table>\n",
       "</div>"
      ],
      "text/plain": [
       "   ID                                               text\n",
       "0   1  king texas doncic drop 41 houston  every maver...\n",
       "1   2  kelly oubre dunk mason plumlee flair video  la...\n",
       "2   3  spencer dinwiddie thrive starter kyrie irving ...\n",
       "3   4  luka doncic take playful shot dirk nowitzki ta...\n",
       "4   5  three thing know luka doncic put age 20 stats ...\n",
       "5   6  luka doncic shine  luka doncic go houston spen...\n",
       "6   7  net face cavalier hope keep roll without irvin...\n",
       "7   8  loser 3 4 celtic face rematch king  time doubt...\n",
       "8   9   mustsee devin booker print poster paul millsap  \n",
       "9  10  harrell tie career high 34 clipper rout pelica..."
      ]
     },
     "execution_count": 169,
     "metadata": {},
     "output_type": "execute_result"
    }
   ],
   "source": [
    "final_processed.head(10)"
   ]
  },
  {
   "cell_type": "code",
   "execution_count": 170,
   "metadata": {},
   "outputs": [],
   "source": [
    "def change_df(df):\n",
    "  df = df\n",
    "  df['Title'] = df['Title'].apply(article_string)\n",
    "  df['Summary'] = df['Summary'].apply(article_string)\n",
    "  df['text'] = df['Title'] + \" \" + df['Summary']\n",
    "  drop_cols = ['Title', 'Summary', 'Published', 'Link']\n",
    "  df = df.drop(drop_cols, axis=1)\n",
    "  return df"
   ]
  },
  {
   "cell_type": "markdown",
   "metadata": {},
   "source": [
    "## Build Index"
   ]
  },
  {
   "cell_type": "code",
   "execution_count": 171,
   "metadata": {},
   "outputs": [
    {
     "name": "stdout",
     "output_type": "stream",
     "text": [
      "ID                                                      1\n",
      "text    king texas doncic drop 41 houston  every maver...\n",
      "Name: 0, dtype: object\n"
     ]
    }
   ],
   "source": [
    "entry = final_processed.loc[0,:].copy()\n",
    "print(entry)\n",
    "index_test = {}"
   ]
  },
  {
   "cell_type": "code",
   "execution_count": 172,
   "metadata": {},
   "outputs": [],
   "source": [
    "words = entry.text.split()\n",
    "ID = entry.ID"
   ]
  },
  {
   "cell_type": "code",
   "execution_count": 173,
   "metadata": {},
   "outputs": [
    {
     "name": "stdout",
     "output_type": "stream",
     "text": [
      "{'king': [1]}\n"
     ]
    }
   ],
   "source": [
    "word = words[0]\n",
    "sample = {word: [ID]}\n",
    "print(sample)"
   ]
  },
  {
   "cell_type": "code",
   "execution_count": 174,
   "metadata": {},
   "outputs": [],
   "source": [
    "for word in words:\n",
    "  if word in index_test.keys():\n",
    "    if ID not in index_test[word]:\n",
    "      index_test[word].append(ID)\n",
    "  else:\n",
    "    index_test[word] = [ID]"
   ]
  },
  {
   "cell_type": "code",
   "execution_count": 175,
   "metadata": {},
   "outputs": [
    {
     "name": "stdout",
     "output_type": "stream",
     "text": [
      "{'king': [1], 'texas': [1], 'doncic': [1], 'drop': [1], '41': [1], 'houston': [1], 'every': [1], 'maverick': [1], 'game': [1], 'brings': [1], 'new': [1], 'milestone': [1], 'luka': [1], 'sunday': [1], 'become': [1], 'secondyoungest': [1], 'player': [1], 'nba': [1], 'history': [1], 'top': [1], '30': [1], 'point': [1], '4': [1], 'straight': [1]}\n"
     ]
    }
   ],
   "source": [
    "print(index_test)"
   ]
  },
  {
   "cell_type": "code",
   "execution_count": 176,
   "metadata": {},
   "outputs": [],
   "source": [
    "def index_it(entry, index):\n",
    "  words = entry.text.split()\n",
    "  ID = entry.ID\n",
    "  for word in words:\n",
    "    if word in index.keys():\n",
    "      if ID not in index[word]:\n",
    "        index[word].append(ID)\n",
    "    else:\n",
    "      index[word] = [ID]\n",
    "  return index"
   ]
  },
  {
   "cell_type": "code",
   "execution_count": 177,
   "metadata": {},
   "outputs": [
    {
     "name": "stdout",
     "output_type": "stream",
     "text": [
      "{'king': [1], 'texas': [1], 'doncic': [1], 'drop': [1], '41': [1], 'houston': [1], 'every': [1], 'maverick': [1], 'game': [1], 'brings': [1], 'new': [1], 'milestone': [1], 'luka': [1], 'sunday': [1], 'become': [1], 'secondyoungest': [1], 'player': [1], 'nba': [1], 'history': [1], 'top': [1], '30': [1], 'point': [1], '4': [1], 'straight': [1]}\n"
     ]
    }
   ],
   "source": [
    "ind = index_it(entry=entry, index= {})\n",
    "print(ind)"
   ]
  },
  {
   "cell_type": "code",
   "execution_count": 178,
   "metadata": {},
   "outputs": [],
   "source": [
    "def index_all(df, index):\n",
    "  for i in range(len(df)):\n",
    "    entry = df.loc[i,:]\n",
    "    index = index_it(entry = entry, index = index)\n",
    "  return index"
   ]
  },
  {
   "cell_type": "code",
   "execution_count": 179,
   "metadata": {},
   "outputs": [
    {
     "data": {
      "text/plain": [
       "483"
      ]
     },
     "execution_count": 179,
     "metadata": {},
     "output_type": "execute_result"
    }
   ],
   "source": [
    "index = index_all(final_processed, index = {})\n",
    "len(index)"
   ]
  },
  {
   "cell_type": "code",
   "execution_count": 180,
   "metadata": {},
   "outputs": [],
   "source": [
    "def build_index(df, index):\n",
    "    to_add = change_df(df)\n",
    "    index = index_all(df = to_add, index = index)\n",
    "    return index"
   ]
  },
  {
   "cell_type": "code",
   "execution_count": 181,
   "metadata": {},
   "outputs": [],
   "source": [
    "idx = build_index(df = final_data, index = {})"
   ]
  },
  {
   "cell_type": "code",
   "execution_count": 182,
   "metadata": {},
   "outputs": [
    {
     "data": {
      "text/plain": [
       "483"
      ]
     },
     "execution_count": 182,
     "metadata": {},
     "output_type": "execute_result"
    }
   ],
   "source": [
    "len(idx)"
   ]
  },
  {
   "cell_type": "code",
   "execution_count": 183,
   "metadata": {},
   "outputs": [],
   "source": [
    "import json\n",
    "\n",
    "with open('index.json', 'w') as fp:\n",
    "    json.dump(idx, fp, sort_keys=True, indent=4)"
   ]
  },
  {
   "cell_type": "code",
   "execution_count": 184,
   "metadata": {},
   "outputs": [],
   "source": [
    "with open('index.json', 'r') as f:\n",
    "    data = json.load(f)"
   ]
  },
  {
   "cell_type": "markdown",
   "metadata": {},
   "source": [
    "## Ranked Retrieval"
   ]
  },
  {
   "cell_type": "code",
   "execution_count": 185,
   "metadata": {},
   "outputs": [
    {
     "name": "stdout",
     "output_type": "stream",
     "text": [
      "--2019-11-25 15:59:41--  https://s3.amazonaws.com/dl4j-distribution/GoogleNews-vectors-negative300.bin.gz\n",
      "Resolving s3.amazonaws.com (s3.amazonaws.com)... 52.217.38.150\n",
      "Connecting to s3.amazonaws.com (s3.amazonaws.com)|52.217.38.150|:443... connected.\n",
      "HTTP request sent, awaiting response... 200 OK\n",
      "Length: 1647046227 (1.5G) [application/x-gzip]\n",
      "Saving to: ‘GoogleNews-vectors-negative300.bin.gz.2’\n",
      "\n",
      "GoogleNews-vectors-  40%[=======>            ] 643.00M  11.2KB/s    in 26m 25s \n",
      "\n",
      "2019-11-25 16:31:10 (415 KB/s) - Read error at byte 674229465/1647046227 (Connection reset by peer). Retrying.\n",
      "\n",
      "--2019-11-25 16:31:11--  (try: 2)  https://s3.amazonaws.com/dl4j-distribution/GoogleNews-vectors-negative300.bin.gz\n",
      "Connecting to s3.amazonaws.com (s3.amazonaws.com)|52.217.38.150|:443... connected.\n",
      "HTTP request sent, awaiting response... 206 Partial Content\n",
      "Length: 1647046227 (1.5G), 972816762 (928M) remaining [application/x-gzip]\n",
      "Saving to: ‘GoogleNews-vectors-negative300.bin.gz.2’\n",
      "\n",
      "GoogleNews-vectors-  75%[++++++++======>     ]   1.16G  52.1KB/s    in 24m 54s \n",
      "\n",
      "2019-11-25 17:01:08 (372 KB/s) - Read error at byte 1243845784/1647046227 (Connection reset by peer). Retrying.\n",
      "\n",
      "--2019-11-25 17:01:10--  (try: 3)  https://s3.amazonaws.com/dl4j-distribution/GoogleNews-vectors-negative300.bin.gz\n",
      "Connecting to s3.amazonaws.com (s3.amazonaws.com)|52.217.38.150|:443... connected.\n",
      "HTTP request sent, awaiting response... 206 Partial Content\n",
      "Length: 1647046227 (1.5G), 403200443 (385M) remaining [application/x-gzip]\n",
      "Saving to: ‘GoogleNews-vectors-negative300.bin.gz.2’\n",
      "\n",
      "GoogleNews-vectors-  79%[+++++++++++++++     ]   1.22G  70.0KB/s    in 3m 20s  \n",
      "\n",
      "2019-11-25 17:09:34 (330 KB/s) - Read error at byte 1311266526/1647046227 (Connection reset by peer). Retrying.\n",
      "\n",
      "--2019-11-25 17:09:37--  (try: 4)  https://s3.amazonaws.com/dl4j-distribution/GoogleNews-vectors-negative300.bin.gz\n",
      "Connecting to s3.amazonaws.com (s3.amazonaws.com)|52.217.38.150|:443... connected.\n",
      "HTTP request sent, awaiting response... 206 Partial Content\n",
      "Length: 1647046227 (1.5G), 335779701 (320M) remaining [application/x-gzip]\n",
      "Saving to: ‘GoogleNews-vectors-negative300.bin.gz.2’\n",
      "\n",
      "GoogleNews-vectors- 100%[+++++++++++++++====>]   1.53G   150KB/s    in 18m 59s \n",
      "\n",
      "2019-11-25 17:28:36 (288 KB/s) - ‘GoogleNews-vectors-negative300.bin.gz.2’ saved [1647046227/1647046227]\n",
      "\n"
     ]
    }
   ],
   "source": [
    "import gensim\n",
    "import numpy as np\n",
    "!wget https://s3.amazonaws.com/dl4j-distribution/GoogleNews-vectors-negative300.bin.gz"
   ]
  },
  {
   "cell_type": "code",
   "execution_count": 212,
   "metadata": {},
   "outputs": [],
   "source": [
    "word2vec = gensim.models.KeyedVectors.load_word2vec_format('GoogleNews-vectors-negative300.bin.gz', binary=True)"
   ]
  },
  {
   "cell_type": "code",
   "execution_count": 213,
   "metadata": {},
   "outputs": [
    {
     "name": "stdout",
     "output_type": "stream",
     "text": [
      "['king', 'texas', 'doncic', 'drop', '41', 'houston', 'every', 'maverick', 'game', 'brings', 'new', 'milestone', 'luka', 'doncic', 'sunday', 'become', 'secondyoungest', 'player', 'nba', 'history', 'top', '30', 'point', '4', 'straight', 'game']\n"
     ]
    }
   ],
   "source": [
    "print(words)"
   ]
  },
  {
   "cell_type": "code",
   "execution_count": 214,
   "metadata": {},
   "outputs": [],
   "source": [
    "def average_vectors(word2vec_model, doc):\n",
    "    # remove out-of-vocabulary words\n",
    "    doc = [word for word in doc if word in word2vec_model.vocab]\n",
    "    if len(doc) == 0:\n",
    "      return np.zeros(300)\n",
    "    else:\n",
    "      return np.mean(word2vec_model[doc], axis=0)"
   ]
  },
  {
   "cell_type": "code",
   "execution_count": 215,
   "metadata": {},
   "outputs": [
    {
     "name": "stdout",
     "output_type": "stream",
     "text": [
      "CPU times: user 1.23 ms, sys: 12.9 ms, total: 14.1 ms\n",
      "Wall time: 39.2 ms\n"
     ]
    }
   ],
   "source": [
    "%time test_vec = average_vectors(word2vec, words)"
   ]
  },
  {
   "cell_type": "code",
   "execution_count": 216,
   "metadata": {},
   "outputs": [],
   "source": [
    "def prepare_ranking(df):\n",
    "  corpus = df[['ID', 'text']].copy()\n",
    "  doc_vecs = {}\n",
    "  for i in range(len(corpus)):\n",
    "    row = corpus.loc[i,:]\n",
    "    text = row.text.split()\n",
    "    doc_vecs[row.ID]=average_vectors(word2vec, text)\n",
    "  doc_vecs = pd.DataFrame.from_dict(data=doc_vecs, orient=\"index\")\n",
    "  doc_vecs['ID'] = doc_vecs.index\n",
    "  return doc_vecs"
   ]
  },
  {
   "cell_type": "code",
   "execution_count": 217,
   "metadata": {},
   "outputs": [],
   "source": [
    "doc_vecs = prepare_ranking(df=final_data)"
   ]
  },
  {
   "cell_type": "markdown",
   "metadata": {},
   "source": [
    "# Query Processing"
   ]
  },
  {
   "cell_type": "code",
   "execution_count": 218,
   "metadata": {},
   "outputs": [],
   "source": [
    "test = \"Doncic 41 Texas\""
   ]
  },
  {
   "cell_type": "code",
   "execution_count": 219,
   "metadata": {},
   "outputs": [
    {
     "name": "stdout",
     "output_type": "stream",
     "text": [
      "User query: Doncic 41 Texas.\n",
      "Normalized query: doncic 41 texas .\n"
     ]
    }
   ],
   "source": [
    "print(\"User query: {}.\" .format(test))\n",
    "test_norm = article_string(test)\n",
    "print(\"Normalized query: {}.\" .format(test_norm))"
   ]
  },
  {
   "cell_type": "code",
   "execution_count": 220,
   "metadata": {},
   "outputs": [],
   "source": [
    "test_split = test_norm.split()"
   ]
  },
  {
   "cell_type": "code",
   "execution_count": 221,
   "metadata": {},
   "outputs": [],
   "source": [
    "def article_query(query):\n",
    "    norm = article_string(query)\n",
    "    return norm.split()"
   ]
  },
  {
   "cell_type": "markdown",
   "metadata": {},
   "source": [
    "### Retrieve from the index"
   ]
  },
  {
   "cell_type": "code",
   "execution_count": 222,
   "metadata": {},
   "outputs": [],
   "source": [
    "retrieved = []\n",
    "for word in test_split:\n",
    "  if word in index.keys():\n",
    "    retrieved.append(index[word])"
   ]
  },
  {
   "cell_type": "code",
   "execution_count": 223,
   "metadata": {},
   "outputs": [],
   "source": [
    "def lists_intersection(lists):\n",
    "  intersect = list(set.intersection(*map(set, lists)))\n",
    "  intersect.sort()\n",
    "  return intersect"
   ]
  },
  {
   "cell_type": "code",
   "execution_count": 224,
   "metadata": {},
   "outputs": [
    {
     "name": "stdout",
     "output_type": "stream",
     "text": [
      "[1]\n"
     ]
    }
   ],
   "source": [
    "result = lists_intersection(retrieved)\n",
    "print(result)"
   ]
  },
  {
   "cell_type": "code",
   "execution_count": 225,
   "metadata": {},
   "outputs": [],
   "source": [
    "def search_vengine(query, index=idx):\n",
    "  query_split = article_query(query)\n",
    "  retrieved = []\n",
    "  for word in query_split:\n",
    "    if word in index.keys():\n",
    "      retrieved.append(index[word])\n",
    "  if len(retrieved)>0:\n",
    "    result = lists_intersection(retrieved)\n",
    "  else:\n",
    "      result = [0]\n",
    "  return result"
   ]
  },
  {
   "cell_type": "code",
   "execution_count": 226,
   "metadata": {},
   "outputs": [
    {
     "name": "stdout",
     "output_type": "stream",
     "text": [
      "[1, 41, 45, 46, 49]\n"
     ]
    }
   ],
   "source": [
    "result_IDs = search_vengine(\"Mavericks\", index)\n",
    "print(result_IDs)"
   ]
  },
  {
   "cell_type": "code",
   "execution_count": 227,
   "metadata": {},
   "outputs": [
    {
     "data": {
      "text/html": [
       "<div>\n",
       "<style scoped>\n",
       "    .dataframe tbody tr th:only-of-type {\n",
       "        vertical-align: middle;\n",
       "    }\n",
       "\n",
       "    .dataframe tbody tr th {\n",
       "        vertical-align: top;\n",
       "    }\n",
       "\n",
       "    .dataframe thead th {\n",
       "        text-align: right;\n",
       "    }\n",
       "</style>\n",
       "<table border=\"1\" class=\"dataframe\">\n",
       "  <thead>\n",
       "    <tr style=\"text-align: right;\">\n",
       "      <th></th>\n",
       "      <th>ID</th>\n",
       "      <th>Title</th>\n",
       "      <th>Summary</th>\n",
       "      <th>Link</th>\n",
       "      <th>Published</th>\n",
       "    </tr>\n",
       "  </thead>\n",
       "  <tbody>\n",
       "    <tr>\n",
       "      <th>0</th>\n",
       "      <td>1</td>\n",
       "      <td>king texas doncic drop 41 houston</td>\n",
       "      <td>every maverick game brings new milestone luka ...</td>\n",
       "      <td>https://sports.yahoo.com/luka-doncic-mavericks...</td>\n",
       "      <td>24/11/2019</td>\n",
       "    </tr>\n",
       "    <tr>\n",
       "      <th>1</th>\n",
       "      <td>2</td>\n",
       "      <td>kelly oubre dunk mason plumlee flair video</td>\n",
       "      <td>last time sun played nugget kelly oubre get fi...</td>\n",
       "      <td>https://sports.yahoo.com/kelly-oubre-dunks-mas...</td>\n",
       "      <td>25/11/2019</td>\n",
       "    </tr>\n",
       "    <tr>\n",
       "      <th>2</th>\n",
       "      <td>3</td>\n",
       "      <td>spencer dinwiddie thrive starter kyrie irving</td>\n",
       "      <td>dinwiddie average 25 point 62 assist game irving</td>\n",
       "      <td>https://sports.yahoo.com/spencer-dinwiddie-thr...</td>\n",
       "      <td>25/11/2019</td>\n",
       "    </tr>\n",
       "    <tr>\n",
       "      <th>3</th>\n",
       "      <td>4</td>\n",
       "      <td>luka doncic take playful shot dirk nowitzki ta...</td>\n",
       "      <td>doncic joked nowitzki help defense</td>\n",
       "      <td>https://sports.yahoo.com/luka-doncic-takes-pla...</td>\n",
       "      <td>25/11/2019</td>\n",
       "    </tr>\n",
       "    <tr>\n",
       "      <th>4</th>\n",
       "      <td>5</td>\n",
       "      <td>three thing know luka doncic put age 20 stats ...</td>\n",
       "      <td>doncic average 306 point 101 rebound 98 assist...</td>\n",
       "      <td>https://sports.yahoo.com/three-things-know-luk...</td>\n",
       "      <td>25/11/2019</td>\n",
       "    </tr>\n",
       "  </tbody>\n",
       "</table>\n",
       "</div>"
      ],
      "text/plain": [
       "  ID                                              Title  \\\n",
       "0  1                 king texas doncic drop 41 houston    \n",
       "1  2        kelly oubre dunk mason plumlee flair video    \n",
       "2  3     spencer dinwiddie thrive starter kyrie irving    \n",
       "3  4  luka doncic take playful shot dirk nowitzki ta...   \n",
       "4  5  three thing know luka doncic put age 20 stats ...   \n",
       "\n",
       "                                             Summary  \\\n",
       "0  every maverick game brings new milestone luka ...   \n",
       "1  last time sun played nugget kelly oubre get fi...   \n",
       "2  dinwiddie average 25 point 62 assist game irving    \n",
       "3                doncic joked nowitzki help defense    \n",
       "4  doncic average 306 point 101 rebound 98 assist...   \n",
       "\n",
       "                                                Link   Published  \n",
       "0  https://sports.yahoo.com/luka-doncic-mavericks...  24/11/2019  \n",
       "1  https://sports.yahoo.com/kelly-oubre-dunks-mas...  25/11/2019  \n",
       "2  https://sports.yahoo.com/spencer-dinwiddie-thr...  25/11/2019  \n",
       "3  https://sports.yahoo.com/luka-doncic-takes-pla...  25/11/2019  \n",
       "4  https://sports.yahoo.com/three-things-know-luk...  25/11/2019  "
      ]
     },
     "execution_count": 227,
     "metadata": {},
     "output_type": "execute_result"
    }
   ],
   "source": [
    "#in real setting we'll read the database from file here\n",
    "#meta = pd.read_csv(\"database.csv\")\n",
    "\n",
    "#this is our database\n",
    "final = final_data.drop(['text'], axis=1).copy()\n",
    "final.head(5)"
   ]
  },
  {
   "cell_type": "code",
   "execution_count": 228,
   "metadata": {},
   "outputs": [],
   "source": [
    "def connect_id_df(retrieved_id, df):\n",
    "    return df[df.ID.isin(retrieved_id)].reset_index(drop=True)"
   ]
  },
  {
   "cell_type": "code",
   "execution_count": 229,
   "metadata": {},
   "outputs": [
    {
     "data": {
      "text/html": [
       "<div>\n",
       "<style scoped>\n",
       "    .dataframe tbody tr th:only-of-type {\n",
       "        vertical-align: middle;\n",
       "    }\n",
       "\n",
       "    .dataframe tbody tr th {\n",
       "        vertical-align: top;\n",
       "    }\n",
       "\n",
       "    .dataframe thead th {\n",
       "        text-align: right;\n",
       "    }\n",
       "</style>\n",
       "<table border=\"1\" class=\"dataframe\">\n",
       "  <thead>\n",
       "    <tr style=\"text-align: right;\">\n",
       "      <th></th>\n",
       "      <th>ID</th>\n",
       "      <th>Title</th>\n",
       "      <th>Summary</th>\n",
       "      <th>Link</th>\n",
       "      <th>Published</th>\n",
       "    </tr>\n",
       "  </thead>\n",
       "  <tbody>\n",
       "    <tr>\n",
       "      <th>0</th>\n",
       "      <td>1</td>\n",
       "      <td>king texas doncic drop 41 houston</td>\n",
       "      <td>every maverick game brings new milestone luka ...</td>\n",
       "      <td>https://sports.yahoo.com/luka-doncic-mavericks...</td>\n",
       "      <td>24/11/2019</td>\n",
       "    </tr>\n",
       "    <tr>\n",
       "      <th>1</th>\n",
       "      <td>41</td>\n",
       "      <td>doncic hardaway jr lead mavs 137123 rout rocket</td>\n",
       "      <td>dallas coach rick carlisle ’ want team get ove...</td>\n",
       "      <td>https://sports.yahoo.com/doncic-hardaway-jr-le...</td>\n",
       "      <td>25/11/2019</td>\n",
       "    </tr>\n",
       "    <tr>\n",
       "      <th>2</th>\n",
       "      <td>45</td>\n",
       "      <td>watch luka doncic drop 41 rocket 137123 maveri...</td>\n",
       "      <td>james harden score 32 point</td>\n",
       "      <td>https://sports.yahoo.com/watch-luka-doncic-dro...</td>\n",
       "      <td>25/11/2019</td>\n",
       "    </tr>\n",
       "    <tr>\n",
       "      <th>3</th>\n",
       "      <td>46</td>\n",
       "      <td>game recap maverick 137 rocket 123</td>\n",
       "      <td>luka doncic drop 41 point add 10 assist 6 rebo...</td>\n",
       "      <td>https://sports.yahoo.com/game-recap-mavericks-...</td>\n",
       "      <td>24/11/2019</td>\n",
       "    </tr>\n",
       "    <tr>\n",
       "      <th>4</th>\n",
       "      <td>49</td>\n",
       "      <td>highlight luka doncic maverick v rocket</td>\n",
       "      <td></td>\n",
       "      <td>https://sports.yahoo.com/highlights-luka-donci...</td>\n",
       "      <td>24/11/2019</td>\n",
       "    </tr>\n",
       "  </tbody>\n",
       "</table>\n",
       "</div>"
      ],
      "text/plain": [
       "   ID                                              Title  \\\n",
       "0   1                 king texas doncic drop 41 houston    \n",
       "1  41   doncic hardaway jr lead mavs 137123 rout rocket    \n",
       "2  45  watch luka doncic drop 41 rocket 137123 maveri...   \n",
       "3  46                game recap maverick 137 rocket 123    \n",
       "4  49           highlight luka doncic maverick v rocket    \n",
       "\n",
       "                                             Summary  \\\n",
       "0  every maverick game brings new milestone luka ...   \n",
       "1  dallas coach rick carlisle ’ want team get ove...   \n",
       "2                       james harden score 32 point    \n",
       "3  luka doncic drop 41 point add 10 assist 6 rebo...   \n",
       "4                                                      \n",
       "\n",
       "                                                Link   Published  \n",
       "0  https://sports.yahoo.com/luka-doncic-mavericks...  24/11/2019  \n",
       "1  https://sports.yahoo.com/doncic-hardaway-jr-le...  25/11/2019  \n",
       "2  https://sports.yahoo.com/watch-luka-doncic-dro...  25/11/2019  \n",
       "3  https://sports.yahoo.com/game-recap-mavericks-...  24/11/2019  \n",
       "4  https://sports.yahoo.com/highlights-luka-donci...  24/11/2019  "
      ]
     },
     "execution_count": 229,
     "metadata": {},
     "output_type": "execute_result"
    }
   ],
   "source": [
    "result_final = connect_id_df(result_IDs, final)\n",
    "result_final.head(5)"
   ]
  },
  {
   "cell_type": "markdown",
   "metadata": {},
   "source": [
    "### Ranked Retrieval"
   ]
  },
  {
   "cell_type": "code",
   "execution_count": 230,
   "metadata": {},
   "outputs": [],
   "source": [
    "query_vec = average_vectors(word2vec, test_split)"
   ]
  },
  {
   "cell_type": "code",
   "execution_count": 231,
   "metadata": {},
   "outputs": [],
   "source": [
    "result_vecs = connect_id_df(result_IDs, doc_vecs)"
   ]
  },
  {
   "cell_type": "code",
   "execution_count": 232,
   "metadata": {},
   "outputs": [],
   "source": [
    "def cos_similarity(a, b):\n",
    "  dot = np.dot(a, b)\n",
    "  norma = np.linalg.norm(a)\n",
    "  normb = np.linalg.norm(b)\n",
    "  cos = dot / (norma * normb)\n",
    "  return(cos)"
   ]
  },
  {
   "cell_type": "code",
   "execution_count": 233,
   "metadata": {},
   "outputs": [],
   "source": [
    "cos_sim = []\n",
    "for i in range(len(result_vecs)):\n",
    "  doc_vec = result_vecs.loc[i,:].drop(['ID'])\n",
    "  cos_sim.append(cos_similarity(doc_vec, query_vec))\n",
    "result_final['rank'] = cos_sim"
   ]
  },
  {
   "cell_type": "code",
   "execution_count": 234,
   "metadata": {},
   "outputs": [
    {
     "data": {
      "text/html": [
       "<div>\n",
       "<style scoped>\n",
       "    .dataframe tbody tr th:only-of-type {\n",
       "        vertical-align: middle;\n",
       "    }\n",
       "\n",
       "    .dataframe tbody tr th {\n",
       "        vertical-align: top;\n",
       "    }\n",
       "\n",
       "    .dataframe thead th {\n",
       "        text-align: right;\n",
       "    }\n",
       "</style>\n",
       "<table border=\"1\" class=\"dataframe\">\n",
       "  <thead>\n",
       "    <tr style=\"text-align: right;\">\n",
       "      <th></th>\n",
       "      <th>ID</th>\n",
       "      <th>Title</th>\n",
       "      <th>Summary</th>\n",
       "      <th>Link</th>\n",
       "      <th>Published</th>\n",
       "      <th>rank</th>\n",
       "    </tr>\n",
       "  </thead>\n",
       "  <tbody>\n",
       "    <tr>\n",
       "      <th>4</th>\n",
       "      <td>49</td>\n",
       "      <td>highlight luka doncic maverick v rocket</td>\n",
       "      <td></td>\n",
       "      <td>https://sports.yahoo.com/highlights-luka-donci...</td>\n",
       "      <td>24/11/2019</td>\n",
       "      <td>0.140618</td>\n",
       "    </tr>\n",
       "    <tr>\n",
       "      <th>2</th>\n",
       "      <td>45</td>\n",
       "      <td>watch luka doncic drop 41 rocket 137123 maveri...</td>\n",
       "      <td>james harden score 32 point</td>\n",
       "      <td>https://sports.yahoo.com/watch-luka-doncic-dro...</td>\n",
       "      <td>25/11/2019</td>\n",
       "      <td>0.261327</td>\n",
       "    </tr>\n",
       "    <tr>\n",
       "      <th>1</th>\n",
       "      <td>41</td>\n",
       "      <td>doncic hardaway jr lead mavs 137123 rout rocket</td>\n",
       "      <td>dallas coach rick carlisle ’ want team get ove...</td>\n",
       "      <td>https://sports.yahoo.com/doncic-hardaway-jr-le...</td>\n",
       "      <td>25/11/2019</td>\n",
       "      <td>0.358058</td>\n",
       "    </tr>\n",
       "    <tr>\n",
       "      <th>3</th>\n",
       "      <td>46</td>\n",
       "      <td>game recap maverick 137 rocket 123</td>\n",
       "      <td>luka doncic drop 41 point add 10 assist 6 rebo...</td>\n",
       "      <td>https://sports.yahoo.com/game-recap-mavericks-...</td>\n",
       "      <td>24/11/2019</td>\n",
       "      <td>0.375821</td>\n",
       "    </tr>\n",
       "    <tr>\n",
       "      <th>0</th>\n",
       "      <td>1</td>\n",
       "      <td>king texas doncic drop 41 houston</td>\n",
       "      <td>every maverick game brings new milestone luka ...</td>\n",
       "      <td>https://sports.yahoo.com/luka-doncic-mavericks...</td>\n",
       "      <td>24/11/2019</td>\n",
       "      <td>0.517244</td>\n",
       "    </tr>\n",
       "  </tbody>\n",
       "</table>\n",
       "</div>"
      ],
      "text/plain": [
       "   ID                                              Title  \\\n",
       "4  49           highlight luka doncic maverick v rocket    \n",
       "2  45  watch luka doncic drop 41 rocket 137123 maveri...   \n",
       "1  41   doncic hardaway jr lead mavs 137123 rout rocket    \n",
       "3  46                game recap maverick 137 rocket 123    \n",
       "0   1                 king texas doncic drop 41 houston    \n",
       "\n",
       "                                             Summary  \\\n",
       "4                                                      \n",
       "2                       james harden score 32 point    \n",
       "1  dallas coach rick carlisle ’ want team get ove...   \n",
       "3  luka doncic drop 41 point add 10 assist 6 rebo...   \n",
       "0  every maverick game brings new milestone luka ...   \n",
       "\n",
       "                                                Link   Published      rank  \n",
       "4  https://sports.yahoo.com/highlights-luka-donci...  24/11/2019  0.140618  \n",
       "2  https://sports.yahoo.com/watch-luka-doncic-dro...  25/11/2019  0.261327  \n",
       "1  https://sports.yahoo.com/doncic-hardaway-jr-le...  25/11/2019  0.358058  \n",
       "3  https://sports.yahoo.com/game-recap-mavericks-...  24/11/2019  0.375821  \n",
       "0  https://sports.yahoo.com/luka-doncic-mavericks...  24/11/2019  0.517244  "
      ]
     },
     "execution_count": 234,
     "metadata": {},
     "output_type": "execute_result"
    }
   ],
   "source": [
    "result_final.sort_values('rank', axis = 0)"
   ]
  },
  {
   "cell_type": "code",
   "execution_count": 248,
   "metadata": {},
   "outputs": [],
   "source": [
    "def rank_results(query, results):\n",
    "  query_norm = article_query(query)\n",
    "  query_vec = average_vectors(word2vec, query_norm)\n",
    "  result_vecs = connect_id_df(results.ID, doc_vecs)\n",
    "  cos_sim = []\n",
    "  for i in range(len(result_vecs)):\n",
    "    doc_vec = result_vecs.loc[i,:].drop(['ID'])\n",
    "    cos_sim.append(cos_similarity(doc_vec, query_vec))\n",
    "  results['rank'] = cos_sim\n",
    "  results = results.sort_values('rank', axis=0)\n",
    "  return results"
   ]
  },
  {
   "cell_type": "code",
   "execution_count": 249,
   "metadata": {},
   "outputs": [],
   "source": [
    "final_result = rank_results(\"Mavericks\", result_final)"
   ]
  },
  {
   "cell_type": "markdown",
   "metadata": {},
   "source": [
    "### Date filtering"
   ]
  },
  {
   "cell_type": "code",
   "execution_count": 250,
   "metadata": {},
   "outputs": [
    {
     "data": {
      "text/html": [
       "<div>\n",
       "<style scoped>\n",
       "    .dataframe tbody tr th:only-of-type {\n",
       "        vertical-align: middle;\n",
       "    }\n",
       "\n",
       "    .dataframe tbody tr th {\n",
       "        vertical-align: top;\n",
       "    }\n",
       "\n",
       "    .dataframe thead th {\n",
       "        text-align: right;\n",
       "    }\n",
       "</style>\n",
       "<table border=\"1\" class=\"dataframe\">\n",
       "  <thead>\n",
       "    <tr style=\"text-align: right;\">\n",
       "      <th></th>\n",
       "      <th>ID</th>\n",
       "      <th>Title</th>\n",
       "      <th>Summary</th>\n",
       "      <th>Link</th>\n",
       "      <th>Published</th>\n",
       "      <th>rank</th>\n",
       "    </tr>\n",
       "  </thead>\n",
       "  <tbody>\n",
       "    <tr>\n",
       "      <th>0</th>\n",
       "      <td>41</td>\n",
       "      <td>doncic hardaway jr lead mavs 137123 rout rocket</td>\n",
       "      <td>dallas coach rick carlisle ’ want team get ove...</td>\n",
       "      <td>https://sports.yahoo.com/doncic-hardaway-jr-le...</td>\n",
       "      <td>25/11/2019</td>\n",
       "      <td>0.275744</td>\n",
       "    </tr>\n",
       "    <tr>\n",
       "      <th>1</th>\n",
       "      <td>45</td>\n",
       "      <td>watch luka doncic drop 41 rocket 137123 maveri...</td>\n",
       "      <td>james harden score 32 point</td>\n",
       "      <td>https://sports.yahoo.com/watch-luka-doncic-dro...</td>\n",
       "      <td>25/11/2019</td>\n",
       "      <td>0.325240</td>\n",
       "    </tr>\n",
       "  </tbody>\n",
       "</table>\n",
       "</div>"
      ],
      "text/plain": [
       "   ID                                              Title  \\\n",
       "0  41   doncic hardaway jr lead mavs 137123 rout rocket    \n",
       "1  45  watch luka doncic drop 41 rocket 137123 maveri...   \n",
       "\n",
       "                                             Summary  \\\n",
       "0  dallas coach rick carlisle ’ want team get ove...   \n",
       "1                       james harden score 32 point    \n",
       "\n",
       "                                                Link   Published      rank  \n",
       "0  https://sports.yahoo.com/doncic-hardaway-jr-le...  25/11/2019  0.275744  \n",
       "1  https://sports.yahoo.com/watch-luka-doncic-dro...  25/11/2019  0.325240  "
      ]
     },
     "execution_count": 250,
     "metadata": {},
     "output_type": "execute_result"
    }
   ],
   "source": [
    "test = \"25/11/2019\"\n",
    "\n",
    "#get news published on \"test\"\n",
    "results_single = result_final[result_final.Published==test].reset_index(drop=True)\n",
    "results_single.head()"
   ]
  },
  {
   "cell_type": "code",
   "execution_count": 253,
   "metadata": {},
   "outputs": [
    {
     "data": {
      "text/html": [
       "<div>\n",
       "<style scoped>\n",
       "    .dataframe tbody tr th:only-of-type {\n",
       "        vertical-align: middle;\n",
       "    }\n",
       "\n",
       "    .dataframe tbody tr th {\n",
       "        vertical-align: top;\n",
       "    }\n",
       "\n",
       "    .dataframe thead th {\n",
       "        text-align: right;\n",
       "    }\n",
       "</style>\n",
       "<table border=\"1\" class=\"dataframe\">\n",
       "  <thead>\n",
       "    <tr style=\"text-align: right;\">\n",
       "      <th></th>\n",
       "      <th>ID</th>\n",
       "      <th>Title</th>\n",
       "      <th>Summary</th>\n",
       "      <th>Link</th>\n",
       "      <th>Published</th>\n",
       "      <th>rank</th>\n",
       "    </tr>\n",
       "  </thead>\n",
       "  <tbody>\n",
       "    <tr>\n",
       "      <th>0</th>\n",
       "      <td>41</td>\n",
       "      <td>doncic hardaway jr lead mavs 137123 rout rocket</td>\n",
       "      <td>dallas coach rick carlisle ’ want team get ove...</td>\n",
       "      <td>https://sports.yahoo.com/doncic-hardaway-jr-le...</td>\n",
       "      <td>25/11/2019</td>\n",
       "      <td>0.275744</td>\n",
       "    </tr>\n",
       "    <tr>\n",
       "      <th>1</th>\n",
       "      <td>45</td>\n",
       "      <td>watch luka doncic drop 41 rocket 137123 maveri...</td>\n",
       "      <td>james harden score 32 point</td>\n",
       "      <td>https://sports.yahoo.com/watch-luka-doncic-dro...</td>\n",
       "      <td>25/11/2019</td>\n",
       "      <td>0.325240</td>\n",
       "    </tr>\n",
       "  </tbody>\n",
       "</table>\n",
       "</div>"
      ],
      "text/plain": [
       "   ID                                              Title  \\\n",
       "0  41   doncic hardaway jr lead mavs 137123 rout rocket    \n",
       "1  45  watch luka doncic drop 41 rocket 137123 maveri...   \n",
       "\n",
       "                                             Summary  \\\n",
       "0  dallas coach rick carlisle ’ want team get ove...   \n",
       "1                       james harden score 32 point    \n",
       "\n",
       "                                                Link   Published      rank  \n",
       "0  https://sports.yahoo.com/doncic-hardaway-jr-le...  25/11/2019  0.275744  \n",
       "1  https://sports.yahoo.com/watch-luka-doncic-dro...  25/11/2019  0.325240  "
      ]
     },
     "execution_count": 253,
     "metadata": {},
     "output_type": "execute_result"
    }
   ],
   "source": [
    "#get today's date\n",
    "from datetime import date, timedelta\n",
    "\n",
    "def find_today():\n",
    "  today = date.today()\n",
    "  today = today.strftime(\"%d/%m/%Y\")\n",
    "  return [today]\n",
    "\n",
    "results_today = result_final[result_final.Published.isin(get_today())].reset_index(drop=True)\n",
    "results_today.head()"
   ]
  },
  {
   "cell_type": "code",
   "execution_count": 254,
   "metadata": {},
   "outputs": [
    {
     "data": {
      "text/plain": [
       "['25/11/2019']"
      ]
     },
     "execution_count": 254,
     "metadata": {},
     "output_type": "execute_result"
    }
   ],
   "source": [
    "find_today()"
   ]
  },
  {
   "cell_type": "code",
   "execution_count": 255,
   "metadata": {},
   "outputs": [],
   "source": [
    "def daterange(start, end):\n",
    "    for n in range(int ((end - start).days)+1):\n",
    "        yield start + timedelta(n)\n",
    "\n",
    "def format_date(dt):\n",
    "  dt = dt.split(\"/\")\n",
    "  dt = date(int(dt[2]), int(dt[1]), int(dt[0]))\n",
    "  return(dt)\n",
    "\n",
    "def date_interval(interval):\n",
    "  interval = interval.split(\"-\")\n",
    "  start = format_date(interval[0])\n",
    "  end = format_date(interval[1])\n",
    "  interval = []\n",
    "  for dt in daterange(start, end):\n",
    "      interval.append(dt.strftime(\"%d/%m/%Y\"))\n",
    "  return interval"
   ]
  },
  {
   "cell_type": "code",
   "execution_count": 256,
   "metadata": {},
   "outputs": [
    {
     "data": {
      "text/plain": [
       "['24/11/2019', '25/11/2019']"
      ]
     },
     "execution_count": 256,
     "metadata": {},
     "output_type": "execute_result"
    }
   ],
   "source": [
    "date_interval(\"24/11/2019 - 25/11/2019\")"
   ]
  },
  {
   "cell_type": "code",
   "execution_count": 258,
   "metadata": {},
   "outputs": [
    {
     "data": {
      "text/plain": [
       "10"
      ]
     },
     "execution_count": 258,
     "metadata": {},
     "output_type": "execute_result"
    }
   ],
   "source": [
    "s = \"25/11/2019\"\n",
    "len(s)"
   ]
  },
  {
   "cell_type": "code",
   "execution_count": 259,
   "metadata": {},
   "outputs": [],
   "source": [
    "def filter_date(dat, df):\n",
    "  if dat == \"today\":\n",
    "    dat = get_today()\n",
    "  if len(dat) == 10:\n",
    "    dat = [dat]\n",
    "  if len(dat) > 11:\n",
    "    dat = date_interval(dat)\n",
    "  if len(dat) is 0:\n",
    "    return(df)\n",
    "\n",
    "  result = df[df.Published.isin(dat)].reset_index(drop=True)\n",
    "  return result"
   ]
  },
  {
   "cell_type": "markdown",
   "metadata": {},
   "source": [
    "### Printing results to user"
   ]
  },
  {
   "cell_type": "code",
   "execution_count": 270,
   "metadata": {},
   "outputs": [],
   "source": [
    "def print_results(result_df):\n",
    "  for i in range(len(result_df)):\n",
    "    res = result_df.loc[i, :]\n",
    "    print(res.Title)\n",
    "    print(res.Summary)\n",
    "    if i == len(result_df):\n",
    "        print(res.Link)\n",
    "    else:\n",
    "        print(\"{}\\n\" .format(res.Link))"
   ]
  },
  {
   "cell_type": "code",
   "execution_count": 271,
   "metadata": {},
   "outputs": [
    {
     "name": "stdout",
     "output_type": "stream",
     "text": [
      "king texas doncic drop 41 houston \n",
      "every maverick game brings new milestone luka doncic sunday become secondyoungest player nba history top 30 point 4 straight game \n",
      "https://sports.yahoo.com/luka-doncic-mavericks-rockets-durant-harden-westbrook-235024032.html?src=rss\n",
      "\n",
      "doncic hardaway jr lead mavs 137123 rout rocket \n",
      "dallas coach rick carlisle ’ want team get overexcited convincing victory houston rocket sunday luka doncic score 41 point tim hardaway jr add seasonhigh 31 maverick never trail 137123 romp maverick score 45 point first \n",
      "https://sports.yahoo.com/doncic-hardaway-jr-lead-mavs-137-123-rout-230403018--nba.html?src=rss\n",
      "\n",
      "watch luka doncic drop 41 rocket 137123 maverick win \n",
      "james harden score 32 point \n",
      "https://sports.yahoo.com/watch-luka-doncic-drop-41-000433140.html?src=rss\n",
      "\n",
      "game recap maverick 137 rocket 123 \n",
      "luka doncic drop 41 point add 10 assist 6 rebound dallas beat houston \n",
      "https://sports.yahoo.com/game-recap-mavericks-137-rockets-235458823.html?src=rss\n",
      "\n",
      "highlight luka doncic maverick v rocket \n",
      "\n",
      "https://sports.yahoo.com/highlights-luka-doncic-mavericks-vs-231822114.html?src=rss\n",
      "\n"
     ]
    }
   ],
   "source": [
    "print_results(final_result)"
   ]
  },
  {
   "cell_type": "markdown",
   "metadata": {},
   "source": [
    "### Put it all together"
   ]
  },
  {
   "cell_type": "code",
   "execution_count": 272,
   "metadata": {},
   "outputs": [],
   "source": [
    "def search(query, dat=None):\n",
    "  result = search_vengine(query)\n",
    "  result = connect_id_df(result, final)\n",
    "  result = rank_results(query, result)\n",
    "\n",
    "  if dat is not None:\n",
    "    result = filter_date(dat, result)\n",
    "\n",
    "  print_results(result)"
   ]
  },
  {
   "cell_type": "code",
   "execution_count": 273,
   "metadata": {},
   "outputs": [
    {
     "name": "stdout",
     "output_type": "stream",
     "text": [
      "What are you looking for:james harden\n",
      "Date:today\n",
      "watch luka doncic drop 41 rocket 137123 maverick win \n",
      "james harden score 32 point \n",
      "https://sports.yahoo.com/watch-luka-doncic-drop-41-000433140.html?src=rss\n",
      "\n"
     ]
    }
   ],
   "source": [
    "query = input(\"What are you looking for:\")\n",
    "dat = input(\"Date:\")\n",
    "search(query, dat)"
   ]
  },
  {
   "cell_type": "markdown",
   "metadata": {},
   "source": [
    "# Automated crawling for every hour"
   ]
  },
  {
   "cell_type": "code",
   "execution_count": 275,
   "metadata": {},
   "outputs": [],
   "source": [
    "URLS = [\"http://feeds.bbci.co.uk/sport/football/rss.xml?edition=uk\",\n",
    "       \"https://www.espn.com/espn/rss/nba/news\",\n",
    "       \"https://www.skysports.com/rss/12040\",\n",
    "       \"https://www.cbssports.com/rss/headlines/nba/\",\n",
    "       \"https://api.foxsports.com/v1/rss?partnerKey=zBaFxRyGKCfxBagJG9b8pqLyndmvo7UU\"]"
   ]
  },
  {
   "cell_type": "code",
   "execution_count": 278,
   "metadata": {},
   "outputs": [
    {
     "name": "stdout",
     "output_type": "stream",
     "text": [
      "Crawling http://feeds.bbci.co.uk/sport/football/rss.xml?edition=uk\n",
      "XXX % of entries were already scraped.\n",
      "\n",
      "Crawling https://www.espn.com/espn/rss/nba/news\n",
      "XXX % of entries were already scraped.\n",
      "\n",
      "Crawling https://www.skysports.com/rss/12040\n",
      "XXX % of entries were already scraped.\n",
      "\n",
      "Crawling https://www.cbssports.com/rss/headlines/nba/\n",
      "XXX % of entries were already scraped.\n",
      "\n",
      "Crawling https://api.foxsports.com/v1/rss?partnerKey=zBaFxRyGKCfxBagJG9b8pqLyndmvo7UU\n",
      "XXX % of entries were already scraped.\n",
      "\n"
     ]
    }
   ],
   "source": [
    "for url in URLS:\n",
    "  print (\"Crawling {}\" .format(url))\n",
    "  #perc, added = crawl(URL=url, PATH=OUTPUT_DIR)\n",
    "  print(\"XXX % of entries were already scraped.\\n\")\n",
    "  #|update_index_vecs(df=added, index_path=INDEX_PATH, vec_path=VECTOR_PATH)"
   ]
  },
  {
   "cell_type": "code",
   "execution_count": 282,
   "metadata": {},
   "outputs": [],
   "source": [
    "import time\n",
    "\n",
    "#while True:\n",
    "#  for url in URLS:\n",
    "#   print (\"Crawling {}\" .format(url))\n",
    "    #perc, added = crawl(URL=url, PATH=OUTPUT_DIR)\n",
    "#   print(\"XXX % of entries were already scraped.\\n\")\n",
    "    #update_index_vecs(df=added, index_path=INDEX_PATH, vec_path=VECTOR_PATH)\n",
    "\n",
    "  #pause for an hour\n",
    "#  time.sleep(3600)"
   ]
  },
  {
   "cell_type": "code",
   "execution_count": 283,
   "metadata": {},
   "outputs": [],
   "source": [
    "#At this point I don't know what I'm doing ahaha"
   ]
  },
  {
   "cell_type": "code",
   "execution_count": null,
   "metadata": {},
   "outputs": [],
   "source": []
  }
 ],
 "metadata": {
  "kernelspec": {
   "display_name": "Python 3",
   "language": "python",
   "name": "python3"
  }
 },
 "nbformat": 4,
 "nbformat_minor": 2
}
